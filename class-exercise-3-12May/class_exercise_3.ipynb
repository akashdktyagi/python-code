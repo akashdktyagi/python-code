{
 "cells": [
  {
   "cell_type": "markdown",
   "metadata": {},
   "source": [
    "# Regular Expressions"
   ]
  },
  {
   "cell_type": "code",
   "execution_count": 1,
   "metadata": {
    "ExecuteTime": {
     "end_time": "2024-05-10T09:46:35.335858Z",
     "start_time": "2024-05-10T09:46:33.676425Z"
    }
   },
   "outputs": [],
   "source": [
    "import re"
   ]
  },
  {
   "cell_type": "code",
   "execution_count": 2,
   "metadata": {
    "ExecuteTime": {
     "end_time": "2024-05-10T09:46:35.349604Z",
     "start_time": "2024-05-10T09:46:33.692816Z"
    }
   },
   "outputs": [
    {
     "name": "stdout",
     "output_type": "stream",
     "text": [
      "re.compile('abc')\n",
      "<class 're.Pattern'>\n"
     ]
    }
   ],
   "source": [
    "pat = re.compile(r'abc')\n",
    "print(pat)\n",
    "print(type(pat))"
   ]
  },
  {
   "cell_type": "code",
   "execution_count": 3,
   "metadata": {
    "ExecuteTime": {
     "end_time": "2024-05-10T09:46:35.350087Z",
     "start_time": "2024-05-10T09:46:33.695967Z"
    }
   },
   "outputs": [
    {
     "name": "stdout",
     "output_type": "stream",
     "text": [
      "None\n",
      "<re.Match object; span=(0, 3), match='abc'>\n"
     ]
    }
   ],
   "source": [
    "mat_abc1 = pat.match('ABC,ABc,AbC,abc')\n",
    "mat_abc2 = pat.match('abc,ABc,AbC,abc')\n",
    "print(mat_abc1)\n",
    "print(mat_abc2)"
   ]
  },
  {
   "cell_type": "code",
   "execution_count": 4,
   "metadata": {
    "ExecuteTime": {
     "end_time": "2024-05-10T09:46:35.350409Z",
     "start_time": "2024-05-10T09:46:33.704348Z"
    }
   },
   "outputs": [
    {
     "name": "stdout",
     "output_type": "stream",
     "text": [
      "<re.Match object; span=(12, 15), match='abc'>\n",
      "<re.Match object; span=(0, 3), match='abc'>\n",
      "<class 're.Match'>\n"
     ]
    }
   ],
   "source": [
    "sear_abc1 = pat.search('ABC,ABc,AbC,abc')\n",
    "sear_abc2 = pat.search('abc,ABc,AbC,abc')\n",
    "print(sear_abc1)\n",
    "print(sear_abc2)\n",
    "print(type(sear_abc1))"
   ]
  },
  {
   "cell_type": "code",
   "execution_count": 5,
   "metadata": {
    "ExecuteTime": {
     "end_time": "2024-05-10T09:46:35.352142Z",
     "start_time": "2024-05-10T09:46:33.713480Z"
    }
   },
   "outputs": [
    {
     "name": "stdout",
     "output_type": "stream",
     "text": [
      "['abc']\n",
      "['abc', 'abc']\n"
     ]
    }
   ],
   "source": [
    "find_abc1 = pat.findall('ABC,ABc,AbC,abc')\n",
    "find_abc2 = pat.findall('abc,ABc,AbC,abc')\n",
    "print(find_abc1)\n",
    "print(find_abc2)"
   ]
  },
  {
   "cell_type": "code",
   "execution_count": 6,
   "metadata": {
    "ExecuteTime": {
     "end_time": "2024-05-10T09:46:35.352823Z",
     "start_time": "2024-05-10T09:46:33.722115Z"
    }
   },
   "outputs": [
    {
     "name": "stdout",
     "output_type": "stream",
     "text": [
      "<callable_iterator object at 0x1066e4ac0>\n",
      "<re.Match object; span=(0, 3), match='abc'>\n",
      "<re.Match object; span=(8, 11), match='abc'>\n",
      "<re.Match object; span=(12, 15), match='abc'>\n"
     ]
    }
   ],
   "source": [
    "finditer_abc = pat.finditer('abc,ABc,abc,abc')\n",
    "\n",
    "print(finditer_abc)\n",
    "\n",
    "for m in finditer_abc:\n",
    "    print(m)\n",
    "    \n"
   ]
  },
  {
   "cell_type": "code",
   "execution_count": 6,
   "metadata": {
    "scrolled": true,
    "ExecuteTime": {
     "end_time": "2024-05-10T09:46:35.353576Z",
     "start_time": "2024-05-10T09:46:33.731033Z"
    }
   },
   "outputs": [],
   "source": []
  },
  {
   "cell_type": "markdown",
   "metadata": {},
   "source": [
    "## Metacharacters"
   ]
  },
  {
   "cell_type": "markdown",
   "metadata": {},
   "source": [
    "### Metacharacters that match one character"
   ]
  },
  {
   "cell_type": "markdown",
   "metadata": {},
   "source": [
    "#### Dot (.)"
   ]
  },
  {
   "cell_type": "code",
   "execution_count": 7,
   "metadata": {
    "scrolled": true,
    "ExecuteTime": {
     "end_time": "2024-05-10T09:46:35.354443Z",
     "start_time": "2024-05-10T09:46:33.737462Z"
    }
   },
   "outputs": [
    {
     "name": "stdout",
     "output_type": "stream",
     "text": [
      "['a', '1', 'A', '#']\n"
     ]
    }
   ],
   "source": [
    "# Dot exmaple\n",
    "# ex1\n",
    "p = re.compile(r'.')\n",
    "m = p.findall('a1\\nA#')\n",
    "print(m)"
   ]
  },
  {
   "cell_type": "code",
   "execution_count": 8,
   "metadata": {
    "ExecuteTime": {
     "end_time": "2024-05-10T09:46:35.357254Z",
     "start_time": "2024-05-10T09:46:33.745603Z"
    }
   },
   "outputs": [
    {
     "name": "stdout",
     "output_type": "stream",
     "text": [
      "['cat', 'bat', 'sat']\n"
     ]
    }
   ],
   "source": [
    "# ex2\n",
    "p = re.compile(r'.at')\n",
    "m = p.findall('cat bat sat cap')\n",
    "print(m)"
   ]
  },
  {
   "cell_type": "markdown",
   "metadata": {},
   "source": [
    "#### Character Class ([])"
   ]
  },
  {
   "cell_type": "code",
   "execution_count": 9,
   "metadata": {
    "ExecuteTime": {
     "end_time": "2024-05-10T09:46:35.357632Z",
     "start_time": "2024-05-10T09:46:33.753853Z"
    }
   },
   "outputs": [
    {
     "name": "stdout",
     "output_type": "stream",
     "text": [
      "['a', 'A']\n"
     ]
    }
   ],
   "source": [
    "# Character Class example\n",
    "# ex1\n",
    "p = re.compile(r'[aA]')\n",
    "m = p.findall('a1\\nA#')\n",
    "print(m)"
   ]
  },
  {
   "cell_type": "code",
   "execution_count": 10,
   "metadata": {
    "ExecuteTime": {
     "end_time": "2024-05-10T09:46:35.358154Z",
     "start_time": "2024-05-10T09:46:33.762261Z"
    }
   },
   "outputs": [
    {
     "name": "stdout",
     "output_type": "stream",
     "text": [
      "['a', 'b', 'c', 'A', 'B', 'C']\n"
     ]
    }
   ],
   "source": [
    "# ex2\n",
    "p = re.compile(r'[abcABC]')\n",
    "m = p.findall('abcABC')\n",
    "print(m)"
   ]
  },
  {
   "cell_type": "code",
   "execution_count": 11,
   "metadata": {
    "ExecuteTime": {
     "end_time": "2024-05-10T09:46:35.358703Z",
     "start_time": "2024-05-10T09:46:33.769032Z"
    }
   },
   "outputs": [
    {
     "name": "stdout",
     "output_type": "stream",
     "text": [
      "['d', '0', '3', 'z', '6']\n",
      "['C', 'D', 'E', 'b', 'c', '2', '3', '4']\n",
      "['e', '-', 'a', '-', '-', 'e', 'a']\n"
     ]
    }
   ],
   "source": [
    "# ex3: [a-zA-Z0-9]\n",
    "p = re.compile(r'[a-z0-9]')\n",
    "m = p.findall('d0A3z6P')\n",
    "print(m)\n",
    "\n",
    "# ex4: \n",
    "p = re.compile(r'[C-Eb-c2-4]')\n",
    "m = p.findall('ABCDEF abcd 012345')\n",
    "print(m)\n",
    "\n",
    "# ex5:\n",
    "p = re.compile(r'[-a-e]') # or [a-e-]\n",
    "m = p.findall('e-a-s-y, easy')\n",
    "print(m)\n"
   ]
  },
  {
   "cell_type": "code",
   "execution_count": 12,
   "metadata": {
    "scrolled": true,
    "ExecuteTime": {
     "end_time": "2024-05-10T09:46:35.359194Z",
     "start_time": "2024-05-10T09:46:33.776820Z"
    }
   },
   "outputs": [
    {
     "name": "stdout",
     "output_type": "stream",
     "text": [
      "[' ', ' ', ' ', 'G']\n",
      "['1', '2', '3', '^', 'o']\n"
     ]
    }
   ],
   "source": [
    "# ex6: [^]\n",
    "p = re.compile(r'[^0-9a-z]')\n",
    "m = p.findall('1 2 3 Go')\n",
    "print(m)\n",
    "\n",
    "# ex7:\n",
    "p = re.compile(r'[0-9^a-z]')\n",
    "m = p.findall('1 2 3 ^Go')\n",
    "print(m)"
   ]
  },
  {
   "cell_type": "markdown",
   "metadata": {},
   "source": [
    "#### \\d and \\D\n",
    "\n"
   ]
  },
  {
   "cell_type": "code",
   "execution_count": 13,
   "metadata": {
    "ExecuteTime": {
     "end_time": "2024-05-10T09:46:35.360183Z",
     "start_time": "2024-05-10T09:46:33.785627Z"
    }
   },
   "outputs": [
    {
     "name": "stdout",
     "output_type": "stream",
     "text": [
      "\\d matches:  ['1']\n",
      "\\D matches:  ['a', '\\n', 'A', '#']\n"
     ]
    }
   ],
   "source": [
    "# \\d and \\D examples\n",
    "# ex1\n",
    "p = re.compile(r'\\d')\n",
    "m = p.findall('a1\\nA#')\n",
    "print(\"\\d matches: \", m)\n",
    "\n",
    "# ex2\n",
    "p = re.compile(r'\\D')\n",
    "m = p.findall('a1\\nA#')\n",
    "print(\"\\D matches: \", m)"
   ]
  },
  {
   "cell_type": "code",
   "execution_count": 13,
   "metadata": {
    "ExecuteTime": {
     "end_time": "2024-05-10T09:46:35.360484Z",
     "start_time": "2024-05-10T09:46:33.793261Z"
    }
   },
   "outputs": [],
   "source": []
  },
  {
   "cell_type": "markdown",
   "metadata": {},
   "source": [
    "#### \\w and \\W"
   ]
  },
  {
   "cell_type": "code",
   "execution_count": 14,
   "metadata": {
    "ExecuteTime": {
     "end_time": "2024-05-10T09:46:35.361Z",
     "start_time": "2024-05-10T09:46:33.799437Z"
    }
   },
   "outputs": [
    {
     "name": "stdout",
     "output_type": "stream",
     "text": [
      "\\w matches:  ['_', 'a', 'E', '4']\n",
      "\\W matches:  ['#', '!', '$', '-']\n"
     ]
    }
   ],
   "source": [
    "# \\w and \\W examples\n",
    "# ex1\n",
    "p = re.compile(r'\\w')\n",
    "m = p.findall('_#a!E$4-')\n",
    "print(\"\\w matches: \", m)\n",
    "\n",
    "# ex2\n",
    "p = re.compile(r'\\W')\n",
    "m = p.findall('_#a!E$4-')\n",
    "print(\"\\W matches: \", m)"
   ]
  },
  {
   "cell_type": "markdown",
   "metadata": {},
   "source": [
    "#### \\s and \\S"
   ]
  },
  {
   "cell_type": "code",
   "execution_count": 15,
   "metadata": {
    "ExecuteTime": {
     "end_time": "2024-05-10T09:46:35.361886Z",
     "start_time": "2024-05-10T09:46:33.807938Z"
    }
   },
   "outputs": [
    {
     "name": "stdout",
     "output_type": "stream",
     "text": [
      "Name\tISSS610\tISSS666\n",
      "Joe Jones\tA\tA\n",
      "\n",
      "\\s matches:  ['\\t', '\\t', '\\n', ' ', '\\t', '\\t', '\\n']\n",
      "\\S matches:  ['N', 'a', 'm', 'e', 'I', 'S', 'S', 'S', '6', '1', '0', 'I', 'S', 'S', 'S', '6', '6', '6', 'J', 'o', 'e', 'J', 'o', 'n', 'e', 's', 'A', 'A']\n"
     ]
    }
   ],
   "source": [
    "# \\s and \\S examples\n",
    "# ex1\n",
    "text = 'Name\\tISSS610\\tISSS666\\nJoe Jones\\tA\\tA\\n'\n",
    "print(text)\n",
    "\n",
    "p = re.compile(r'\\s')\n",
    "m = p.findall(text)\n",
    "print(\"\\s matches: \", m)\n",
    "\n",
    "# ex2\n",
    "p = re.compile(r'\\S')\n",
    "m = p.findall(text)\n",
    "\n",
    "print(\"\\S matches: \", m)"
   ]
  },
  {
   "cell_type": "code",
   "execution_count": 15,
   "metadata": {
    "ExecuteTime": {
     "end_time": "2024-05-10T09:46:35.370575Z",
     "start_time": "2024-05-10T09:46:33.816589Z"
    }
   },
   "outputs": [],
   "source": []
  },
  {
   "cell_type": "markdown",
   "metadata": {},
   "source": [
    "### Escaping Character"
   ]
  },
  {
   "cell_type": "markdown",
   "metadata": {},
   "source": [
    "#### Backslash (\\\\) as Escaping Character"
   ]
  },
  {
   "cell_type": "code",
   "execution_count": 16,
   "metadata": {
    "ExecuteTime": {
     "end_time": "2024-05-10T09:46:35.371449Z",
     "start_time": "2024-05-10T09:46:33.822772Z"
    }
   },
   "outputs": [
    {
     "name": "stdout",
     "output_type": "stream",
     "text": [
      "<re.Match object; span=(0, 1), match='s'> <re.Match object; span=(3, 4), match='.'>\n"
     ]
    }
   ],
   "source": [
    "# Escaping Character\n",
    "# ex1\n",
    "p1 = re.compile(r'.')\n",
    "p2 = re.compile(r'\\.')\n",
    "m1 = p1.search('smu.edu.sg')\n",
    "m2 = p2.search('smu.edu.sg')\n",
    "print(m1, m2)"
   ]
  },
  {
   "cell_type": "code",
   "execution_count": 17,
   "metadata": {
    "ExecuteTime": {
     "end_time": "2024-05-10T09:46:35.373060Z",
     "start_time": "2024-05-10T09:46:33.829434Z"
    }
   },
   "outputs": [
    {
     "name": "stdout",
     "output_type": "stream",
     "text": [
      "['5\\\\d']\n"
     ]
    }
   ],
   "source": [
    "# ex2\n",
    "p = re.compile(r'\\d\\\\d')\n",
    "m = p.findall('135\\d')\n",
    "print(m)"
   ]
  },
  {
   "cell_type": "markdown",
   "metadata": {},
   "source": [
    "#### The Backslash Plague"
   ]
  },
  {
   "cell_type": "code",
   "execution_count": 18,
   "metadata": {
    "scrolled": true,
    "ExecuteTime": {
     "end_time": "2024-05-10T09:46:35.380568Z",
     "start_time": "2024-05-10T09:46:33.837435Z"
    }
   },
   "outputs": [
    {
     "ename": "error",
     "evalue": "bad escape (end of pattern) at position 0",
     "output_type": "error",
     "traceback": [
      "\u001B[0;31m---------------------------------------------------------------------------\u001B[0m",
      "\u001B[0;31merror\u001B[0m                                     Traceback (most recent call last)",
      "Cell \u001B[0;32mIn[18], line 4\u001B[0m\n\u001B[1;32m      1\u001B[0m \u001B[38;5;66;03m# The Backslash Plague\u001B[39;00m\n\u001B[1;32m      2\u001B[0m \u001B[38;5;66;03m# demo1\u001B[39;00m\n\u001B[0;32m----> 4\u001B[0m p \u001B[38;5;241m=\u001B[39m \u001B[43mre\u001B[49m\u001B[38;5;241;43m.\u001B[39;49m\u001B[43mcompile\u001B[49m\u001B[43m(\u001B[49m\u001B[38;5;124;43m'\u001B[39;49m\u001B[38;5;130;43;01m\\\\\u001B[39;49;00m\u001B[38;5;124;43m'\u001B[39;49m\u001B[43m)\u001B[49m\n\u001B[1;32m      5\u001B[0m m \u001B[38;5;241m=\u001B[39m p\u001B[38;5;241m.\u001B[39mfindall(\u001B[38;5;124m'\u001B[39m\u001B[38;5;124mD:\u001B[39m\u001B[38;5;124m\\\u001B[39m\u001B[38;5;124mCourses\u001B[39m\u001B[38;5;124m\\\u001B[39m\u001B[38;5;124mPython\u001B[39m\u001B[38;5;124m'\u001B[39m)\n\u001B[1;32m      6\u001B[0m \u001B[38;5;28mprint\u001B[39m(m)\n",
      "File \u001B[0;32m/usr/local/Cellar/python@3.9/3.9.17_1/Frameworks/Python.framework/Versions/3.9/lib/python3.9/re.py:252\u001B[0m, in \u001B[0;36mcompile\u001B[0;34m(pattern, flags)\u001B[0m\n\u001B[1;32m    250\u001B[0m \u001B[38;5;28;01mdef\u001B[39;00m \u001B[38;5;21mcompile\u001B[39m(pattern, flags\u001B[38;5;241m=\u001B[39m\u001B[38;5;241m0\u001B[39m):\n\u001B[1;32m    251\u001B[0m     \u001B[38;5;124m\"\u001B[39m\u001B[38;5;124mCompile a regular expression pattern, returning a Pattern object.\u001B[39m\u001B[38;5;124m\"\u001B[39m\n\u001B[0;32m--> 252\u001B[0m     \u001B[38;5;28;01mreturn\u001B[39;00m \u001B[43m_compile\u001B[49m\u001B[43m(\u001B[49m\u001B[43mpattern\u001B[49m\u001B[43m,\u001B[49m\u001B[43m \u001B[49m\u001B[43mflags\u001B[49m\u001B[43m)\u001B[49m\n",
      "File \u001B[0;32m/usr/local/Cellar/python@3.9/3.9.17_1/Frameworks/Python.framework/Versions/3.9/lib/python3.9/re.py:304\u001B[0m, in \u001B[0;36m_compile\u001B[0;34m(pattern, flags)\u001B[0m\n\u001B[1;32m    302\u001B[0m \u001B[38;5;28;01mif\u001B[39;00m \u001B[38;5;129;01mnot\u001B[39;00m sre_compile\u001B[38;5;241m.\u001B[39misstring(pattern):\n\u001B[1;32m    303\u001B[0m     \u001B[38;5;28;01mraise\u001B[39;00m \u001B[38;5;167;01mTypeError\u001B[39;00m(\u001B[38;5;124m\"\u001B[39m\u001B[38;5;124mfirst argument must be string or compiled pattern\u001B[39m\u001B[38;5;124m\"\u001B[39m)\n\u001B[0;32m--> 304\u001B[0m p \u001B[38;5;241m=\u001B[39m \u001B[43msre_compile\u001B[49m\u001B[38;5;241;43m.\u001B[39;49m\u001B[43mcompile\u001B[49m\u001B[43m(\u001B[49m\u001B[43mpattern\u001B[49m\u001B[43m,\u001B[49m\u001B[43m \u001B[49m\u001B[43mflags\u001B[49m\u001B[43m)\u001B[49m\n\u001B[1;32m    305\u001B[0m \u001B[38;5;28;01mif\u001B[39;00m \u001B[38;5;129;01mnot\u001B[39;00m (flags \u001B[38;5;241m&\u001B[39m DEBUG):\n\u001B[1;32m    306\u001B[0m     \u001B[38;5;28;01mif\u001B[39;00m \u001B[38;5;28mlen\u001B[39m(_cache) \u001B[38;5;241m>\u001B[39m\u001B[38;5;241m=\u001B[39m _MAXCACHE:\n\u001B[1;32m    307\u001B[0m         \u001B[38;5;66;03m# Drop the oldest item\u001B[39;00m\n",
      "File \u001B[0;32m/usr/local/Cellar/python@3.9/3.9.17_1/Frameworks/Python.framework/Versions/3.9/lib/python3.9/sre_compile.py:788\u001B[0m, in \u001B[0;36mcompile\u001B[0;34m(p, flags)\u001B[0m\n\u001B[1;32m    786\u001B[0m \u001B[38;5;28;01mif\u001B[39;00m isstring(p):\n\u001B[1;32m    787\u001B[0m     pattern \u001B[38;5;241m=\u001B[39m p\n\u001B[0;32m--> 788\u001B[0m     p \u001B[38;5;241m=\u001B[39m \u001B[43msre_parse\u001B[49m\u001B[38;5;241;43m.\u001B[39;49m\u001B[43mparse\u001B[49m\u001B[43m(\u001B[49m\u001B[43mp\u001B[49m\u001B[43m,\u001B[49m\u001B[43m \u001B[49m\u001B[43mflags\u001B[49m\u001B[43m)\u001B[49m\n\u001B[1;32m    789\u001B[0m \u001B[38;5;28;01melse\u001B[39;00m:\n\u001B[1;32m    790\u001B[0m     pattern \u001B[38;5;241m=\u001B[39m \u001B[38;5;28;01mNone\u001B[39;00m\n",
      "File \u001B[0;32m/usr/local/Cellar/python@3.9/3.9.17_1/Frameworks/Python.framework/Versions/3.9/lib/python3.9/sre_parse.py:947\u001B[0m, in \u001B[0;36mparse\u001B[0;34m(str, flags, state)\u001B[0m\n\u001B[1;32m    944\u001B[0m \u001B[38;5;28;01mdef\u001B[39;00m \u001B[38;5;21mparse\u001B[39m(\u001B[38;5;28mstr\u001B[39m, flags\u001B[38;5;241m=\u001B[39m\u001B[38;5;241m0\u001B[39m, state\u001B[38;5;241m=\u001B[39m\u001B[38;5;28;01mNone\u001B[39;00m):\n\u001B[1;32m    945\u001B[0m     \u001B[38;5;66;03m# parse 're' pattern into list of (opcode, argument) tuples\u001B[39;00m\n\u001B[0;32m--> 947\u001B[0m     source \u001B[38;5;241m=\u001B[39m \u001B[43mTokenizer\u001B[49m\u001B[43m(\u001B[49m\u001B[38;5;28;43mstr\u001B[39;49m\u001B[43m)\u001B[49m\n\u001B[1;32m    949\u001B[0m     \u001B[38;5;28;01mif\u001B[39;00m state \u001B[38;5;129;01mis\u001B[39;00m \u001B[38;5;28;01mNone\u001B[39;00m:\n\u001B[1;32m    950\u001B[0m         state \u001B[38;5;241m=\u001B[39m State()\n",
      "File \u001B[0;32m/usr/local/Cellar/python@3.9/3.9.17_1/Frameworks/Python.framework/Versions/3.9/lib/python3.9/sre_parse.py:233\u001B[0m, in \u001B[0;36mTokenizer.__init__\u001B[0;34m(self, string)\u001B[0m\n\u001B[1;32m    231\u001B[0m \u001B[38;5;28mself\u001B[39m\u001B[38;5;241m.\u001B[39mindex \u001B[38;5;241m=\u001B[39m \u001B[38;5;241m0\u001B[39m\n\u001B[1;32m    232\u001B[0m \u001B[38;5;28mself\u001B[39m\u001B[38;5;241m.\u001B[39mnext \u001B[38;5;241m=\u001B[39m \u001B[38;5;28;01mNone\u001B[39;00m\n\u001B[0;32m--> 233\u001B[0m \u001B[38;5;28;43mself\u001B[39;49m\u001B[38;5;241;43m.\u001B[39;49m\u001B[43m__next\u001B[49m\u001B[43m(\u001B[49m\u001B[43m)\u001B[49m\n",
      "File \u001B[0;32m/usr/local/Cellar/python@3.9/3.9.17_1/Frameworks/Python.framework/Versions/3.9/lib/python3.9/sre_parse.py:246\u001B[0m, in \u001B[0;36mTokenizer.__next\u001B[0;34m(self)\u001B[0m\n\u001B[1;32m    244\u001B[0m         char \u001B[38;5;241m+\u001B[39m\u001B[38;5;241m=\u001B[39m \u001B[38;5;28mself\u001B[39m\u001B[38;5;241m.\u001B[39mdecoded_string[index]\n\u001B[1;32m    245\u001B[0m     \u001B[38;5;28;01mexcept\u001B[39;00m \u001B[38;5;167;01mIndexError\u001B[39;00m:\n\u001B[0;32m--> 246\u001B[0m         \u001B[38;5;28;01mraise\u001B[39;00m error(\u001B[38;5;124m\"\u001B[39m\u001B[38;5;124mbad escape (end of pattern)\u001B[39m\u001B[38;5;124m\"\u001B[39m,\n\u001B[1;32m    247\u001B[0m                     \u001B[38;5;28mself\u001B[39m\u001B[38;5;241m.\u001B[39mstring, \u001B[38;5;28mlen\u001B[39m(\u001B[38;5;28mself\u001B[39m\u001B[38;5;241m.\u001B[39mstring) \u001B[38;5;241m-\u001B[39m \u001B[38;5;241m1\u001B[39m) \u001B[38;5;28;01mfrom\u001B[39;00m \u001B[38;5;28;01mNone\u001B[39;00m\n\u001B[1;32m    248\u001B[0m \u001B[38;5;28mself\u001B[39m\u001B[38;5;241m.\u001B[39mindex \u001B[38;5;241m=\u001B[39m index \u001B[38;5;241m+\u001B[39m \u001B[38;5;241m1\u001B[39m\n\u001B[1;32m    249\u001B[0m \u001B[38;5;28mself\u001B[39m\u001B[38;5;241m.\u001B[39mnext \u001B[38;5;241m=\u001B[39m char\n",
      "\u001B[0;31merror\u001B[0m: bad escape (end of pattern) at position 0"
     ]
    }
   ],
   "source": [
    "# The Backslash Plague\n",
    "# demo1\n",
    "\n",
    "p = re.compile('\\\\')\n",
    "m = p.findall('D:\\Courses\\Python')\n",
    "print(m)"
   ]
  },
  {
   "cell_type": "code",
   "execution_count": null,
   "metadata": {
    "ExecuteTime": {
     "start_time": "2024-05-10T09:46:34.636635Z"
    }
   },
   "outputs": [],
   "source": [
    "# The Backslash Plague\n",
    "# demo1\n",
    "\n",
    "print('\\\\')"
   ]
  },
  {
   "cell_type": "code",
   "execution_count": null,
   "metadata": {
    "ExecuteTime": {
     "start_time": "2024-05-10T09:46:34.641752Z"
    }
   },
   "outputs": [],
   "source": [
    "# The Backslash Plague\n",
    "# demo2\n",
    "\n",
    "p = re.compile(r'\\\\')\n",
    "m = p.findall('D:\\Courses\\Python')\n",
    "print(m)"
   ]
  },
  {
   "cell_type": "code",
   "execution_count": null,
   "metadata": {
    "scrolled": true,
    "ExecuteTime": {
     "start_time": "2024-05-10T09:46:34.646888Z"
    }
   },
   "outputs": [],
   "source": []
  },
  {
   "cell_type": "markdown",
   "metadata": {},
   "source": [
    "### Anchors"
   ]
  },
  {
   "cell_type": "markdown",
   "metadata": {},
   "source": [
    "#### Caret"
   ]
  },
  {
   "cell_type": "code",
   "execution_count": null,
   "metadata": {
    "ExecuteTime": {
     "start_time": "2024-05-10T09:46:34.651547Z"
    }
   },
   "outputs": [],
   "source": [
    "# Caret\n",
    "# ex1\n",
    "p = re.compile(r'^ab.')\n",
    "m = p.findall('abc abd abe abf')\n",
    "print(m)"
   ]
  },
  {
   "cell_type": "code",
   "execution_count": null,
   "metadata": {
    "scrolled": true,
    "ExecuteTime": {
     "start_time": "2024-05-10T09:46:34.656357Z"
    }
   },
   "outputs": [],
   "source": [
    "# ex2\n",
    "p = re.compile(r'^a[ab]c')\n",
    "m = p.findall('''aac\\nabc''')\n",
    "print(m)\n",
    "\n",
    "p = re.compile(r'^a[ab]c', re.M)\n",
    "m = p.findall('''aac\\nabc''')\n",
    "print(m)"
   ]
  },
  {
   "cell_type": "code",
   "execution_count": null,
   "metadata": {
    "ExecuteTime": {
     "start_time": "2024-05-10T09:46:34.660775Z"
    }
   },
   "outputs": [],
   "source": []
  },
  {
   "cell_type": "markdown",
   "metadata": {},
   "source": [
    "#### Dollar(\\$)"
   ]
  },
  {
   "cell_type": "code",
   "execution_count": null,
   "metadata": {
    "ExecuteTime": {
     "start_time": "2024-05-10T09:46:34.666139Z"
    }
   },
   "outputs": [],
   "source": [
    "# Dollar\n",
    "# ex1\n",
    "p = re.compile(r'ab.$')\n",
    "m = p.findall('abc abd abe abf')\n",
    "print(m)"
   ]
  },
  {
   "cell_type": "code",
   "execution_count": null,
   "metadata": {
    "ExecuteTime": {
     "start_time": "2024-05-10T09:46:34.671035Z"
    }
   },
   "outputs": [],
   "source": [
    "# ex2\n",
    "p = re.compile(r'[ab]c$')\n",
    "m = p.findall('ac\\nbc')\n",
    "print(m)\n",
    "\n",
    "p = re.compile(r'[ab]c$', re.M)\n",
    "m = p.findall('ac\\nbc')\n",
    "print(m)"
   ]
  },
  {
   "cell_type": "code",
   "execution_count": null,
   "metadata": {
    "ExecuteTime": {
     "start_time": "2024-05-10T09:46:34.675962Z"
    }
   },
   "outputs": [],
   "source": []
  },
  {
   "cell_type": "markdown",
   "metadata": {},
   "source": [
    "#### Word Boundary: \\b and \\B"
   ]
  },
  {
   "cell_type": "code",
   "execution_count": null,
   "metadata": {
    "ExecuteTime": {
     "start_time": "2024-05-10T09:46:34.681648Z"
    }
   },
   "outputs": [],
   "source": [
    "# Word Boundary:\n",
    "# ex1\n",
    "p = re.compile(r'\\b\\d\\d\\b')\n",
    "m = p.findall('1 2 3 11 12 13 111 112 113')\n",
    "print(m)"
   ]
  },
  {
   "cell_type": "code",
   "execution_count": null,
   "metadata": {
    "ExecuteTime": {
     "start_time": "2024-05-10T09:46:34.687422Z"
    }
   },
   "outputs": [],
   "source": [
    "# ex2\n",
    "p = re.compile(r'\\b\\w\\w\\b')\n",
    "m = p.findall('aa,ab;ac(AA)AB AC')\n",
    "print(m)"
   ]
  },
  {
   "cell_type": "code",
   "execution_count": null,
   "metadata": {
    "ExecuteTime": {
     "start_time": "2024-05-10T09:46:34.691903Z"
    }
   },
   "outputs": [],
   "source": []
  },
  {
   "cell_type": "markdown",
   "metadata": {},
   "source": [
    "### Quantifiers"
   ]
  },
  {
   "cell_type": "markdown",
   "metadata": {},
   "source": [
    "#### Asterisk (\\*), Question Mark (?) and Plus (+)"
   ]
  },
  {
   "cell_type": "code",
   "execution_count": null,
   "metadata": {
    "ExecuteTime": {
     "start_time": "2024-05-10T09:46:34.696696Z"
    }
   },
   "outputs": [],
   "source": [
    "# Asterisk, Question Mark and Plus\n",
    "# ex1\n",
    "p = re.compile(r'a[ab]*c')\n",
    "m = p.findall('a ab ac abc aac aabc aaac ababc')\n",
    "print(m)\n",
    "\n",
    "p = re.compile(r'a[ab]+c')\n",
    "m = p.findall('a ab ac abc aac aabc aaac ababc')\n",
    "print(m)\n",
    "\n",
    "p = re.compile(r'a[ab]?c')\n",
    "m = p.findall('a ab ac abc aac aabc aaac ababc')\n",
    "print(m)"
   ]
  },
  {
   "cell_type": "markdown",
   "metadata": {},
   "source": [
    "#### {m} and {m,n}"
   ]
  },
  {
   "cell_type": "code",
   "execution_count": null,
   "metadata": {
    "ExecuteTime": {
     "start_time": "2024-05-10T09:46:34.701086Z"
    }
   },
   "outputs": [],
   "source": [
    "# {m} and {m,n}\n",
    "# ex1\n",
    "p = re.compile(r'\\d{3}')\n",
    "m = p.findall('1 2 3 11 12 13 111 112 113')\n",
    "print(m)\n",
    "\n",
    "p = re.compile(r'\\d{2,3}')\n",
    "m = p.findall('1 2 3 11 12 13 111 112 113')\n",
    "print(m)"
   ]
  },
  {
   "cell_type": "code",
   "execution_count": null,
   "metadata": {
    "ExecuteTime": {
     "start_time": "2024-05-10T09:46:34.705699Z"
    }
   },
   "outputs": [],
   "source": []
  },
  {
   "cell_type": "markdown",
   "metadata": {},
   "source": [
    "### Grouping Constructs"
   ]
  },
  {
   "cell_type": "markdown",
   "metadata": {},
   "source": [
    "#### Groups (())"
   ]
  },
  {
   "cell_type": "code",
   "execution_count": 20,
   "metadata": {
    "ExecuteTime": {
     "end_time": "2024-05-10T09:46:59.447489Z",
     "start_time": "2024-05-10T09:46:59.407804Z"
    }
   },
   "outputs": [
    {
     "name": "stdout",
     "output_type": "stream",
     "text": [
      "[('Math', '89'), ('Physics', '92'), ('English', '78')]\n"
     ]
    }
   ],
   "source": [
    "# Groups\n",
    "# ex1\n",
    "\n",
    "p = re.compile(r'(\\w+): (\\d+)')\n",
    "p = re.compile(r'(\\w+\\.\\w+)\\s(\\w+\\.\\w+)')\n",
    "m = p.findall('Course: Grade\\nMath: 89\\nPhysics: 92\\n English: 78')\n",
    "print(m)"
   ]
  },
  {
   "cell_type": "markdown",
   "metadata": {},
   "source": [
    "#### Quantifiers with Groups"
   ]
  },
  {
   "cell_type": "code",
   "execution_count": 21,
   "metadata": {
    "ExecuteTime": {
     "end_time": "2024-05-10T09:49:53.120653Z",
     "start_time": "2024-05-10T09:49:53.053773Z"
    }
   },
   "outputs": [
    {
     "name": "stdout",
     "output_type": "stream",
     "text": [
      "['ha', 'ha']\n",
      "['12: Numpy', '13: Pandas', '14: Data Visualzation']\n"
     ]
    }
   ],
   "source": [
    "# Quantifiers with Groups\n",
    "# ex1\n",
    "\n",
    "p = re.compile(r'(ha)+')\n",
    "m = p.findall('ha hh aa hahahaha')\n",
    "print(m)\n",
    "\n",
    "# ex3\n",
    "chapters = 'Chapter 12: Numpy\\n\\\n",
    "Chapter 13: Pandas\\n\\\n",
    "Chapter 14: Data Visualzation'\n",
    "p = re.compile(r'^Chapter (\\d+: .+)', re.M)\n",
    "m = p.findall(chapters)\n",
    "print(m)\n"
   ]
  },
  {
   "cell_type": "markdown",
   "metadata": {},
   "source": [
    "#### Alternation (|)"
   ]
  },
  {
   "cell_type": "code",
   "execution_count": 30,
   "metadata": {
    "ExecuteTime": {
     "end_time": "2024-05-10T10:03:57.226222Z",
     "start_time": "2024-05-10T10:03:57.191631Z"
    }
   },
   "outputs": [
    {
     "name": "stdout",
     "output_type": "stream",
     "text": [
      "[('game', 'exe'), ('auto', 'bat'), ('text', 'zip')]\n"
     ]
    }
   ],
   "source": [
    "# Alternation\n",
    "# ex1\n",
    "p = re.compile(r'(\\w+)\\.(bat|zip|exe)')\n",
    "m = p.findall('game.exe auto.bat text.zip')\n",
    "print(m)"
   ]
  },
  {
   "cell_type": "code",
   "execution_count": 27,
   "metadata": {
    "ExecuteTime": {
     "end_time": "2024-05-10T10:01:32.452461Z",
     "start_time": "2024-05-10T10:01:32.402434Z"
    }
   },
   "outputs": [],
   "source": []
  },
  {
   "cell_type": "markdown",
   "metadata": {},
   "source": [
    "#### Capturing Groups"
   ]
  },
  {
   "cell_type": "code",
   "execution_count": 32,
   "metadata": {
    "ExecuteTime": {
     "end_time": "2024-05-10T10:14:58.821469Z",
     "start_time": "2024-05-10T10:14:58.787660Z"
    }
   },
   "outputs": [
    {
     "name": "stdout",
     "output_type": "stream",
     "text": [
      "[('game.exe', 'auto.bat')]\n"
     ]
    }
   ],
   "source": [
    "# re.Match.groups()\n",
    "# ex1\n",
    "\n",
    "p = re.compile(r'(\\w+\\.\\w+)\\s(\\w+\\.\\w+)')\n",
    "m = p.findall('game.exe auto.bat text.zip')\n",
    "print(m)\n",
    "# print(m.groups())"
   ]
  },
  {
   "cell_type": "code",
   "execution_count": null,
   "metadata": {
    "ExecuteTime": {
     "start_time": "2024-05-10T09:46:34.731781Z"
    }
   },
   "outputs": [],
   "source": [
    "# re.Match.group()\n",
    "# ex1\n",
    "pattern = r'(\\w+)\\W+(\\w+)\\W+(\\w+)\\W+(\\w)+'\n",
    "p = re.compile(pattern)\n",
    "m = p.search('one,,,two:three++++++4')\n",
    "print(m.group(0))\n",
    "print(m.group(1))\n",
    "print(m.group(2, 3, 4))"
   ]
  },
  {
   "cell_type": "code",
   "execution_count": null,
   "metadata": {
    "ExecuteTime": {
     "start_time": "2024-05-10T09:46:34.736420Z"
    }
   },
   "outputs": [],
   "source": []
  },
  {
   "cell_type": "markdown",
   "metadata": {},
   "source": [
    "#### Backreference"
   ]
  },
  {
   "cell_type": "code",
   "execution_count": null,
   "metadata": {
    "ExecuteTime": {
     "start_time": "2024-05-10T09:46:34.740630Z"
    }
   },
   "outputs": [],
   "source": [
    "# Backreference\n",
    "# ex1\n",
    "\n",
    "p = re.compile(r'((\\d+)\\d\\2)')\n",
    "m = p.finditer('1234123, 11311, 123, 54345')\n",
    "for string in m:\n",
    "    print(string.group(1, 2))"
   ]
  },
  {
   "cell_type": "code",
   "execution_count": null,
   "metadata": {
    "ExecuteTime": {
     "start_time": "2024-05-10T09:46:34.744746Z"
    }
   },
   "outputs": [],
   "source": []
  },
  {
   "cell_type": "markdown",
   "metadata": {},
   "source": [
    "### Flags"
   ]
  },
  {
   "cell_type": "code",
   "execution_count": null,
   "metadata": {
    "ExecuteTime": {
     "start_time": "2024-05-10T09:46:34.748168Z"
    }
   },
   "outputs": [],
   "source": [
    "# Flag re.I\n",
    "# ex1\n",
    "p1 = re.compile(r'abc')\n",
    "m1 = p1.findall('abc ABC aBC Abc')\n",
    "p2 = re.compile(r'abc', re.I)\n",
    "m2 = p2.findall('abc ABC aBC Abc')\n",
    "\n",
    "print(m1, m2)"
   ]
  },
  {
   "cell_type": "code",
   "execution_count": null,
   "metadata": {
    "ExecuteTime": {
     "start_time": "2024-05-10T09:46:34.752225Z"
    }
   },
   "outputs": [],
   "source": [
    "# Flag re.S\n",
    "# ex2\n",
    "p1 = re.compile(r'.')\n",
    "m1 = p1.findall('Aa1! \\n')\n",
    "p2 = re.compile(r'.', re.S)\n",
    "m2 = p2.findall('Aa1! \\n')\n",
    "\n",
    "print(m1, m2)"
   ]
  },
  {
   "cell_type": "code",
   "execution_count": null,
   "metadata": {
    "ExecuteTime": {
     "start_time": "2024-05-10T09:46:34.755299Z"
    }
   },
   "outputs": [],
   "source": []
  },
  {
   "cell_type": "markdown",
   "metadata": {},
   "source": [
    "### Model-Level Methods"
   ]
  },
  {
   "cell_type": "markdown",
   "metadata": {},
   "source": [
    "#### re.match, re.search, re.findall, re.finditer"
   ]
  },
  {
   "cell_type": "code",
   "execution_count": null,
   "metadata": {
    "ExecuteTime": {
     "start_time": "2024-05-10T09:46:34.758242Z"
    }
   },
   "outputs": [],
   "source": [
    "# ex1\n",
    "\n",
    "match = re.match(r'abc', 'abc')\n",
    "search = re.search(r'abc', 'a abc')\n",
    "findall = re.findall(r'abc', 'abc abc ab bc a b c')\n",
    "finditer = re.finditer(r'abc', 'abc abc ab bc a b c')\n",
    "print(f'match: {match}')\n",
    "print(f'search: {search}')\n",
    "print(f'findall: {findall}')\n",
    "print(f'finditer: {finditer}')"
   ]
  },
  {
   "cell_type": "code",
   "execution_count": null,
   "metadata": {
    "ExecuteTime": {
     "start_time": "2024-05-10T09:46:34.761458Z"
    }
   },
   "outputs": [],
   "source": []
  },
  {
   "cell_type": "markdown",
   "metadata": {},
   "source": [
    "#### String-modifying methods"
   ]
  },
  {
   "cell_type": "code",
   "execution_count": null,
   "metadata": {
    "ExecuteTime": {
     "start_time": "2024-05-10T09:46:34.764418Z"
    }
   },
   "outputs": [],
   "source": [
    "# re.split()\n",
    "# ex1\n",
    "\n",
    "p = re.compile(r'\\W+')\n",
    "split = p.split('The~split*method-is%powerful')\n",
    "print(split)\n",
    "\n",
    "p = re.compile(r'(\\W+)')\n",
    "split = p.split('The~split*method-is%powerful')\n",
    "print(split)"
   ]
  },
  {
   "cell_type": "code",
   "execution_count": null,
   "metadata": {
    "ExecuteTime": {
     "start_time": "2024-05-10T09:46:34.767613Z"
    }
   },
   "outputs": [],
   "source": [
    "# re.sub() and re.subn()\n",
    "# ex1\n",
    "\n",
    "p = re.compile(r'Toko')\n",
    "sub = p.sub('Tokyo', 'Toko is a large city.')\n",
    "subn = p.subn('Tokyo', 'Toko is Toko')\n",
    "print(sub)\n",
    "print(subn)\n",
    "\n",
    "# ex2\n",
    "sub = re.sub(r'Toko', 'Tokyo', \n",
    "             'Toko is Toko')\n",
    "print(sub)"
   ]
  },
  {
   "cell_type": "code",
   "execution_count": null,
   "metadata": {
    "ExecuteTime": {
     "start_time": "2024-05-10T09:46:34.770519Z"
    }
   },
   "outputs": [],
   "source": []
  },
  {
   "cell_type": "code",
   "execution_count": null,
   "metadata": {
    "ExecuteTime": {
     "start_time": "2024-05-10T09:46:34.773364Z"
    }
   },
   "outputs": [],
   "source": []
  },
  {
   "cell_type": "markdown",
   "metadata": {},
   "source": [
    "## Exercises"
   ]
  },
  {
   "cell_type": "markdown",
   "metadata": {},
   "source": [
    "### Exercise 3.11"
   ]
  },
  {
   "cell_type": "markdown",
   "metadata": {},
   "source": [
    "Match all phone numbers in the give text.\n",
    "```\n",
    "Please dial our hotline number:\n",
    "93811800\n",
    "93811808\n",
    "93811818\n",
    "```"
   ]
  },
  {
   "cell_type": "code",
   "execution_count": null,
   "metadata": {
    "ExecuteTime": {
     "start_time": "2024-05-10T09:46:34.776551Z"
    }
   },
   "outputs": [],
   "source": [
    "text = '''Please dial our hotline number:\n",
    "93811800\n",
    "93811808\n",
    "93811818'''\n",
    "\n",
    "p = re.compile(_______________, re.M) # remove the underline and fill in your code\n",
    "\n",
    "print(p.findall(text))"
   ]
  },
  {
   "cell_type": "code",
   "execution_count": null,
   "metadata": {
    "ExecuteTime": {
     "start_time": "2024-05-10T09:46:34.779567Z"
    }
   },
   "outputs": [],
   "source": []
  },
  {
   "cell_type": "markdown",
   "metadata": {},
   "source": [
    "### Exercise 3.12"
   ]
  },
  {
   "cell_type": "markdown",
   "metadata": {},
   "source": [
    "Match all the prefixes and only the names following them in the text.\n",
    "```\n",
    "Here are the guests coming to the party tonight:\n",
    " - Mr. Joe Bean\n",
    " - Ms. Liz Johnson\n",
    " - Mrs. Alice Dawn Fredder\n",
    " - Miss. Emma Williams\n",
    "\n",
    "```"
   ]
  },
  {
   "cell_type": "code",
   "execution_count": null,
   "metadata": {
    "ExecuteTime": {
     "start_time": "2024-05-10T09:46:34.782480Z"
    }
   },
   "outputs": [],
   "source": [
    "text = '''Here are the guests coming to the party tonight:\n",
    " - Mr. Joe Bean\n",
    " - Ms. Liz Johnson\n",
    " - Mrs. Alice Dawn Fredder\n",
    " - Miss. Emma Williams'''\n"
   ]
  },
  {
   "cell_type": "code",
   "execution_count": null,
   "metadata": {
    "ExecuteTime": {
     "start_time": "2024-05-10T09:46:34.785392Z"
    }
   },
   "outputs": [],
   "source": [
    "p = re.compile(_________________, re.M) # remove the underline and fill in your code\n",
    "\n",
    "print(p.findall(text))"
   ]
  },
  {
   "cell_type": "code",
   "execution_count": null,
   "metadata": {
    "ExecuteTime": {
     "start_time": "2024-05-10T09:46:34.788347Z"
    }
   },
   "outputs": [],
   "source": []
  },
  {
   "cell_type": "markdown",
   "metadata": {},
   "source": [
    "### Exercise 3.13"
   ]
  },
  {
   "cell_type": "markdown",
   "metadata": {},
   "source": [
    "Match all email addresses from the given text.\n",
    "```\n",
    "My old email address ott@oldcompany.com has been invalidated. For the moment, I use my personal email address ott_personal@email.sg. Later when I start my own company, I will use this email: ott@myowncompany.com.sg.\n",
    "```"
   ]
  },
  {
   "cell_type": "code",
   "execution_count": null,
   "metadata": {
    "ExecuteTime": {
     "start_time": "2024-05-10T09:46:34.792152Z"
    }
   },
   "outputs": [],
   "source": [
    "text = \"My old email address ott@oldcompany.com has been invalidated. For the moment, I use my personal email address ott_personal@email.sg. Later when I start my own company, I will use this email: ott@myowncompany.com.sg.\""
   ]
  },
  {
   "cell_type": "code",
   "execution_count": null,
   "metadata": {
    "ExecuteTime": {
     "start_time": "2024-05-10T09:46:34.795199Z"
    }
   },
   "outputs": [],
   "source": [
    "\n",
    "p = re.compile(________________, re.M) # remove the underline and fill in your code\n",
    "\n",
    "print(p.findall(text))"
   ]
  },
  {
   "cell_type": "code",
   "execution_count": null,
   "metadata": {
    "ExecuteTime": {
     "start_time": "2024-05-10T09:46:34.798723Z"
    }
   },
   "outputs": [],
   "source": []
  },
  {
   "cell_type": "markdown",
   "metadata": {},
   "source": [
    "### Exercise 3.14"
   ]
  },
  {
   "cell_type": "markdown",
   "metadata": {},
   "source": [
    "Match all the names and phone numbers from the given text and create a dictionary using the names as keys and phone numbers as values.\n",
    "\n",
    "\\*Note that the correct format for a phone number is 9 digits evenly divided into three groups by two hyphens, e.g., 111-111-111. Please correct all the phone numbers you collected before you put them in the dictionary."
   ]
  },
  {
   "cell_type": "code",
   "execution_count": null,
   "metadata": {
    "ExecuteTime": {
     "start_time": "2024-05-10T09:46:34.802073Z"
    }
   },
   "outputs": [],
   "source": [
    "phones = '''LeBroooon James: 123-111-212\n",
    "Dd Wade: 391-399-128\n",
    "Steve Curry: 188381887\n",
    "Kk Durant: 212-212212\n",
    "Jon Harden: 371*371&196\n",
    "Kiwi Leonard: -192-182-736-\n",
    "Power George: 8198-18-817'''\n"
   ]
  },
  {
   "cell_type": "code",
   "execution_count": null,
   "metadata": {
    "ExecuteTime": {
     "start_time": "2024-05-10T09:46:34.806521Z"
    }
   },
   "outputs": [],
   "source": [
    "# write your code here \n",
    "# You can refer to the output\n",
    "\n",
    "\n"
   ]
  },
  {
   "cell_type": "markdown",
   "metadata": {},
   "source": [
    "### Exercise 3.15"
   ]
  },
  {
   "cell_type": "markdown",
   "metadata": {},
   "source": [
    "Match all the words that contains at least one character that appears more than once from the given text."
   ]
  },
  {
   "cell_type": "code",
   "execution_count": null,
   "metadata": {
    "ExecuteTime": {
     "start_time": "2024-05-10T09:46:34.810207Z"
    }
   },
   "outputs": [],
   "source": [
    "p = re.compile(_______________________) # remove the underline and fill in your code\n",
    "\n",
    "p.findall('The group contains some of the most dangerous criminals in the country.')\n"
   ]
  },
  {
   "cell_type": "code",
   "execution_count": null,
   "metadata": {
    "ExecuteTime": {
     "start_time": "2024-05-10T09:46:34.814334Z"
    }
   },
   "outputs": [],
   "source": []
  },
  {
   "cell_type": "code",
   "execution_count": null,
   "metadata": {
    "ExecuteTime": {
     "start_time": "2024-05-10T09:46:34.817686Z"
    }
   },
   "outputs": [],
   "source": []
  },
  {
   "cell_type": "markdown",
   "metadata": {},
   "source": [
    "### Exercise 3.16"
   ]
  },
  {
   "cell_type": "markdown",
   "metadata": {},
   "source": [
    "Match all the words that contain at least 3 vowel letters (‘aeiou’) from the given text."
   ]
  },
  {
   "cell_type": "code",
   "execution_count": null,
   "metadata": {
    "scrolled": true,
    "ExecuteTime": {
     "start_time": "2024-05-10T09:46:34.821695Z"
    }
   },
   "outputs": [],
   "source": [
    "p = re.compile(_________________) # remove the underline and fill in your code\n",
    "\n",
    "p.findall('The group contains some of the most dangerous criminals in the country.')\n"
   ]
  },
  {
   "cell_type": "code",
   "execution_count": null,
   "metadata": {
    "ExecuteTime": {
     "start_time": "2024-05-10T09:46:34.825806Z"
    }
   },
   "outputs": [],
   "source": []
  }
 ],
 "metadata": {
  "kernelspec": {
   "display_name": "Python 3",
   "language": "python",
   "name": "python3"
  },
  "language_info": {
   "codemirror_mode": {
    "name": "ipython",
    "version": 3
   },
   "file_extension": ".py",
   "mimetype": "text/x-python",
   "name": "python",
   "nbconvert_exporter": "python",
   "pygments_lexer": "ipython3",
   "version": "3.8.3"
  }
 },
 "nbformat": 4,
 "nbformat_minor": 4
}
