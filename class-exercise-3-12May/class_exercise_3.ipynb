{
 "cells": [
  {
   "cell_type": "markdown",
   "metadata": {},
   "source": [
    "# Regular Expressions"
   ]
  },
  {
   "cell_type": "code",
   "execution_count": 1,
   "metadata": {},
   "outputs": [],
   "source": [
    "import re"
   ]
  },
  {
   "cell_type": "code",
   "execution_count": 2,
   "metadata": {},
   "outputs": [
    {
     "name": "stdout",
     "output_type": "stream",
     "text": [
      "re.compile('abc')\n",
      "<class 're.Pattern'>\n"
     ]
    }
   ],
   "source": [
    "pat = re.compile(r'abc')\n",
    "print(pat)\n",
    "print(type(pat))"
   ]
  },
  {
   "cell_type": "code",
   "execution_count": 3,
   "metadata": {},
   "outputs": [
    {
     "name": "stdout",
     "output_type": "stream",
     "text": [
      "None\n",
      "<re.Match object; span=(0, 3), match='abc'>\n"
     ]
    }
   ],
   "source": [
    "mat_abc1 = pat.match('ABC,ABc,AbC,abc')\n",
    "mat_abc2 = pat.match('abc,ABc,AbC,abc')\n",
    "print(mat_abc1)\n",
    "print(mat_abc2)"
   ]
  },
  {
   "cell_type": "code",
   "execution_count": 4,
   "metadata": {},
   "outputs": [
    {
     "name": "stdout",
     "output_type": "stream",
     "text": [
      "<re.Match object; span=(12, 15), match='abc'>\n",
      "<re.Match object; span=(0, 3), match='abc'>\n",
      "<class 're.Match'>\n"
     ]
    }
   ],
   "source": [
    "sear_abc1 = pat.search('ABC,ABc,AbC,abc')\n",
    "sear_abc2 = pat.search('abc,ABc,AbC,abc')\n",
    "print(sear_abc1)\n",
    "print(sear_abc2)\n",
    "print(type(sear_abc1))"
   ]
  },
  {
   "cell_type": "code",
   "execution_count": 5,
   "metadata": {},
   "outputs": [
    {
     "name": "stdout",
     "output_type": "stream",
     "text": [
      "['abc']\n",
      "['abc', 'abc']\n"
     ]
    }
   ],
   "source": [
    "find_abc1 = pat.findall('ABC,ABc,AbC,abc')\n",
    "find_abc2 = pat.findall('abc,ABc,AbC,abc')\n",
    "print(find_abc1)\n",
    "print(find_abc2)"
   ]
  },
  {
   "cell_type": "code",
   "execution_count": 6,
   "metadata": {},
   "outputs": [
    {
     "name": "stdout",
     "output_type": "stream",
     "text": [
      "<callable_iterator object at 0x000002570A2551C0>\n",
      "<re.Match object; span=(0, 3), match='abc'>\n",
      "<re.Match object; span=(8, 11), match='abc'>\n",
      "<re.Match object; span=(12, 15), match='abc'>\n"
     ]
    }
   ],
   "source": [
    "finditer_abc = pat.finditer('abc,ABc,abc,abc')\n",
    "\n",
    "print(finditer_abc)\n",
    "\n",
    "for m in finditer_abc:\n",
    "    print(m)\n",
    "    \n"
   ]
  },
  {
   "cell_type": "code",
   "execution_count": null,
   "metadata": {
    "scrolled": true
   },
   "outputs": [],
   "source": []
  },
  {
   "cell_type": "markdown",
   "metadata": {},
   "source": [
    "## Metacharacters"
   ]
  },
  {
   "cell_type": "markdown",
   "metadata": {},
   "source": [
    "### Metacharacters that match one character"
   ]
  },
  {
   "cell_type": "markdown",
   "metadata": {},
   "source": [
    "#### Dot (.)"
   ]
  },
  {
   "cell_type": "code",
   "execution_count": 7,
   "metadata": {
    "scrolled": true
   },
   "outputs": [
    {
     "name": "stdout",
     "output_type": "stream",
     "text": [
      "['a', '1', 'A', '#']\n"
     ]
    }
   ],
   "source": [
    "# Dot exmaple\n",
    "# ex1\n",
    "p = re.compile(r'.')\n",
    "m = p.findall('a1\\nA#')\n",
    "print(m)"
   ]
  },
  {
   "cell_type": "code",
   "execution_count": 8,
   "metadata": {},
   "outputs": [
    {
     "name": "stdout",
     "output_type": "stream",
     "text": [
      "['cat', 'bat', 'sat']\n"
     ]
    }
   ],
   "source": [
    "# ex2\n",
    "p = re.compile(r'.at')\n",
    "m = p.findall('cat bat sat cap')\n",
    "print(m)"
   ]
  },
  {
   "cell_type": "markdown",
   "metadata": {},
   "source": [
    "#### Character Class ([])"
   ]
  },
  {
   "cell_type": "code",
   "execution_count": 9,
   "metadata": {},
   "outputs": [
    {
     "name": "stdout",
     "output_type": "stream",
     "text": [
      "['a', 'A']\n"
     ]
    }
   ],
   "source": [
    "# Character Class example\n",
    "# ex1\n",
    "p = re.compile(r'[aA]')\n",
    "m = p.findall('a1\\nA#')\n",
    "print(m)"
   ]
  },
  {
   "cell_type": "code",
   "execution_count": 10,
   "metadata": {},
   "outputs": [
    {
     "name": "stdout",
     "output_type": "stream",
     "text": [
      "['a', 'b', 'c', 'A', 'B', 'C']\n"
     ]
    }
   ],
   "source": [
    "# ex2\n",
    "p = re.compile(r'[abcABC]')\n",
    "m = p.findall('abcABC')\n",
    "print(m)"
   ]
  },
  {
   "cell_type": "code",
   "execution_count": 11,
   "metadata": {},
   "outputs": [
    {
     "name": "stdout",
     "output_type": "stream",
     "text": [
      "['d', '0', '3', 'z', '6']\n",
      "['C', 'D', 'E', 'b', 'c', '2', '3', '4']\n",
      "['e', '-', 'a', '-', '-', 'e', 'a']\n"
     ]
    }
   ],
   "source": [
    "# ex3: [a-zA-Z0-9]\n",
    "p = re.compile(r'[a-z0-9]')\n",
    "m = p.findall('d0A3z6P')\n",
    "print(m)\n",
    "\n",
    "# ex4: \n",
    "p = re.compile(r'[C-Eb-c2-4]')\n",
    "m = p.findall('ABCDEF abcd 012345')\n",
    "print(m)\n",
    "\n",
    "# ex5:\n",
    "p = re.compile(r'[-a-e]') # or [a-e-]\n",
    "m = p.findall('e-a-s-y, easy')\n",
    "print(m)\n"
   ]
  },
  {
   "cell_type": "code",
   "execution_count": 12,
   "metadata": {
    "scrolled": true
   },
   "outputs": [
    {
     "name": "stdout",
     "output_type": "stream",
     "text": [
      "[' ', ' ', ' ', 'G']\n",
      "['1', '2', '3', '^', 'o']\n"
     ]
    }
   ],
   "source": [
    "# ex6: [^]\n",
    "p = re.compile(r'[^0-9a-z]')\n",
    "m = p.findall('1 2 3 Go')\n",
    "print(m)\n",
    "\n",
    "# ex7:\n",
    "p = re.compile(r'[0-9^a-z]')\n",
    "m = p.findall('1 2 3 ^Go')\n",
    "print(m)"
   ]
  },
  {
   "cell_type": "markdown",
   "metadata": {},
   "source": [
    "#### \\d and \\D\n",
    "\n"
   ]
  },
  {
   "cell_type": "code",
   "execution_count": 13,
   "metadata": {},
   "outputs": [
    {
     "name": "stdout",
     "output_type": "stream",
     "text": [
      "\\d matches:  ['1']\n",
      "\\D matches:  ['a', '\\n', 'A', '#']\n"
     ]
    }
   ],
   "source": [
    "# \\d and \\D examples\n",
    "# ex1\n",
    "p = re.compile(r'\\d')\n",
    "m = p.findall('a1\\nA#')\n",
    "print(\"\\d matches: \", m)\n",
    "\n",
    "# ex2\n",
    "p = re.compile(r'\\D')\n",
    "m = p.findall('a1\\nA#')\n",
    "print(\"\\D matches: \", m)"
   ]
  },
  {
   "cell_type": "code",
   "execution_count": null,
   "metadata": {},
   "outputs": [],
   "source": []
  },
  {
   "cell_type": "markdown",
   "metadata": {},
   "source": [
    "#### \\w and \\W"
   ]
  },
  {
   "cell_type": "code",
   "execution_count": 14,
   "metadata": {},
   "outputs": [
    {
     "name": "stdout",
     "output_type": "stream",
     "text": [
      "\\w matches:  ['_', 'a', 'E', '4']\n",
      "\\W matches:  ['#', '!', '$', '-']\n"
     ]
    }
   ],
   "source": [
    "# \\w and \\W examples\n",
    "# ex1\n",
    "p = re.compile(r'\\w')\n",
    "m = p.findall('_#a!E$4-')\n",
    "print(\"\\w matches: \", m)\n",
    "\n",
    "# ex2\n",
    "p = re.compile(r'\\W')\n",
    "m = p.findall('_#a!E$4-')\n",
    "print(\"\\W matches: \", m)"
   ]
  },
  {
   "cell_type": "markdown",
   "metadata": {},
   "source": [
    "#### \\s and \\S"
   ]
  },
  {
   "cell_type": "code",
   "execution_count": 15,
   "metadata": {},
   "outputs": [
    {
     "name": "stdout",
     "output_type": "stream",
     "text": [
      "Name\tISSS610\tISSS666\n",
      "Joe Jones\tA\tA\n",
      "\n",
      "\\s matches:  ['\\t', '\\t', '\\n', ' ', '\\t', '\\t', '\\n']\n",
      "\\S matches:  ['N', 'a', 'm', 'e', 'I', 'S', 'S', 'S', '6', '1', '0', 'I', 'S', 'S', 'S', '6', '6', '6', 'J', 'o', 'e', 'J', 'o', 'n', 'e', 's', 'A', 'A']\n"
     ]
    }
   ],
   "source": [
    "# \\s and \\S examples\n",
    "# ex1\n",
    "text = 'Name\\tISSS610\\tISSS666\\nJoe Jones\\tA\\tA\\n'\n",
    "print(text)\n",
    "\n",
    "p = re.compile(r'\\s')\n",
    "m = p.findall(text)\n",
    "print(\"\\s matches: \", m)\n",
    "\n",
    "# ex2\n",
    "p = re.compile(r'\\S')\n",
    "m = p.findall(text)\n",
    "\n",
    "print(\"\\S matches: \", m)"
   ]
  },
  {
   "cell_type": "code",
   "execution_count": null,
   "metadata": {},
   "outputs": [],
   "source": []
  },
  {
   "cell_type": "markdown",
   "metadata": {},
   "source": [
    "### Escaping Character"
   ]
  },
  {
   "cell_type": "markdown",
   "metadata": {},
   "source": [
    "#### Backslash (\\\\) as Escaping Character"
   ]
  },
  {
   "cell_type": "code",
   "execution_count": 16,
   "metadata": {},
   "outputs": [
    {
     "name": "stdout",
     "output_type": "stream",
     "text": [
      "<re.Match object; span=(0, 1), match='s'> <re.Match object; span=(3, 4), match='.'>\n"
     ]
    }
   ],
   "source": [
    "# Escaping Character\n",
    "# ex1\n",
    "p1 = re.compile(r'.')\n",
    "p2 = re.compile(r'\\.')\n",
    "m1 = p1.search('smu.edu.sg')\n",
    "m2 = p2.search('smu.edu.sg')\n",
    "print(m1, m2)"
   ]
  },
  {
   "cell_type": "code",
   "execution_count": 17,
   "metadata": {},
   "outputs": [
    {
     "name": "stdout",
     "output_type": "stream",
     "text": [
      "['5\\\\d']\n"
     ]
    }
   ],
   "source": [
    "# ex2\n",
    "p = re.compile(r'\\d\\\\d')\n",
    "m = p.findall('135\\d')\n",
    "print(m)"
   ]
  },
  {
   "cell_type": "markdown",
   "metadata": {},
   "source": [
    "#### The Backslash Plague"
   ]
  },
  {
   "cell_type": "code",
   "execution_count": 18,
   "metadata": {
    "scrolled": true
   },
   "outputs": [
    {
     "ename": "error",
     "evalue": "bad escape (end of pattern) at position 0",
     "output_type": "error",
     "traceback": [
      "\u001b[1;31m---------------------------------------------------------------------------\u001b[0m",
      "\u001b[1;31merror\u001b[0m                                     Traceback (most recent call last)",
      "\u001b[1;32m<ipython-input-18-67447a3e8f7f>\u001b[0m in \u001b[0;36m<module>\u001b[1;34m\u001b[0m\n\u001b[0;32m      2\u001b[0m \u001b[1;31m# demo1\u001b[0m\u001b[1;33m\u001b[0m\u001b[1;33m\u001b[0m\u001b[1;33m\u001b[0m\u001b[0m\n\u001b[0;32m      3\u001b[0m \u001b[1;33m\u001b[0m\u001b[0m\n\u001b[1;32m----> 4\u001b[1;33m \u001b[0mp\u001b[0m \u001b[1;33m=\u001b[0m \u001b[0mre\u001b[0m\u001b[1;33m.\u001b[0m\u001b[0mcompile\u001b[0m\u001b[1;33m(\u001b[0m\u001b[1;34m'\\\\'\u001b[0m\u001b[1;33m)\u001b[0m\u001b[1;33m\u001b[0m\u001b[1;33m\u001b[0m\u001b[0m\n\u001b[0m\u001b[0;32m      5\u001b[0m \u001b[0mm\u001b[0m \u001b[1;33m=\u001b[0m \u001b[0mp\u001b[0m\u001b[1;33m.\u001b[0m\u001b[0mfindall\u001b[0m\u001b[1;33m(\u001b[0m\u001b[1;34m'D:\\Courses\\Python'\u001b[0m\u001b[1;33m)\u001b[0m\u001b[1;33m\u001b[0m\u001b[1;33m\u001b[0m\u001b[0m\n\u001b[0;32m      6\u001b[0m \u001b[0mprint\u001b[0m\u001b[1;33m(\u001b[0m\u001b[0mm\u001b[0m\u001b[1;33m)\u001b[0m\u001b[1;33m\u001b[0m\u001b[1;33m\u001b[0m\u001b[0m\n",
      "\u001b[1;32mC:\\ProgramData\\Anaconda3\\lib\\re.py\u001b[0m in \u001b[0;36mcompile\u001b[1;34m(pattern, flags)\u001b[0m\n\u001b[0;32m    250\u001b[0m \u001b[1;32mdef\u001b[0m \u001b[0mcompile\u001b[0m\u001b[1;33m(\u001b[0m\u001b[0mpattern\u001b[0m\u001b[1;33m,\u001b[0m \u001b[0mflags\u001b[0m\u001b[1;33m=\u001b[0m\u001b[1;36m0\u001b[0m\u001b[1;33m)\u001b[0m\u001b[1;33m:\u001b[0m\u001b[1;33m\u001b[0m\u001b[1;33m\u001b[0m\u001b[0m\n\u001b[0;32m    251\u001b[0m     \u001b[1;34m\"Compile a regular expression pattern, returning a Pattern object.\"\u001b[0m\u001b[1;33m\u001b[0m\u001b[1;33m\u001b[0m\u001b[0m\n\u001b[1;32m--> 252\u001b[1;33m     \u001b[1;32mreturn\u001b[0m \u001b[0m_compile\u001b[0m\u001b[1;33m(\u001b[0m\u001b[0mpattern\u001b[0m\u001b[1;33m,\u001b[0m \u001b[0mflags\u001b[0m\u001b[1;33m)\u001b[0m\u001b[1;33m\u001b[0m\u001b[1;33m\u001b[0m\u001b[0m\n\u001b[0m\u001b[0;32m    253\u001b[0m \u001b[1;33m\u001b[0m\u001b[0m\n\u001b[0;32m    254\u001b[0m \u001b[1;32mdef\u001b[0m \u001b[0mpurge\u001b[0m\u001b[1;33m(\u001b[0m\u001b[1;33m)\u001b[0m\u001b[1;33m:\u001b[0m\u001b[1;33m\u001b[0m\u001b[1;33m\u001b[0m\u001b[0m\n",
      "\u001b[1;32mC:\\ProgramData\\Anaconda3\\lib\\re.py\u001b[0m in \u001b[0;36m_compile\u001b[1;34m(pattern, flags)\u001b[0m\n\u001b[0;32m    302\u001b[0m     \u001b[1;32mif\u001b[0m \u001b[1;32mnot\u001b[0m \u001b[0msre_compile\u001b[0m\u001b[1;33m.\u001b[0m\u001b[0misstring\u001b[0m\u001b[1;33m(\u001b[0m\u001b[0mpattern\u001b[0m\u001b[1;33m)\u001b[0m\u001b[1;33m:\u001b[0m\u001b[1;33m\u001b[0m\u001b[1;33m\u001b[0m\u001b[0m\n\u001b[0;32m    303\u001b[0m         \u001b[1;32mraise\u001b[0m \u001b[0mTypeError\u001b[0m\u001b[1;33m(\u001b[0m\u001b[1;34m\"first argument must be string or compiled pattern\"\u001b[0m\u001b[1;33m)\u001b[0m\u001b[1;33m\u001b[0m\u001b[1;33m\u001b[0m\u001b[0m\n\u001b[1;32m--> 304\u001b[1;33m     \u001b[0mp\u001b[0m \u001b[1;33m=\u001b[0m \u001b[0msre_compile\u001b[0m\u001b[1;33m.\u001b[0m\u001b[0mcompile\u001b[0m\u001b[1;33m(\u001b[0m\u001b[0mpattern\u001b[0m\u001b[1;33m,\u001b[0m \u001b[0mflags\u001b[0m\u001b[1;33m)\u001b[0m\u001b[1;33m\u001b[0m\u001b[1;33m\u001b[0m\u001b[0m\n\u001b[0m\u001b[0;32m    305\u001b[0m     \u001b[1;32mif\u001b[0m \u001b[1;32mnot\u001b[0m \u001b[1;33m(\u001b[0m\u001b[0mflags\u001b[0m \u001b[1;33m&\u001b[0m \u001b[0mDEBUG\u001b[0m\u001b[1;33m)\u001b[0m\u001b[1;33m:\u001b[0m\u001b[1;33m\u001b[0m\u001b[1;33m\u001b[0m\u001b[0m\n\u001b[0;32m    306\u001b[0m         \u001b[1;32mif\u001b[0m \u001b[0mlen\u001b[0m\u001b[1;33m(\u001b[0m\u001b[0m_cache\u001b[0m\u001b[1;33m)\u001b[0m \u001b[1;33m>=\u001b[0m \u001b[0m_MAXCACHE\u001b[0m\u001b[1;33m:\u001b[0m\u001b[1;33m\u001b[0m\u001b[1;33m\u001b[0m\u001b[0m\n",
      "\u001b[1;32mC:\\ProgramData\\Anaconda3\\lib\\sre_compile.py\u001b[0m in \u001b[0;36mcompile\u001b[1;34m(p, flags)\u001b[0m\n\u001b[0;32m    762\u001b[0m     \u001b[1;32mif\u001b[0m \u001b[0misstring\u001b[0m\u001b[1;33m(\u001b[0m\u001b[0mp\u001b[0m\u001b[1;33m)\u001b[0m\u001b[1;33m:\u001b[0m\u001b[1;33m\u001b[0m\u001b[1;33m\u001b[0m\u001b[0m\n\u001b[0;32m    763\u001b[0m         \u001b[0mpattern\u001b[0m \u001b[1;33m=\u001b[0m \u001b[0mp\u001b[0m\u001b[1;33m\u001b[0m\u001b[1;33m\u001b[0m\u001b[0m\n\u001b[1;32m--> 764\u001b[1;33m         \u001b[0mp\u001b[0m \u001b[1;33m=\u001b[0m \u001b[0msre_parse\u001b[0m\u001b[1;33m.\u001b[0m\u001b[0mparse\u001b[0m\u001b[1;33m(\u001b[0m\u001b[0mp\u001b[0m\u001b[1;33m,\u001b[0m \u001b[0mflags\u001b[0m\u001b[1;33m)\u001b[0m\u001b[1;33m\u001b[0m\u001b[1;33m\u001b[0m\u001b[0m\n\u001b[0m\u001b[0;32m    765\u001b[0m     \u001b[1;32melse\u001b[0m\u001b[1;33m:\u001b[0m\u001b[1;33m\u001b[0m\u001b[1;33m\u001b[0m\u001b[0m\n\u001b[0;32m    766\u001b[0m         \u001b[0mpattern\u001b[0m \u001b[1;33m=\u001b[0m \u001b[1;32mNone\u001b[0m\u001b[1;33m\u001b[0m\u001b[1;33m\u001b[0m\u001b[0m\n",
      "\u001b[1;32mC:\\ProgramData\\Anaconda3\\lib\\sre_parse.py\u001b[0m in \u001b[0;36mparse\u001b[1;34m(str, flags, state)\u001b[0m\n\u001b[0;32m    938\u001b[0m     \u001b[1;31m# parse 're' pattern into list of (opcode, argument) tuples\u001b[0m\u001b[1;33m\u001b[0m\u001b[1;33m\u001b[0m\u001b[1;33m\u001b[0m\u001b[0m\n\u001b[0;32m    939\u001b[0m \u001b[1;33m\u001b[0m\u001b[0m\n\u001b[1;32m--> 940\u001b[1;33m     \u001b[0msource\u001b[0m \u001b[1;33m=\u001b[0m \u001b[0mTokenizer\u001b[0m\u001b[1;33m(\u001b[0m\u001b[0mstr\u001b[0m\u001b[1;33m)\u001b[0m\u001b[1;33m\u001b[0m\u001b[1;33m\u001b[0m\u001b[0m\n\u001b[0m\u001b[0;32m    941\u001b[0m \u001b[1;33m\u001b[0m\u001b[0m\n\u001b[0;32m    942\u001b[0m     \u001b[1;32mif\u001b[0m \u001b[0mstate\u001b[0m \u001b[1;32mis\u001b[0m \u001b[1;32mNone\u001b[0m\u001b[1;33m:\u001b[0m\u001b[1;33m\u001b[0m\u001b[1;33m\u001b[0m\u001b[0m\n",
      "\u001b[1;32mC:\\ProgramData\\Anaconda3\\lib\\sre_parse.py\u001b[0m in \u001b[0;36m__init__\u001b[1;34m(self, string)\u001b[0m\n\u001b[0;32m    230\u001b[0m         \u001b[0mself\u001b[0m\u001b[1;33m.\u001b[0m\u001b[0mindex\u001b[0m \u001b[1;33m=\u001b[0m \u001b[1;36m0\u001b[0m\u001b[1;33m\u001b[0m\u001b[1;33m\u001b[0m\u001b[0m\n\u001b[0;32m    231\u001b[0m         \u001b[0mself\u001b[0m\u001b[1;33m.\u001b[0m\u001b[0mnext\u001b[0m \u001b[1;33m=\u001b[0m \u001b[1;32mNone\u001b[0m\u001b[1;33m\u001b[0m\u001b[1;33m\u001b[0m\u001b[0m\n\u001b[1;32m--> 232\u001b[1;33m         \u001b[0mself\u001b[0m\u001b[1;33m.\u001b[0m\u001b[0m__next\u001b[0m\u001b[1;33m(\u001b[0m\u001b[1;33m)\u001b[0m\u001b[1;33m\u001b[0m\u001b[1;33m\u001b[0m\u001b[0m\n\u001b[0m\u001b[0;32m    233\u001b[0m     \u001b[1;32mdef\u001b[0m \u001b[0m__next\u001b[0m\u001b[1;33m(\u001b[0m\u001b[0mself\u001b[0m\u001b[1;33m)\u001b[0m\u001b[1;33m:\u001b[0m\u001b[1;33m\u001b[0m\u001b[1;33m\u001b[0m\u001b[0m\n\u001b[0;32m    234\u001b[0m         \u001b[0mindex\u001b[0m \u001b[1;33m=\u001b[0m \u001b[0mself\u001b[0m\u001b[1;33m.\u001b[0m\u001b[0mindex\u001b[0m\u001b[1;33m\u001b[0m\u001b[1;33m\u001b[0m\u001b[0m\n",
      "\u001b[1;32mC:\\ProgramData\\Anaconda3\\lib\\sre_parse.py\u001b[0m in \u001b[0;36m__next\u001b[1;34m(self)\u001b[0m\n\u001b[0;32m    243\u001b[0m                 \u001b[0mchar\u001b[0m \u001b[1;33m+=\u001b[0m \u001b[0mself\u001b[0m\u001b[1;33m.\u001b[0m\u001b[0mdecoded_string\u001b[0m\u001b[1;33m[\u001b[0m\u001b[0mindex\u001b[0m\u001b[1;33m]\u001b[0m\u001b[1;33m\u001b[0m\u001b[1;33m\u001b[0m\u001b[0m\n\u001b[0;32m    244\u001b[0m             \u001b[1;32mexcept\u001b[0m \u001b[0mIndexError\u001b[0m\u001b[1;33m:\u001b[0m\u001b[1;33m\u001b[0m\u001b[1;33m\u001b[0m\u001b[0m\n\u001b[1;32m--> 245\u001b[1;33m                 raise error(\"bad escape (end of pattern)\",\n\u001b[0m\u001b[0;32m    246\u001b[0m                             self.string, len(self.string) - 1) from None\n\u001b[0;32m    247\u001b[0m         \u001b[0mself\u001b[0m\u001b[1;33m.\u001b[0m\u001b[0mindex\u001b[0m \u001b[1;33m=\u001b[0m \u001b[0mindex\u001b[0m \u001b[1;33m+\u001b[0m \u001b[1;36m1\u001b[0m\u001b[1;33m\u001b[0m\u001b[1;33m\u001b[0m\u001b[0m\n",
      "\u001b[1;31merror\u001b[0m: bad escape (end of pattern) at position 0"
     ]
    }
   ],
   "source": [
    "# The Backslash Plague\n",
    "# demo1\n",
    "\n",
    "p = re.compile('\\\\')\n",
    "m = p.findall('D:\\Courses\\Python')\n",
    "print(m)"
   ]
  },
  {
   "cell_type": "code",
   "execution_count": 19,
   "metadata": {},
   "outputs": [
    {
     "name": "stdout",
     "output_type": "stream",
     "text": [
      "\\\n"
     ]
    }
   ],
   "source": [
    "# The Backslash Plague\n",
    "# demo1\n",
    "\n",
    "print('\\\\')"
   ]
  },
  {
   "cell_type": "code",
   "execution_count": 20,
   "metadata": {},
   "outputs": [
    {
     "name": "stdout",
     "output_type": "stream",
     "text": [
      "['\\\\', '\\\\']\n"
     ]
    }
   ],
   "source": [
    "# The Backslash Plague\n",
    "# demo2\n",
    "\n",
    "p = re.compile(r'\\\\')\n",
    "m = p.findall('D:\\Courses\\Python')\n",
    "print(m)"
   ]
  },
  {
   "cell_type": "code",
   "execution_count": null,
   "metadata": {
    "scrolled": true
   },
   "outputs": [],
   "source": []
  },
  {
   "cell_type": "markdown",
   "metadata": {},
   "source": [
    "### Anchors"
   ]
  },
  {
   "cell_type": "markdown",
   "metadata": {},
   "source": [
    "#### Caret"
   ]
  },
  {
   "cell_type": "code",
   "execution_count": 21,
   "metadata": {},
   "outputs": [
    {
     "name": "stdout",
     "output_type": "stream",
     "text": [
      "['abc']\n"
     ]
    }
   ],
   "source": [
    "# Caret\n",
    "# ex1\n",
    "p = re.compile(r'^ab.')\n",
    "m = p.findall('abc abd abe abf')\n",
    "print(m)"
   ]
  },
  {
   "cell_type": "code",
   "execution_count": 22,
   "metadata": {
    "scrolled": true
   },
   "outputs": [
    {
     "name": "stdout",
     "output_type": "stream",
     "text": [
      "['aac']\n",
      "['aac', 'abc']\n"
     ]
    }
   ],
   "source": [
    "# ex2\n",
    "p = re.compile(r'^a[ab]c')\n",
    "m = p.findall('''aac\\nabc''')\n",
    "print(m)\n",
    "\n",
    "p = re.compile(r'^a[ab]c', re.M)\n",
    "m = p.findall('''aac\\nabc''')\n",
    "print(m)"
   ]
  },
  {
   "cell_type": "code",
   "execution_count": null,
   "metadata": {},
   "outputs": [],
   "source": []
  },
  {
   "cell_type": "markdown",
   "metadata": {},
   "source": [
    "#### Dollar(\\$)"
   ]
  },
  {
   "cell_type": "code",
   "execution_count": 23,
   "metadata": {},
   "outputs": [
    {
     "name": "stdout",
     "output_type": "stream",
     "text": [
      "['abf']\n"
     ]
    }
   ],
   "source": [
    "# Dollar\n",
    "# ex1\n",
    "p = re.compile(r'ab.$')\n",
    "m = p.findall('abc abd abe abf')\n",
    "print(m)"
   ]
  },
  {
   "cell_type": "code",
   "execution_count": 24,
   "metadata": {},
   "outputs": [
    {
     "name": "stdout",
     "output_type": "stream",
     "text": [
      "['bc']\n",
      "['ac', 'bc']\n"
     ]
    }
   ],
   "source": [
    "# ex2\n",
    "p = re.compile(r'[ab]c$')\n",
    "m = p.findall('ac\\nbc')\n",
    "print(m)\n",
    "\n",
    "p = re.compile(r'[ab]c$', re.M)\n",
    "m = p.findall('ac\\nbc')\n",
    "print(m)"
   ]
  },
  {
   "cell_type": "code",
   "execution_count": null,
   "metadata": {},
   "outputs": [],
   "source": []
  },
  {
   "cell_type": "markdown",
   "metadata": {},
   "source": [
    "#### Word Boundary: \\b and \\B"
   ]
  },
  {
   "cell_type": "code",
   "execution_count": 25,
   "metadata": {},
   "outputs": [
    {
     "name": "stdout",
     "output_type": "stream",
     "text": [
      "['11', '12', '13']\n"
     ]
    }
   ],
   "source": [
    "# Word Boundary:\n",
    "# ex1\n",
    "p = re.compile(r'\\b\\d\\d\\b')\n",
    "m = p.findall('1 2 3 11 12 13 111 112 113')\n",
    "print(m)"
   ]
  },
  {
   "cell_type": "code",
   "execution_count": 26,
   "metadata": {},
   "outputs": [
    {
     "name": "stdout",
     "output_type": "stream",
     "text": [
      "['aa', 'ab', 'ac', 'AA', 'AB', 'AC']\n"
     ]
    }
   ],
   "source": [
    "# ex2\n",
    "p = re.compile(r'\\b\\w\\w\\b')\n",
    "m = p.findall('aa,ab;ac(AA)AB AC')\n",
    "print(m)"
   ]
  },
  {
   "cell_type": "code",
   "execution_count": null,
   "metadata": {},
   "outputs": [],
   "source": []
  },
  {
   "cell_type": "markdown",
   "metadata": {},
   "source": [
    "### Quantifiers"
   ]
  },
  {
   "cell_type": "markdown",
   "metadata": {},
   "source": [
    "#### Asterisk (\\*), Question Mark (?) and Plus (+)"
   ]
  },
  {
   "cell_type": "code",
   "execution_count": 27,
   "metadata": {},
   "outputs": [
    {
     "name": "stdout",
     "output_type": "stream",
     "text": [
      "['ac', 'abc', 'aac', 'aabc', 'aaac', 'ababc']\n",
      "['abc', 'aac', 'aabc', 'aaac', 'ababc']\n",
      "['ac', 'abc', 'aac', 'abc', 'aac', 'abc']\n"
     ]
    }
   ],
   "source": [
    "# Asterisk, Question Mark and Plus\n",
    "# ex1\n",
    "p = re.compile(r'a[ab]*c')\n",
    "m = p.findall('a ab ac abc aac aabc aaac ababc')\n",
    "print(m)\n",
    "\n",
    "p = re.compile(r'a[ab]+c')\n",
    "m = p.findall('a ab ac abc aac aabc aaac ababc')\n",
    "print(m)\n",
    "\n",
    "p = re.compile(r'a[ab]?c')\n",
    "m = p.findall('a ab ac abc aac aabc aaac ababc')\n",
    "print(m)"
   ]
  },
  {
   "cell_type": "markdown",
   "metadata": {},
   "source": [
    "#### {m} and {m,n}"
   ]
  },
  {
   "cell_type": "code",
   "execution_count": 28,
   "metadata": {},
   "outputs": [
    {
     "name": "stdout",
     "output_type": "stream",
     "text": [
      "['111', '112', '113']\n",
      "['11', '12', '13', '111', '112', '113']\n"
     ]
    }
   ],
   "source": [
    "# {m} and {m,n}\n",
    "# ex1\n",
    "p = re.compile(r'\\d{3}')\n",
    "m = p.findall('1 2 3 11 12 13 111 112 113')\n",
    "print(m)\n",
    "\n",
    "p = re.compile(r'\\d{2,3}')\n",
    "m = p.findall('1 2 3 11 12 13 111 112 113')\n",
    "print(m)"
   ]
  },
  {
   "cell_type": "code",
   "execution_count": null,
   "metadata": {},
   "outputs": [],
   "source": []
  },
  {
   "cell_type": "markdown",
   "metadata": {},
   "source": [
    "### Grouping Constructs"
   ]
  },
  {
   "cell_type": "markdown",
   "metadata": {},
   "source": [
    "#### Groups (())"
   ]
  },
  {
   "cell_type": "code",
   "execution_count": 32,
   "metadata": {},
   "outputs": [
    {
     "name": "stdout",
     "output_type": "stream",
     "text": [
      "[('Math', '89'), ('Physics', '92'), ('English', '78')]\n"
     ]
    }
   ],
   "source": [
    "# Groups\n",
    "# ex1\n",
    "\n",
    "p = re.compile(r'(\\w+): (\\d+)')\n",
    "m = p.findall('Course: Grade\\nMath: 89\\nPhysics: 92\\n English: 78')\n",
    "print(m)"
   ]
  },
  {
   "cell_type": "markdown",
   "metadata": {},
   "source": [
    "#### Quantifiers with Groups"
   ]
  },
  {
   "cell_type": "code",
   "execution_count": 60,
   "metadata": {},
   "outputs": [
    {
     "name": "stdout",
     "output_type": "stream",
     "text": [
      "['ha', 'ha']\n",
      "['12: Numpy', '13: Pandas', '14: Data Visualzation']\n"
     ]
    }
   ],
   "source": [
    "# Quantifiers with Groups\n",
    "# ex1\n",
    "\n",
    "p = re.compile(r'(ha)+')\n",
    "m = p.findall('ha hh aa hahahaha')\n",
    "print(m)\n",
    "\n",
    "# ex3\n",
    "chapters = 'Chapter 12: Numpy\\n\\\n",
    "Chapter 13: Pandas\\n\\\n",
    "Chapter 14: Data Visualzation'\n",
    "p = re.compile(r'^Chapter (\\d+: .+)', re.M)\n",
    "m = p.findall(chapters)\n",
    "print(m)\n"
   ]
  },
  {
   "cell_type": "markdown",
   "metadata": {},
   "source": [
    "#### Alternation (|)"
   ]
  },
  {
   "cell_type": "code",
   "execution_count": 61,
   "metadata": {},
   "outputs": [
    {
     "name": "stdout",
     "output_type": "stream",
     "text": [
      "[('game', 'exe'), ('auto', 'bat'), ('text', 'zip')]\n"
     ]
    }
   ],
   "source": [
    "# Alternation\n",
    "# ex1\n",
    "p = re.compile(r'(\\w+)\\.(bat|zip|exe)')\n",
    "m = p.findall('game.exe auto.bat text.zip')\n",
    "print(m)"
   ]
  },
  {
   "cell_type": "code",
   "execution_count": null,
   "metadata": {},
   "outputs": [],
   "source": []
  },
  {
   "cell_type": "markdown",
   "metadata": {},
   "source": [
    "#### Capturing Groups"
   ]
  },
  {
   "cell_type": "code",
   "execution_count": 71,
   "metadata": {},
   "outputs": [
    {
     "name": "stdout",
     "output_type": "stream",
     "text": [
      "<re.Match object; span=(0, 17), match='game.exe auto.bat'>\n",
      "('game.exe', 'auto.bat')\n"
     ]
    }
   ],
   "source": [
    "# re.Match.groups()\n",
    "# ex1\n",
    "\n",
    "p = re.compile(r'(\\w+\\.\\w+)\\s(\\w+\\.\\w+)')\n",
    "m = p.search('game.exe auto.bat text.zip')\n",
    "print(m)\n",
    "print(m.groups())"
   ]
  },
  {
   "cell_type": "code",
   "execution_count": 80,
   "metadata": {},
   "outputs": [
    {
     "name": "stdout",
     "output_type": "stream",
     "text": [
      "one,,,two:three++++++4\n",
      "one\n",
      "('two', 'three', '4')\n"
     ]
    }
   ],
   "source": [
    "# re.Match.group()\n",
    "# ex1\n",
    "pattern = r'(\\w+)\\W+(\\w+)\\W+(\\w+)\\W+(\\w)+'\n",
    "p = re.compile(pattern)\n",
    "m = p.search('one,,,two:three++++++4')\n",
    "print(m.group(0))\n",
    "print(m.group(1))\n",
    "print(m.group(2, 3, 4))"
   ]
  },
  {
   "cell_type": "code",
   "execution_count": null,
   "metadata": {},
   "outputs": [],
   "source": []
  },
  {
   "cell_type": "markdown",
   "metadata": {},
   "source": [
    "#### Backreference"
   ]
  },
  {
   "cell_type": "code",
   "execution_count": 87,
   "metadata": {},
   "outputs": [
    {
     "name": "stdout",
     "output_type": "stream",
     "text": [
      "('1234123', '123')\n",
      "('11311', '11')\n",
      "('434', '4')\n"
     ]
    }
   ],
   "source": [
    "# Backreference\n",
    "# ex1\n",
    "\n",
    "p = re.compile(r'((\\d+)\\d\\2)')\n",
    "m = p.finditer('1234123, 11311, 123, 54345')\n",
    "for string in m:\n",
    "    print(string.group(1, 2))"
   ]
  },
  {
   "cell_type": "code",
   "execution_count": null,
   "metadata": {},
   "outputs": [],
   "source": []
  },
  {
   "cell_type": "markdown",
   "metadata": {},
   "source": [
    "### Flags"
   ]
  },
  {
   "cell_type": "code",
   "execution_count": 92,
   "metadata": {},
   "outputs": [
    {
     "name": "stdout",
     "output_type": "stream",
     "text": [
      "['abc'] ['abc', 'ABC', 'aBC', 'Abc']\n"
     ]
    }
   ],
   "source": [
    "# Flag re.I\n",
    "# ex1\n",
    "p1 = re.compile(r'abc')\n",
    "m1 = p1.findall('abc ABC aBC Abc')\n",
    "p2 = re.compile(r'abc', re.I)\n",
    "m2 = p2.findall('abc ABC aBC Abc')\n",
    "\n",
    "print(m1, m2)"
   ]
  },
  {
   "cell_type": "code",
   "execution_count": 93,
   "metadata": {},
   "outputs": [
    {
     "name": "stdout",
     "output_type": "stream",
     "text": [
      "['A', 'a', '1', '!', ' '] ['A', 'a', '1', '!', ' ', '\\n']\n"
     ]
    }
   ],
   "source": [
    "# Flag re.S\n",
    "# ex2\n",
    "p1 = re.compile(r'.')\n",
    "m1 = p1.findall('Aa1! \\n')\n",
    "p2 = re.compile(r'.', re.S)\n",
    "m2 = p2.findall('Aa1! \\n')\n",
    "\n",
    "print(m1, m2)"
   ]
  },
  {
   "cell_type": "code",
   "execution_count": null,
   "metadata": {},
   "outputs": [],
   "source": []
  },
  {
   "cell_type": "markdown",
   "metadata": {},
   "source": [
    "### Model-Level Methods"
   ]
  },
  {
   "cell_type": "markdown",
   "metadata": {},
   "source": [
    "#### re.match, re.search, re.findall, re.finditer"
   ]
  },
  {
   "cell_type": "code",
   "execution_count": 96,
   "metadata": {},
   "outputs": [
    {
     "name": "stdout",
     "output_type": "stream",
     "text": [
      "match: <re.Match object; span=(0, 3), match='abc'>\n",
      "search: <re.Match object; span=(2, 5), match='abc'>\n",
      "findall: ['abc', 'abc']\n",
      "finditer: <callable_iterator object at 0x000002570A363310>\n"
     ]
    }
   ],
   "source": [
    "# ex1\n",
    "\n",
    "match = re.match(r'abc', 'abc')\n",
    "search = re.search(r'abc', 'a abc')\n",
    "findall = re.findall(r'abc', 'abc abc ab bc a b c')\n",
    "finditer = re.finditer(r'abc', 'abc abc ab bc a b c')\n",
    "print(f'match: {match}')\n",
    "print(f'search: {search}')\n",
    "print(f'findall: {findall}')\n",
    "print(f'finditer: {finditer}')"
   ]
  },
  {
   "cell_type": "code",
   "execution_count": null,
   "metadata": {},
   "outputs": [],
   "source": []
  },
  {
   "cell_type": "markdown",
   "metadata": {},
   "source": [
    "#### String-modifying methods"
   ]
  },
  {
   "cell_type": "code",
   "execution_count": 104,
   "metadata": {},
   "outputs": [
    {
     "name": "stdout",
     "output_type": "stream",
     "text": [
      "['The', 'split', 'method', 'is', 'powerful']\n",
      "['The', '~', 'split', '*', 'method', '-', 'is', '%', 'powerful']\n"
     ]
    }
   ],
   "source": [
    "# re.split()\n",
    "# ex1\n",
    "\n",
    "p = re.compile(r'\\W+')\n",
    "split = p.split('The~split*method-is%powerful')\n",
    "print(split)\n",
    "\n",
    "p = re.compile(r'(\\W+)')\n",
    "split = p.split('The~split*method-is%powerful')\n",
    "print(split)"
   ]
  },
  {
   "cell_type": "code",
   "execution_count": 110,
   "metadata": {},
   "outputs": [
    {
     "name": "stdout",
     "output_type": "stream",
     "text": [
      "Tokyo is a large city.\n",
      "('Tokyo is Tokyo', 2)\n",
      "Tokyo is Tokyo\n"
     ]
    }
   ],
   "source": [
    "# re.sub() and re.subn()\n",
    "# ex1\n",
    "\n",
    "p = re.compile(r'Toko')\n",
    "sub = p.sub('Tokyo', 'Toko is a large city.')\n",
    "subn = p.subn('Tokyo', 'Toko is Toko')\n",
    "print(sub)\n",
    "print(subn)\n",
    "\n",
    "# ex2\n",
    "sub = re.sub(r'Toko', 'Tokyo', \n",
    "             'Toko is Toko')\n",
    "print(sub)"
   ]
  },
  {
   "cell_type": "code",
   "execution_count": 105,
   "metadata": {},
   "outputs": [],
   "source": []
  },
  {
   "cell_type": "code",
   "execution_count": null,
   "metadata": {},
   "outputs": [],
   "source": []
  },
  {
   "cell_type": "markdown",
   "metadata": {},
   "source": [
    "## Exercises"
   ]
  },
  {
   "cell_type": "markdown",
   "metadata": {},
   "source": [
    "### Exercise 3.11"
   ]
  },
  {
   "cell_type": "markdown",
   "metadata": {},
   "source": [
    "Match all phone numbers in the give text.\n",
    "```\n",
    "Please dial our hotline number:\n",
    "93811800\n",
    "93811808\n",
    "93811818\n",
    "```"
   ]
  },
  {
   "cell_type": "code",
   "execution_count": 2,
   "metadata": {},
   "outputs": [
    {
     "name": "stdout",
     "output_type": "stream",
     "text": [
      "['93811800', '93811808', '93811818']\n"
     ]
    }
   ],
   "source": [
    "text = '''Please dial our hotline number:\n",
    "93811800\n",
    "93811808\n",
    "93811818'''\n",
    "\n",
    "p = re.compile(_______________, re.M) # remove the underline and fill in your code\n",
    "\n",
    "print(p.findall(text))"
   ]
  },
  {
   "cell_type": "code",
   "execution_count": null,
   "metadata": {},
   "outputs": [],
   "source": []
  },
  {
   "cell_type": "markdown",
   "metadata": {},
   "source": [
    "### Exercise 3.12"
   ]
  },
  {
   "cell_type": "markdown",
   "metadata": {},
   "source": [
    "Match all the prefixes and only the names following them in the text.\n",
    "```\n",
    "Here are the guests coming to the party tonight:\n",
    " - Mr. Joe Bean\n",
    " - Ms. Liz Johnson\n",
    " - Mrs. Alice Dawn Fredder\n",
    " - Miss. Emma Williams\n",
    "\n",
    "```"
   ]
  },
  {
   "cell_type": "code",
   "execution_count": 8,
   "metadata": {},
   "outputs": [],
   "source": [
    "text = '''Here are the guests coming to the party tonight:\n",
    " - Mr. Joe Bean\n",
    " - Ms. Liz Johnson\n",
    " - Mrs. Alice Dawn Fredder\n",
    " - Miss. Emma Williams'''\n"
   ]
  },
  {
   "cell_type": "code",
   "execution_count": 15,
   "metadata": {},
   "outputs": [
    {
     "name": "stdout",
     "output_type": "stream",
     "text": [
      "['Mr. Joe Bean', 'Ms. Liz Johnson', 'Mrs. Alice Dawn Fredder', 'Miss. Emma Williams']\n"
     ]
    }
   ],
   "source": [
    "p = re.compile(_________________, re.M) # remove the underline and fill in your code\n",
    "\n",
    "print(p.findall(text))"
   ]
  },
  {
   "cell_type": "code",
   "execution_count": null,
   "metadata": {},
   "outputs": [],
   "source": []
  },
  {
   "cell_type": "markdown",
   "metadata": {},
   "source": [
    "### Exercise 3.13"
   ]
  },
  {
   "cell_type": "markdown",
   "metadata": {},
   "source": [
    "Match all email addresses from the given text.\n",
    "```\n",
    "My old email address ott@oldcompany.com has been invalidated. For the moment, I use my personal email address ott_personal@email.sg. Later when I start my own company, I will use this email: ott@myowncompany.com.sg.\n",
    "```"
   ]
  },
  {
   "cell_type": "code",
   "execution_count": 17,
   "metadata": {},
   "outputs": [],
   "source": [
    "text = \"My old email address ott@oldcompany.com has been invalidated. For the moment, I use my personal email address ott_personal@email.sg. Later when I start my own company, I will use this email: ott@myowncompany.com.sg.\""
   ]
  },
  {
   "cell_type": "code",
   "execution_count": 18,
   "metadata": {},
   "outputs": [
    {
     "name": "stdout",
     "output_type": "stream",
     "text": [
      "['ott@oldcompany.com', 'ott_personal@email.sg', 'ott@myowncompany.com.sg']\n"
     ]
    }
   ],
   "source": [
    "\n",
    "p = re.compile(________________, re.M) # remove the underline and fill in your code\n",
    "\n",
    "print(p.findall(text))"
   ]
  },
  {
   "cell_type": "code",
   "execution_count": null,
   "metadata": {},
   "outputs": [],
   "source": []
  },
  {
   "cell_type": "markdown",
   "metadata": {},
   "source": [
    "### Exercise 3.14"
   ]
  },
  {
   "cell_type": "markdown",
   "metadata": {},
   "source": [
    "Match all the names and phone numbers from the given text and create a dictionary using the names as keys and phone numbers as values.\n",
    "\n",
    "\\*Note that the correct format for a phone number is 9 digits evenly divided into three groups by two hyphens, e.g., 111-111-111. Please correct all the phone numbers you collected before you put them in the dictionary."
   ]
  },
  {
   "cell_type": "code",
   "execution_count": 20,
   "metadata": {},
   "outputs": [],
   "source": [
    "phones = '''LeBroooon James: 123-111-212\n",
    "Dd Wade: 391-399-128\n",
    "Steve Curry: 188381887\n",
    "Kk Durant: 212-212212\n",
    "Jon Harden: 371*371&196\n",
    "Kiwi Leonard: -192-182-736-\n",
    "Power George: 8198-18-817'''\n"
   ]
  },
  {
   "cell_type": "code",
   "execution_count": 25,
   "metadata": {},
   "outputs": [
    {
     "name": "stdout",
     "output_type": "stream",
     "text": [
      "{'LeBroooon James': '123-111-212', 'Dd Wade': '391-399-128', 'Steve Curry': '188-381-887', 'Kk Durant': '212-212-212', 'Jon Harden': '371-371-196', 'Kiwi Leonard': '192-182-736', 'Power George': '819-818-817'}\n"
     ]
    }
   ],
   "source": [
    "# write your code here \n",
    "# You can refer to the output\n",
    "\n",
    "\n"
   ]
  },
  {
   "cell_type": "markdown",
   "metadata": {},
   "source": [
    "### Exercise 3.15"
   ]
  },
  {
   "cell_type": "markdown",
   "metadata": {},
   "source": [
    "Match all the words that contains at least one character that appears more than once from the given text."
   ]
  },
  {
   "cell_type": "code",
   "execution_count": 1,
   "metadata": {},
   "outputs": [
    {
     "data": {
      "text/plain": [
       "[('contains', 'n'), ('criminals', 'i')]"
      ]
     },
     "execution_count": 1,
     "metadata": {},
     "output_type": "execute_result"
    }
   ],
   "source": [
    "p = re.compile(_______________________) # remove the underline and fill in your code\n",
    "\n",
    "p.findall('The group contains some of the most dangerous criminals in the country.')\n"
   ]
  },
  {
   "cell_type": "code",
   "execution_count": null,
   "metadata": {},
   "outputs": [],
   "source": []
  },
  {
   "cell_type": "code",
   "execution_count": null,
   "metadata": {},
   "outputs": [],
   "source": []
  },
  {
   "cell_type": "markdown",
   "metadata": {},
   "source": [
    "### Exercise 3.16"
   ]
  },
  {
   "cell_type": "markdown",
   "metadata": {},
   "source": [
    "Match all the words that contain at least 3 vowel letters (‘aeiou’) from the given text."
   ]
  },
  {
   "cell_type": "code",
   "execution_count": 10,
   "metadata": {
    "scrolled": true
   },
   "outputs": [
    {
     "data": {
      "text/plain": [
       "[('contains', 'ins'), ('dangerous', 'us'), ('criminals', 'als')]"
      ]
     },
     "execution_count": 10,
     "metadata": {},
     "output_type": "execute_result"
    }
   ],
   "source": [
    "p = re.compile(_________________) # remove the underline and fill in your code\n",
    "\n",
    "p.findall('The group contains some of the most dangerous criminals in the country.')\n"
   ]
  },
  {
   "cell_type": "code",
   "execution_count": null,
   "metadata": {},
   "outputs": [],
   "source": []
  }
 ],
 "metadata": {
  "kernelspec": {
   "display_name": "Python 3",
   "language": "python",
   "name": "python3"
  },
  "language_info": {
   "codemirror_mode": {
    "name": "ipython",
    "version": 3
   },
   "file_extension": ".py",
   "mimetype": "text/x-python",
   "name": "python",
   "nbconvert_exporter": "python",
   "pygments_lexer": "ipython3",
   "version": "3.8.3"
  }
 },
 "nbformat": 4,
 "nbformat_minor": 4
}
