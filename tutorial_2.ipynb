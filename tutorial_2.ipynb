{
 "cells": [
  {
   "cell_type": "markdown",
   "metadata": {},
   "source": [
    "### Question 2.21: Elevator -- return correct floor"
   ]
  },
  {
   "cell_type": "markdown",
   "metadata": {},
   "source": [
    "The code below defines an *Elevator* class. In this class,<br/>\n",
    "* The elevator is associated with a current floor where it stands by.\n",
    "* All floors are numbered by continuous integers except that *floor -1* is one level below *floor 1*.\n",
    "* The first floor aboveground is *floor 1*, and the first floor undergound is *floor -1* if there is any underground floor.\n",
    "* There is a pair of integers representing the top floor and the bottom floor the elevator can go to.\n",
    "* The elevator only stops at floors numbered with an odd integer.\n",
    "\n",
    "Fill in the blanks to simulate the movement of the elevator between the requested floors."
   ]
  },
  {
   "cell_type": "code",
   "execution_count": 5,
   "metadata": {
    "ExecuteTime": {
     "end_time": "2024-05-03T10:05:48.165804Z",
     "start_time": "2024-05-03T10:05:48.146307Z"
    }
   },
   "outputs": [],
   "source": [
    "class Elevator:\n",
    "    def __init__(self, bottom, top, current):\n",
    "        '''Initialize the Elevator instance.\n",
    "        If the current floor is not an odd number,\n",
    "        the current floor will be one level below the desired floor.'''\n",
    "        self.bottom = bottom\n",
    "        self.top = top\n",
    "        self.current=current\n",
    "\n",
    "    def up(self):\n",
    "        '''Make the elevator go up to the next possible floor.'''\n",
    "        if self.current%2==0:\n",
    "            self.current=self.current+1\n",
    "\n",
    "\n",
    "    def down(self):\n",
    "        '''Make the elevator go down to the next possible floor.'''\n",
    "        if self.current%2!=0:\n",
    "            self.current=self.current-1\n",
    "            \n",
    "    def go_to(self, floor):\n",
    "        '''Make the elevator go to the specific floor.\n",
    "        If the number of specific floor is not an odd number, \n",
    "        the specific floor will be one level below the desired floor.'''\n",
    "\n",
    "    def __str__(self):\n",
    "        pass\n"
   ]
  },
  {
   "cell_type": "code",
   "execution_count": null,
   "metadata": {
    "ExecuteTime": {
     "start_time": "2024-05-03T09:47:51.488519Z"
    }
   },
   "outputs": [],
   "source": [
    "elevator = Elevator(-1, 11, 2)"
   ]
  },
  {
   "cell_type": "markdown",
   "metadata": {},
   "source": [
    "To test whether your *Elevator* class is working correctly, run the code blocks below."
   ]
  },
  {
   "cell_type": "code",
   "execution_count": 3,
   "metadata": {
    "ExecuteTime": {
     "start_time": "2024-05-03T09:47:51.492428Z"
    }
   },
   "outputs": [
    {
     "ename": "NameError",
     "evalue": "name 'elevator' is not defined",
     "output_type": "error",
     "traceback": [
      "\u001B[0;31m---------------------------------------------------------------------------\u001B[0m",
      "\u001B[0;31mNameError\u001B[0m                                 Traceback (most recent call last)",
      "Cell \u001B[0;32mIn[3], line 1\u001B[0m\n\u001B[0;32m----> 1\u001B[0m \u001B[43melevator\u001B[49m\u001B[38;5;241m.\u001B[39mup()\n\u001B[1;32m      2\u001B[0m elevator\u001B[38;5;241m.\u001B[39mcurrent \u001B[38;5;66;03m#should output 3\u001B[39;00m\n",
      "\u001B[0;31mNameError\u001B[0m: name 'elevator' is not defined"
     ]
    }
   ],
   "source": [
    "elevator.up()\n",
    "elevator.current #should output 3"
   ]
  },
  {
   "cell_type": "code",
   "execution_count": null,
   "metadata": {
    "ExecuteTime": {
     "end_time": "2024-05-03T09:47:52.349544Z",
     "start_time": "2024-05-03T09:47:51.917648Z"
    }
   },
   "outputs": [],
   "source": [
    "elevator.down() \n",
    "elevator.current #should output 1"
   ]
  },
  {
   "cell_type": "code",
   "execution_count": null,
   "metadata": {
    "ExecuteTime": {
     "start_time": "2024-05-03T09:47:51.922731Z"
    }
   },
   "outputs": [],
   "source": [
    "elevator.go_to(9) \n",
    "elevator.current #should output 9"
   ]
  },
  {
   "cell_type": "code",
   "execution_count": null,
   "metadata": {
    "ExecuteTime": {
     "start_time": "2024-05-03T09:47:51.927395Z"
    }
   },
   "outputs": [],
   "source": [
    "# Go to the top floor. Try to go up, it should stay. Then go down.\n",
    "elevator.go_to(11)\n",
    "elevator.up()\n",
    "elevator.down()\n",
    "print(elevator.current) # should be 9"
   ]
  },
  {
   "cell_type": "code",
   "execution_count": null,
   "metadata": {
    "ExecuteTime": {
     "start_time": "2024-05-03T09:47:51.931985Z"
    }
   },
   "outputs": [],
   "source": [
    "# Try to go up, then go down.\n",
    "elevator.go_to(10)\n",
    "elevator.up()\n",
    "elevator.down()\n",
    "print(elevator.current) # should be 9, why?"
   ]
  },
  {
   "cell_type": "code",
   "execution_count": null,
   "metadata": {
    "ExecuteTime": {
     "start_time": "2024-05-03T09:47:51.936555Z"
    }
   },
   "outputs": [],
   "source": [
    "# Go to the bottom floor. Try to go down, it should stay. Then go up.\n",
    "elevator.go_to(-1)\n",
    "print(elevator.current) # should be -1\n",
    "elevator.down()\n",
    "elevator.down()\n",
    "elevator.up()\n",
    "elevator.up()\n",
    "print(elevator.current) # should be 3"
   ]
  },
  {
   "cell_type": "markdown",
   "metadata": {},
   "source": [
    "Now add the __str__ method to your *Elevator* class definition above so that when printing the elevator using the **print( )** method, we get the current floor together with a message. For example, in the 5th floor it should say \"Current floor: 5\""
   ]
  },
  {
   "cell_type": "code",
   "execution_count": null,
   "metadata": {
    "ExecuteTime": {
     "start_time": "2024-05-03T09:47:51.941244Z"
    }
   },
   "outputs": [],
   "source": [
    "elevator.go_to(5)\n",
    "print(elevator)"
   ]
  },
  {
   "cell_type": "markdown",
   "metadata": {},
   "source": [
    "### Question 2.22: Netflix"
   ]
  },
  {
   "cell_type": "markdown",
   "metadata": {},
   "source": [
    "The code below defines a *Netflix* class. A Netflix object stores its title and the year it was first published."
   ]
  },
  {
   "cell_type": "code",
   "execution_count": null,
   "metadata": {
    "ExecuteTime": {
     "start_time": "2024-05-03T09:47:51.946331Z"
    }
   },
   "outputs": [],
   "source": [
    "#Write your class here\n",
    "class Netflix:\n",
    "    def __init__(self, title, year):\n"
   ]
  },
  {
   "cell_type": "code",
   "execution_count": null,
   "metadata": {
    "ExecuteTime": {
     "start_time": "2024-05-03T09:47:51.951207Z"
    }
   },
   "outputs": [],
   "source": [
    "#Test your code here\n",
    "netflix = Netflix('The call', 2020)\n",
    "print(netflix)"
   ]
  },
  {
   "cell_type": "markdown",
   "metadata": {},
   "source": [
    "What if we want to search movie by actor/actress's name and year?\n",
    "* We would like to define a more structured class<br>\n",
    "\n",
    "The code below defines a *StructuredNetflix* class. <br>\n",
    "This class stores the movie's title, cast, length and year. <br>\n",
    "Add the method __display__ to show all the information stored."
   ]
  },
  {
   "cell_type": "code",
   "execution_count": null,
   "metadata": {
    "ExecuteTime": {
     "start_time": "2024-05-03T09:47:51.955920Z"
    }
   },
   "outputs": [],
   "source": [
    "#Write your class here\n",
    "class StructuredNetflix:\n",
    "    def __init__(self, title, cast, length, year):\n",
    "        self.title = title\n",
    "        self.cast = cast\n",
    "        self.length = length\n",
    "        self.year = year\n",
    "\n",
    "    def display(self):\n",
    "        print(\"Title: \" + self.title)\n",
    "        print(\"Cast: \" + str(self.cast))\n",
    "        print(\"Length: \" + str(self.length))\n",
    "        print(\"Year: \" + str(self.year))\n"
   ]
  },
  {
   "cell_type": "code",
   "execution_count": null,
   "metadata": {
    "ExecuteTime": {
     "start_time": "2024-05-03T09:47:51.961460Z"
    }
   },
   "outputs": [],
   "source": [
    "#Test your code here\n",
    "netflix = StructuredNetflix('The call', ['Park Shine-hye', 'Jun Jong-seo', 'Kim Sung-ryoung'], '1h 52m', 2020)\n",
    "netflix.display()"
   ]
  },
  {
   "cell_type": "markdown",
   "metadata": {},
   "source": [
    "Expected output: <br>\n",
    "Title: The call <br>\n",
    "Year: 2020 <br>\n",
    "Cast: Park Shine-hye, Jun Jong-seo, Kim Sung-ryoung <br>\n",
    "Movie length: 1h 52m"
   ]
  },
  {
   "cell_type": "markdown",
   "metadata": {},
   "source": [
    "Now, if we have a list of StructuredNetflix objects and we want to find all of the ones that Park Shine-hye acted and shows in 2020 except the movie we just watched ('The call')"
   ]
  },
  {
   "cell_type": "code",
   "execution_count": null,
   "metadata": {
    "ExecuteTime": {
     "start_time": "2024-05-03T09:47:51.966151Z"
    }
   },
   "outputs": [],
   "source": [
    "netList = [StructuredNetflix('The call', ['Park Shine-hye', 'Jun Jong-seo', 'Kim Sung-ryoung'], '1h 52m', 2020),\n",
    "          StructuredNetflix('Alive', ['Yoo Ah-in', 'Park Shine-hye'], '1h 38m', 2020),\n",
    "          StructuredNetflix('Miss Americana', ['Taloy Swift'], '1h 25m', 2020)]"
   ]
  },
  {
   "cell_type": "code",
   "execution_count": 4,
   "metadata": {
    "ExecuteTime": {
     "end_time": "2024-05-03T09:47:59.947526Z",
     "start_time": "2024-05-03T09:47:59.914087Z"
    }
   },
   "outputs": [
    {
     "ename": "NameError",
     "evalue": "name 'netList' is not defined",
     "output_type": "error",
     "traceback": [
      "\u001B[0;31m---------------------------------------------------------------------------\u001B[0m",
      "\u001B[0;31mNameError\u001B[0m                                 Traceback (most recent call last)",
      "Cell \u001B[0;32mIn[4], line 6\u001B[0m\n\u001B[1;32m      3\u001B[0m condition_Year\u001B[38;5;241m=\u001B[39m\u001B[38;5;241m2020\u001B[39m\n\u001B[1;32m      4\u001B[0m condition_except_title\u001B[38;5;241m=\u001B[39m\u001B[38;5;124m'\u001B[39m\u001B[38;5;124mThe call\u001B[39m\u001B[38;5;124m'\u001B[39m\n\u001B[0;32m----> 6\u001B[0m \u001B[38;5;28;01mfor\u001B[39;00m element \u001B[38;5;129;01min\u001B[39;00m \u001B[43mnetList\u001B[49m:\n\u001B[1;32m      7\u001B[0m     \u001B[38;5;28;01mif\u001B[39;00m element\u001B[38;5;241m.\u001B[39mtitle\u001B[38;5;241m!=\u001B[39mcondition_except_title \u001B[38;5;129;01mand\u001B[39;00m element\u001B[38;5;241m.\u001B[39myear\u001B[38;5;241m==\u001B[39mcondition_Year \u001B[38;5;129;01mand\u001B[39;00m condition_Actor \u001B[38;5;129;01min\u001B[39;00m element\u001B[38;5;241m.\u001B[39mcast:\n\u001B[1;32m      8\u001B[0m         \u001B[38;5;28mprint\u001B[39m(\u001B[38;5;124m\"\u001B[39m\u001B[38;5;124m****Filtered Result****\u001B[39m\u001B[38;5;124m\"\u001B[39m)\n",
      "\u001B[0;31mNameError\u001B[0m: name 'netList' is not defined"
     ]
    }
   ],
   "source": [
    "#Write your code here\n",
    "condition_Actor='Park Shine-hye'\n",
    "condition_Year=2020\n",
    "condition_except_title='The call'\n",
    "\n",
    "for element in netList:\n",
    "    if element.title!=condition_except_title and element.year==condition_Year and condition_Actor in element.cast:\n",
    "        print(\"****Filtered Result****\")\n",
    "        element.display()"
   ]
  },
  {
   "cell_type": "markdown",
   "metadata": {},
   "source": [
    "Expected output:<br>\n",
    "Title: Alive<br>\n",
    "Year: 2020<br>\n",
    "Cast: Yoo Ah-in, Park Shine-hye<br>\n",
    "Movie length: 1h 38m"
   ]
  },
  {
   "cell_type": "markdown",
   "metadata": {},
   "source": [
    "But now we have another problem. Our StructuredAddress works fine for movies, but not for TV series. We could improve the **display()** method to handle lengths for movies and seasons for TV series. Let's think about the details:\n",
    "\n",
    "- Create a *BaseNetflix* class instead to store common attributes (title, cast and year).\n",
    "- *BaseNetflix* class has the method __display__ to show the information stored.\n",
    "- Create a child class *Movie* that has one more attribute length.\n",
    "- When call the method __display__ with movies, it should show the movie's title, cast, year and length.\n",
    "- Create a child class *TVseries* that has attributes title, cast, year and season.\n",
    "- When call the method __display__ with TV series, it should show title, cast, year and season.\n",
    "- Add method __update_season__ for class *TVseries*, this method will update the no. of season. Check the sample output for tv.update_season()"
   ]
  },
  {
   "cell_type": "code",
   "execution_count": null,
   "metadata": {
    "ExecuteTime": {
     "start_time": "2024-05-03T09:47:51.976769Z"
    }
   },
   "outputs": [],
   "source": [
    "class BaseNetflix:\n",
    "    def __init__(self, title, cast, year):\n",
    "        self.title = title\n",
    "        self.cast = cast\n",
    "        self.year = year\n",
    "\n",
    "    def display(self):\n",
    "        print(\"Title: \" + self.title)\n",
    "        print(\"Cast: \" + str(self.cast))\n",
    "        print(\"Year: \" + str(self.year))\n",
    "\n",
    "\n",
    "\n",
    "class Movie(BaseNetflix):\n",
    "    def __init__(self, title, cast, year, length):\n",
    "        super.__init__(title,cast,year)\n",
    "        self.length=length\n",
    "\n",
    "    def display(self):\n",
    "        print(\"Title: \" + self.title)\n",
    "        print(\"Cast: \" + str(self.cast))\n",
    "        print(\"Year: \" + str(self.year))\n",
    "        print(\"Length: \" + str(self.length))\n",
    "\n",
    "\n",
    "\n",
    "class TVseries(BaseNetflix):\n",
    "    def __init__(self, title, cast, year, season):\n",
    "        super.__init__(title,cast,year)\n",
    "        self.season=season\n",
    "\n",
    "    def display(self):\n",
    "        print(\"Title: \" + self.title)\n",
    "        print(\"Cast: \" + str(self.cast))\n",
    "        print(\"Year: \" + str(self.year))\n",
    "        print(\"Season: \" + str(self.season))\n",
    "\n",
    "    def update_season(self):\n",
    "        self.season=self.season+1\n",
    "\n"
   ]
  },
  {
   "cell_type": "code",
   "execution_count": null,
   "metadata": {
    "ExecuteTime": {
     "start_time": "2024-05-03T09:47:51.982438Z"
    }
   },
   "outputs": [],
   "source": [
    "#Test your code here\n",
    "movie = Movie('The call', ['Park Shine-hye', 'Jun Jong-seo', 'Kim Sung-ryoung'], 2020, '1h 52m')\n",
    "movie.display()"
   ]
  },
  {
   "cell_type": "markdown",
   "metadata": {},
   "source": [
    "Expected output: <br>\n",
    "Title: The call <br>\n",
    "Year: 2020 <br>\n",
    "Cast: Park Shine-hye, Jun Jong-seo, Kim Sung-ryoung <br>\n",
    "Movie length: 1h 52m"
   ]
  },
  {
   "cell_type": "code",
   "execution_count": null,
   "metadata": {
    "ExecuteTime": {
     "start_time": "2024-05-03T09:47:51.986983Z"
    }
   },
   "outputs": [],
   "source": [
    "#Test your code here\n",
    "tv = TVseries('The crown', ['Olivia Colman', 'Tobias Menzies'], 2020, 4)\n",
    "tv.display()"
   ]
  },
  {
   "cell_type": "markdown",
   "metadata": {},
   "source": [
    "Expected output: <br>\n",
    "Title: The crown <br>\n",
    "Year: 2020 <br>\n",
    "Cast: Olivia Colman, Tobias Menzies <br>\n",
    "Seasons: 4"
   ]
  },
  {
   "cell_type": "code",
   "execution_count": null,
   "metadata": {
    "ExecuteTime": {
     "start_time": "2024-05-03T09:47:51.993040Z"
    }
   },
   "outputs": [],
   "source": [
    "tv.update_season()"
   ]
  },
  {
   "cell_type": "markdown",
   "metadata": {},
   "source": [
    "Expected output: <br>\n",
    "Title: The crown <br>\n",
    "Year: 2020 <br>\n",
    "Cast: Olivia Colman, Tobias Menzies <br>\n",
    "Seasons: 4 <br>\n",
    "After update <br>\n",
    "Title: The crown <br>\n",
    "Year: 2020 <br>\n",
    "Cast: Olivia Colman, Tobias Menzies <br>\n",
    "Seasons: 5"
   ]
  },
  {
   "cell_type": "markdown",
   "metadata": {},
   "source": [
    "### Question 2.23: Teaching load"
   ]
  },
  {
   "cell_type": "markdown",
   "metadata": {},
   "source": [
    "Let us first define a *Course* class.\n",
    "Each course is associated with a course complexity, which is a random number between 10 and 15."
   ]
  },
  {
   "cell_type": "code",
   "execution_count": null,
   "metadata": {
    "ExecuteTime": {
     "start_time": "2024-05-03T09:47:51.997650Z"
    }
   },
   "outputs": [],
   "source": [
    "import random\n",
    "\n",
    "class Course:\n",
    "    def __init__(self, course_id):\n",
    "        '''Create a new instance of course.'''\n",
    "        self.course_id = course_id # attribute: course_id\n",
    "        self.complexity = 10 + random.random() * 5\n",
    "\n",
    "    def __str__(self):\n",
    "        return 'The complexity of course {:s} is {:.2f}'.format(self.course_id, self.complexity)"
   ]
  },
  {
   "cell_type": "code",
   "execution_count": null,
   "metadata": {
    "ExecuteTime": {
     "start_time": "2024-05-03T09:47:52.001664Z"
    }
   },
   "outputs": [],
   "source": [
    "all_courses = {'cs6' + '%02d' % (i+1): Course('cs6' + '%02d' % (i+1)) for i in range(30)}"
   ]
  },
  {
   "cell_type": "code",
   "execution_count": null,
   "metadata": {
    "ExecuteTime": {
     "start_time": "2024-05-03T09:47:52.005366Z"
    }
   },
   "outputs": [],
   "source": [
    "for c in all_courses.values():\n",
    "    print(c)"
   ]
  },
  {
   "cell_type": "markdown",
   "metadata": {},
   "source": [
    "The code below defines a *Professor* class.\n",
    "* Each instance of this class is associated to a professor.\n",
    "* The instance records the active courses that the professor is currently teaching.\n",
    "* A professor can teach multiple sections of the same course.\n",
    "* The workload of a professor is the sum of the complexity of all sections she is currently teaching across all different courses."
   ]
  },
  {
   "cell_type": "code",
   "execution_count": null,
   "metadata": {
    "ExecuteTime": {
     "start_time": "2024-05-03T09:47:52.008819Z"
    }
   },
   "outputs": [],
   "source": [
    "class Professor:\n",
    "    def __init__(self):\n",
    "        '''Create a new instance, with no active courses.'''\n",
    "\n",
    "    def add_section(self, course):\n",
    "        '''Add a new course to this professor.'''\n",
    "\n",
    "    def deactivate_course(self, course):\n",
    "        '''Remove all teaching sections of the same course from this professor'''\n",
    "\n",
    "    def load(self):\n",
    "        '''Calculate the current load for all courses.'''\n",
    "\n",
    "    def __str__(self):\n",
    "        '''Return a string with the current load of the professor'''\n",
    "    \n",
    "    def __lt__(self, other):\n",
    "         return self.load() < other.load()"
   ]
  },
  {
   "cell_type": "code",
   "execution_count": null,
   "metadata": {
    "ExecuteTime": {
     "start_time": "2024-05-03T09:47:52.012492Z"
    }
   },
   "outputs": [],
   "source": [
    "prof = Professor()\n",
    "prof.add_section(all_courses['cs604'])\n",
    "\n",
    "print(prof.load())"
   ]
  },
  {
   "cell_type": "code",
   "execution_count": null,
   "metadata": {
    "ExecuteTime": {
     "start_time": "2024-05-03T09:47:52.016336Z"
    }
   },
   "outputs": [],
   "source": [
    "prof.deactivate_course(all_courses['cs604'])\n",
    "print(prof.load()) # should be 0"
   ]
  },
  {
   "cell_type": "markdown",
   "metadata": {},
   "source": [
    "We now have a basic implementation of the *Professor* class. What if we wish to balance the load between all professors? Let's use the strategy below:\n",
    "1. If there is a new section of a course, assign the new section to the professor has the lowest load<br/>\n",
    "2. If adding the new section makes the average load more than 50, hire a new professor.<br/>\n",
    "How would you define a new *LoadBalancing* class?"
   ]
  },
  {
   "cell_type": "code",
   "execution_count": null,
   "metadata": {
    "ExecuteTime": {
     "start_time": "2024-05-03T09:47:52.020787Z"
    }
   },
   "outputs": [],
   "source": [
    "class LoadBalancing:\n",
    "    def __init__(self, courses = {}):\n",
    "        '''Initialize with one professor'''\n",
    "\n",
    "    def add_course(self, course_id):\n",
    "        '''Add a new course into available courses'''\n",
    "\n",
    "    def add_section(self, course_id):\n",
    "        '''Select a professor with the lowest load and add a section of that course to him/ her.\n",
    "           If it's a new course, add the course first'''\n",
    "\n",
    "    def deactivate_course(self, course_id):\n",
    "        '''deactivate the course from all teaching professors.'''\n",
    "\n",
    "    def avg_load(self):\n",
    "        '''Calculate the average load of all professors'''\n",
    "\n",
    "    def ensure_availability(self):\n",
    "        '''If the average load is higher than 50, hire a new professor'''\n",
    "\n",
    "    def __str__(self):\n",
    "        '''Return a string with the load for each professor.'''"
   ]
  },
  {
   "cell_type": "code",
   "execution_count": null,
   "metadata": {
    "ExecuteTime": {
     "start_time": "2024-05-03T09:47:52.023661Z"
    }
   },
   "outputs": [],
   "source": [
    "load = LoadBalancing(all_courses)\n",
    "load.add_section('cs604')\n",
    "print(load.avg_load())"
   ]
  },
  {
   "cell_type": "markdown",
   "metadata": {},
   "source": [
    "What if we hire a new professor?"
   ]
  },
  {
   "cell_type": "code",
   "execution_count": null,
   "metadata": {
    "ExecuteTime": {
     "start_time": "2024-05-03T09:47:52.026968Z"
    }
   },
   "outputs": [],
   "source": [
    "load.profs.append(Professor())\n",
    "print(load.avg_load())"
   ]
  },
  {
   "cell_type": "markdown",
   "metadata": {},
   "source": [
    "Now what about deactivating the course?"
   ]
  },
  {
   "cell_type": "code",
   "execution_count": null,
   "metadata": {
    "ExecuteTime": {
     "start_time": "2024-05-03T09:47:52.031793Z"
    }
   },
   "outputs": [],
   "source": [
    "load.deactivate_course('cs604')\n",
    "print(load.avg_load()) # should return 0.0"
   ]
  },
  {
   "cell_type": "markdown",
   "metadata": {},
   "source": [
    "We hired a new professor manually. But we want this to happen automatically when the average load is more than 50%. To make this possible, we add a method **ensure_availability** and call it from the method **add_course** after a new course has been added. You can test it with the following code:"
   ]
  },
  {
   "cell_type": "code",
   "execution_count": null,
   "metadata": {
    "ExecuteTime": {
     "start_time": "2024-05-03T09:47:52.035387Z"
    }
   },
   "outputs": [],
   "source": [
    "load = LoadBalancing()\n",
    "for c in random.choices(list(all_courses.keys()), k = 50):\n",
    "    load.add_section(c)\n",
    "    print(load)"
   ]
  },
  {
   "cell_type": "markdown",
   "metadata": {},
   "source": [
    "The code above adds 50 new sections and then prints the loads for each professor. Run the following code to verify that the average load is not more than 50."
   ]
  },
  {
   "cell_type": "code",
   "execution_count": null,
   "metadata": {
    "ExecuteTime": {
     "start_time": "2024-05-03T09:47:52.038670Z"
    }
   },
   "outputs": [],
   "source": [
    "print(load.avg_load())"
   ]
  },
  {
   "cell_type": "markdown",
   "metadata": {},
   "source": [
    "How would you change your code to make sure no professor has load more than 50?"
   ]
  },
  {
   "cell_type": "markdown",
   "metadata": {},
   "source": [
    "### (Optional)\n",
    "\n",
    "### Question 2.24: Sudoku checker (II) -- return cells which you are certain about its value"
   ]
  },
  {
   "cell_type": "markdown",
   "metadata": {},
   "source": [
    "| | | | | | | | | |\n",
    "|---|---|---|---|---|---|---|---|---|\n",
    "| | |7| | | |1| | |\n",
    "| |5|9| | | |2|3| |\n",
    "|8|2|3| | | |4|5|6|\n",
    "|5|1| | | | | |7|8|\n",
    "|9| | |1| |3| | |4|\n",
    "| | |4|2| |8|9| | |\n",
    "| |7|5|3| |6|8|9| |\n",
    "| |8|6| | | |7|1| |\n",
    "| |9| | | | | |4| |"
   ]
  },
  {
   "cell_type": "code",
   "execution_count": null,
   "metadata": {
    "ExecuteTime": {
     "start_time": "2024-05-03T09:47:52.041754Z"
    }
   },
   "outputs": [],
   "source": [
    "config1 = ['  7   1  ', ' 59   23 ', '823   456', '51     78', '9  1 3  4', '  42 89  ', ' 753 689 ', ' 86   71 ', ' 9     4 ']\n",
    "config2 = ['         ', ' 528 614 ', ' 98   27 ', '  12 39  ', '735   682', ' 695 741 ', ' 1 3 8 9 ', '42 7 1 65', '         ']\n",
    "config3 = ['    76 3 ', ' 13 8  92', ' 4 2 31  ', '  86  5 9', '26     78', '4 9  82  ', '  17 5 2 ', '95  3 41 ', ' 2 96    ']"
   ]
  },
  {
   "cell_type": "code",
   "execution_count": null,
   "metadata": {
    "ExecuteTime": {
     "start_time": "2024-05-03T09:47:52.045469Z"
    }
   },
   "outputs": [],
   "source": [
    "class SudokuChecker:\n",
    "    def __init__(self, config):\n",
    "    \n",
    "    def process(self):\n"
   ]
  },
  {
   "cell_type": "code",
   "execution_count": null,
   "metadata": {
    "ExecuteTime": {
     "start_time": "2024-05-03T09:47:52.048878Z"
    }
   },
   "outputs": [],
   "source": [
    "sudoku1 = SudokuChecker(config1)\n",
    "sudoku1.process()"
   ]
  },
  {
   "cell_type": "code",
   "execution_count": null,
   "metadata": {
    "ExecuteTime": {
     "start_time": "2024-05-03T09:47:52.052544Z"
    }
   },
   "outputs": [],
   "source": [
    "sudoku2 = SudokuChecker(config2)\n",
    "sudoku2.process()"
   ]
  },
  {
   "cell_type": "code",
   "execution_count": null,
   "metadata": {
    "ExecuteTime": {
     "start_time": "2024-05-03T09:47:52.057626Z"
    }
   },
   "outputs": [],
   "source": [
    "sudoku3 = SudokuChecker(config3)\n",
    "sudoku3.process()"
   ]
  }
 ],
 "metadata": {
  "kernelspec": {
   "display_name": "Python 3 (ipykernel)",
   "language": "python",
   "name": "python3"
  },
  "language_info": {
   "codemirror_mode": {
    "name": "ipython",
    "version": 3
   },
   "file_extension": ".py",
   "mimetype": "text/x-python",
   "name": "python",
   "nbconvert_exporter": "python",
   "pygments_lexer": "ipython3",
   "version": "3.9.17"
  }
 },
 "nbformat": 4,
 "nbformat_minor": 4
}
