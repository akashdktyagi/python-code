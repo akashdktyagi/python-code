{
 "cells": [
  {
   "cell_type": "code",
   "execution_count": 39,
   "metadata": {},
   "outputs": [],
   "source": [
    "def add_list(size_of_list):\n",
    "    l1 = list(range(size_of_list))\n",
    "    l2 = list(range(size_of_list))\n",
    "    l = [l1[i] + l2[i] for i in range(size_of_list)]\n",
    "    return l"
   ]
  },
  {
   "cell_type": "markdown",
   "metadata": {},
   "source": [
    "# Numpy"
   ]
  },
  {
   "cell_type": "markdown",
   "metadata": {},
   "source": [
    "#### Motivation For Numpy"
   ]
  },
  {
   "cell_type": "code",
   "execution_count": 40,
   "metadata": {},
   "outputs": [],
   "source": [
    "def add_list(size_of_list):\n",
    "    l1 = list(range(size_of_list))\n",
    "    l2 = list(range(size_of_list))\n",
    "    l = [l1[i] + l2[i] for i in range(size_of_list)]\n",
    "    return l"
   ]
  },
  {
   "cell_type": "code",
   "execution_count": 41,
   "metadata": {},
   "outputs": [],
   "source": [
    "size = 10000000"
   ]
  },
  {
   "cell_type": "code",
   "execution_count": 42,
   "metadata": {},
   "outputs": [
    {
     "name": "stdout",
     "output_type": "stream",
     "text": [
      "CPU times: total: 6.69 s\n",
      "Wall time: 6.9 s\n"
     ]
    },
    {
     "data": {
      "text/plain": [
       "[0, 2, 4, 6, 8, 10, 12, 14, 16, 18]"
      ]
     },
     "execution_count": 42,
     "metadata": {},
     "output_type": "execute_result"
    }
   ],
   "source": [
    "%%time\n",
    "add_list(size)[0:10]"
   ]
  },
  {
   "cell_type": "code",
   "execution_count": 43,
   "metadata": {},
   "outputs": [],
   "source": [
    "import numpy as np"
   ]
  },
  {
   "cell_type": "code",
   "execution_count": 44,
   "metadata": {},
   "outputs": [],
   "source": [
    "def add_ndarray(size_of_array):\n",
    "    l1 = np.arange(size_of_array)\n",
    "    l2 = np.arange(size_of_array)\n",
    "    return l1 + l2"
   ]
  },
  {
   "cell_type": "code",
   "execution_count": 45,
   "metadata": {},
   "outputs": [
    {
     "name": "stdout",
     "output_type": "stream",
     "text": [
      "CPU times: total: 62.5 ms\n",
      "Wall time: 71.7 ms\n"
     ]
    },
    {
     "data": {
      "text/plain": [
       "array([ 0,  2,  4,  6,  8, 10, 12, 14, 16, 18])"
      ]
     },
     "execution_count": 45,
     "metadata": {},
     "output_type": "execute_result"
    }
   ],
   "source": [
    "%%time\n",
    "add_ndarray(size)[:10]"
   ]
  },
  {
   "cell_type": "code",
   "execution_count": null,
   "metadata": {},
   "outputs": [],
   "source": []
  },
  {
   "cell_type": "markdown",
   "metadata": {},
   "source": [
    "####  NumPy ndarrays"
   ]
  },
  {
   "cell_type": "code",
   "execution_count": 46,
   "metadata": {},
   "outputs": [],
   "source": [
    "import numpy as np"
   ]
  },
  {
   "cell_type": "code",
   "execution_count": 47,
   "metadata": {},
   "outputs": [
    {
     "name": "stdout",
     "output_type": "stream",
     "text": [
      "[0 1 1 2 3 5]\n"
     ]
    }
   ],
   "source": [
    "arr = np.array([0, 1, 1, 2, 3, 5])\n",
    "print(arr)"
   ]
  },
  {
   "cell_type": "code",
   "execution_count": 48,
   "metadata": {},
   "outputs": [
    {
     "name": "stdout",
     "output_type": "stream",
     "text": [
      "[[0 1 1]\n",
      " [2 3 5]]\n"
     ]
    }
   ],
   "source": [
    "arr2d = np.array([ [0, 1, 1], \n",
    "                   [2, 3, 5] ])\n",
    "print(arr2d)"
   ]
  },
  {
   "cell_type": "code",
   "execution_count": 49,
   "metadata": {},
   "outputs": [
    {
     "name": "stdout",
     "output_type": "stream",
     "text": [
      "1\n",
      "(6,)\n"
     ]
    }
   ],
   "source": [
    "print(arr.ndim)\n",
    "print(arr.shape)"
   ]
  },
  {
   "cell_type": "code",
   "execution_count": 50,
   "metadata": {},
   "outputs": [
    {
     "name": "stdout",
     "output_type": "stream",
     "text": [
      "2\n",
      "(2, 3)\n"
     ]
    }
   ],
   "source": [
    "print(arr2d.ndim)\n",
    "print(arr2d.shape)"
   ]
  },
  {
   "cell_type": "code",
   "execution_count": null,
   "metadata": {},
   "outputs": [],
   "source": []
  },
  {
   "cell_type": "code",
   "execution_count": 51,
   "metadata": {},
   "outputs": [
    {
     "name": "stdout",
     "output_type": "stream",
     "text": [
      "[[0. 0. 0.]\n",
      " [0. 0. 0.]\n",
      " [0. 0. 0.]]\n"
     ]
    }
   ],
   "source": [
    "# creating an ndarray with all zero\n",
    "\n",
    "arr0s = np.zeros((3, 3))\n",
    "print(arr0s)"
   ]
  },
  {
   "cell_type": "code",
   "execution_count": 52,
   "metadata": {},
   "outputs": [
    {
     "name": "stdout",
     "output_type": "stream",
     "text": [
      "[[1. 1. 1.]\n",
      " [1. 1. 1.]\n",
      " [1. 1. 1.]]\n"
     ]
    }
   ],
   "source": [
    "# creating an ndarray with all one\n",
    "\n",
    "arr1s = np.ones((3, 3))\n",
    "print(arr1s)"
   ]
  },
  {
   "cell_type": "code",
   "execution_count": 53,
   "metadata": {},
   "outputs": [
    {
     "name": "stdout",
     "output_type": "stream",
     "text": [
      "[ 0  1  2  3  4  5  6  7  8  9 10 11 12 13 14]\n"
     ]
    }
   ],
   "source": [
    "# arange() method\n",
    "\n",
    "arr_seq = np.arange(15)\n",
    "print(arr_seq)"
   ]
  },
  {
   "cell_type": "code",
   "execution_count": 54,
   "metadata": {},
   "outputs": [
    {
     "name": "stdout",
     "output_type": "stream",
     "text": [
      "[[ 0.86300436  0.41309348  0.40029024  1.58331284]\n",
      " [-1.57707801 -1.38344425 -0.45993274  0.25823605]\n",
      " [ 0.62683499  1.34269383 -0.17310374 -1.66497118]]\n"
     ]
    }
   ],
   "source": [
    "# random.randn()\n",
    "arr_rnd = np.random.randn(3, 4)\n",
    "print(arr_rnd)"
   ]
  },
  {
   "cell_type": "code",
   "execution_count": 55,
   "metadata": {
    "scrolled": true
   },
   "outputs": [
    {
     "name": "stdout",
     "output_type": "stream",
     "text": [
      "[[1. 0. 0.]\n",
      " [0. 1. 0.]\n",
      " [0. 0. 1.]]\n"
     ]
    }
   ],
   "source": [
    "# eye\n",
    "\n",
    "arr_eye = np.eye(3)\n",
    "print(arr_eye)"
   ]
  },
  {
   "cell_type": "code",
   "execution_count": 56,
   "metadata": {},
   "outputs": [
    {
     "data": {
      "text/plain": [
       "array([[0.54635363, 0.50426092, 0.38622092],\n",
       "       [0.13609346, 0.20621812, 0.72309609],\n",
       "       [0.73654129, 0.81416428, 0.30657215]])"
      ]
     },
     "execution_count": 56,
     "metadata": {},
     "output_type": "execute_result"
    }
   ],
   "source": [
    "np.random.rand(3, 3)"
   ]
  },
  {
   "cell_type": "code",
   "execution_count": null,
   "metadata": {},
   "outputs": [],
   "source": []
  },
  {
   "cell_type": "code",
   "execution_count": 57,
   "metadata": {},
   "outputs": [
    {
     "name": "stdout",
     "output_type": "stream",
     "text": [
      "[2 3 4 5 6 7 9]\n",
      "4\n",
      "[4 5 6]\n",
      "[2 4 6]\n"
     ]
    }
   ],
   "source": [
    "# indexing and slicing\n",
    "# 1d array\n",
    "\n",
    "arr1d = np.array([2, 3, 4, 5, 6, 7, 9])\n",
    "\n",
    "print(arr1d)\n",
    "print(arr1d[2])\n",
    "print(arr1d[2:5])\n",
    "print(arr1d[:-1:2])"
   ]
  },
  {
   "cell_type": "code",
   "execution_count": 58,
   "metadata": {},
   "outputs": [
    {
     "name": "stdout",
     "output_type": "stream",
     "text": [
      "[[ 0  1  2  3]\n",
      " [ 4  5  6  7]\n",
      " [ 8  9 10 11]\n",
      " [12 13 14 15]]\n",
      "2\n",
      "[0 1 2 3]\n",
      "[[1]\n",
      " [5]\n",
      " [9]]\n"
     ]
    }
   ],
   "source": [
    "# indexing and slicing\n",
    "# 2d array\n",
    "\n",
    "arr2d = np.array(\n",
    "        [[i+j*4 for i in range(4)] \n",
    "          for j in range(4)])\n",
    "print(arr2d)\n",
    "print(arr2d[0, 2])\n",
    "print(arr2d[0, :])\n",
    "print(arr2d[0:3, 1:2])"
   ]
  },
  {
   "cell_type": "code",
   "execution_count": null,
   "metadata": {},
   "outputs": [],
   "source": []
  },
  {
   "cell_type": "code",
   "execution_count": 59,
   "metadata": {},
   "outputs": [
    {
     "name": "stdout",
     "output_type": "stream",
     "text": [
      "[False False False  True  True]\n"
     ]
    }
   ],
   "source": [
    "# Boolean Masking\n",
    "\n",
    "arr = np.arange(5)\n",
    "arr_bl = arr > 2\n",
    "print(arr_bl)\n"
   ]
  },
  {
   "cell_type": "code",
   "execution_count": 60,
   "metadata": {},
   "outputs": [
    {
     "name": "stdout",
     "output_type": "stream",
     "text": [
      "[[0.2632619  0.16176634]\n",
      " [0.81280938 0.29713282]\n",
      " [0.11481253 0.01018925]\n",
      " [0.0535972  0.49375906]]\n",
      "[0 1 2 3]\n",
      "[[0.11481253 0.01018925]]\n",
      "[[0.2632619  0.16176634]\n",
      " [0.0535972  0.49375906]]\n"
     ]
    }
   ],
   "source": [
    "# random user data in 4x2 matrix\n",
    "arr_dat = np.random.rand(4, 2)\n",
    "print(arr_dat)\n",
    "\n",
    "# user id from 0 to 3\n",
    "arr_id = np.arange(4)\n",
    "print(arr_id)\n",
    "\n",
    "# pick data for user id 2\n",
    "print(arr_dat[arr_id == 2])\n",
    "\n",
    "# pick data for user id 0 and 3\n",
    "print(arr_dat[ (arr_id == 0) \n",
    "              | (arr_id == 3) ])"
   ]
  },
  {
   "cell_type": "code",
   "execution_count": null,
   "metadata": {},
   "outputs": [],
   "source": []
  },
  {
   "cell_type": "code",
   "execution_count": 61,
   "metadata": {},
   "outputs": [
    {
     "name": "stdout",
     "output_type": "stream",
     "text": [
      "120\n",
      "7.5 4.6097722286464435\n",
      "0 15\n"
     ]
    }
   ],
   "source": [
    "# Math and Stat Functions\n",
    "\n",
    "arr = np.arange(16)\n",
    "print(arr.sum())\n",
    "print(arr.mean(), arr.std())\n",
    "print(arr.min(), arr.max())"
   ]
  },
  {
   "cell_type": "code",
   "execution_count": 62,
   "metadata": {},
   "outputs": [
    {
     "name": "stdout",
     "output_type": "stream",
     "text": [
      "[  0   1   3   6  10  15  21  28  36  45  55  66  78  91 105 120]\n",
      "[0 0 0 0 0 0 0 0 0 0 0 0 0 0 0 0]\n"
     ]
    }
   ],
   "source": [
    "print(arr.cumsum())\n",
    "print(arr.cumprod())"
   ]
  },
  {
   "cell_type": "code",
   "execution_count": null,
   "metadata": {},
   "outputs": [],
   "source": []
  },
  {
   "cell_type": "markdown",
   "metadata": {},
   "source": [
    "#### Vector and Matrix Computation with NumPY"
   ]
  },
  {
   "cell_type": "code",
   "execution_count": 63,
   "metadata": {},
   "outputs": [
    {
     "name": "stdout",
     "output_type": "stream",
     "text": [
      "[5 5 5 5 5]\n",
      "[-5 -3 -1  1  3]\n",
      "[0 4 6 6 4]\n",
      "[0.         0.25       0.66666667 1.5        4.        ]\n"
     ]
    }
   ],
   "source": [
    "# Vector arithmetic\n",
    "arr1 = np.arange(5)\n",
    "arr2 = np.array(range(5, 0, -1))\n",
    "print(arr1 + arr2)\n",
    "print(arr1 - arr2)\n",
    "print(arr1 * arr2)\n",
    "print(arr1 / arr2)\n"
   ]
  },
  {
   "cell_type": "code",
   "execution_count": 64,
   "metadata": {},
   "outputs": [
    {
     "name": "stdout",
     "output_type": "stream",
     "text": [
      "[1 2 3 4 5]\n",
      "[0 2 4 6 8]\n",
      "[0.2        0.25       0.33333333 0.5        1.        ]\n"
     ]
    }
   ],
   "source": [
    "print(arr1 + 1)\n",
    "print(arr1 * 2)\n",
    "print(1 / arr2)"
   ]
  },
  {
   "cell_type": "code",
   "execution_count": 65,
   "metadata": {},
   "outputs": [
    {
     "name": "stdout",
     "output_type": "stream",
     "text": [
      "[False False False  True  True]\n"
     ]
    }
   ],
   "source": [
    "print(arr1 > arr2)"
   ]
  },
  {
   "cell_type": "code",
   "execution_count": null,
   "metadata": {},
   "outputs": [],
   "source": []
  },
  {
   "cell_type": "code",
   "execution_count": 66,
   "metadata": {
    "scrolled": true
   },
   "outputs": [
    {
     "name": "stdout",
     "output_type": "stream",
     "text": [
      "[0 1 2 3 4 5 6 7 8] (9,)\n",
      "[[0 1 2]\n",
      " [3 4 5]\n",
      " [6 7 8]] (3, 3)\n"
     ]
    }
   ],
   "source": [
    "# Matrix Manipulation & Computation\n",
    "\n",
    "arr1 = np.arange(9)\n",
    "print(arr1, arr1.shape)\n",
    "mat1 = arr1.reshape(3, 3)\n",
    "print(mat1, mat1.shape)"
   ]
  },
  {
   "cell_type": "code",
   "execution_count": 67,
   "metadata": {
    "scrolled": true
   },
   "outputs": [
    {
     "name": "stdout",
     "output_type": "stream",
     "text": [
      "[[0 1 2]\n",
      " [3 4 5]\n",
      " [6 7 8]] (3, 3)\n"
     ]
    }
   ],
   "source": [
    "mat2 = arr1.reshape(3, -1)\n",
    "print(mat2, mat2.shape)"
   ]
  },
  {
   "cell_type": "code",
   "execution_count": 68,
   "metadata": {},
   "outputs": [
    {
     "ename": "ValueError",
     "evalue": "cannot reshape array of size 9 into shape (4,newaxis)",
     "output_type": "error",
     "traceback": [
      "\u001b[1;31m---------------------------------------------------------------------------\u001b[0m",
      "\u001b[1;31mValueError\u001b[0m                                Traceback (most recent call last)",
      "Cell \u001b[1;32mIn[68], line 1\u001b[0m\n\u001b[1;32m----> 1\u001b[0m mat2 \u001b[38;5;241m=\u001b[39m arr1\u001b[38;5;241m.\u001b[39mreshape(\u001b[38;5;241m4\u001b[39m, \u001b[38;5;241m-\u001b[39m\u001b[38;5;241m1\u001b[39m)\n",
      "\u001b[1;31mValueError\u001b[0m: cannot reshape array of size 9 into shape (4,newaxis)"
     ]
    }
   ],
   "source": [
    "mat2 = arr1.reshape(4, -1)"
   ]
  },
  {
   "cell_type": "code",
   "execution_count": null,
   "metadata": {},
   "outputs": [],
   "source": []
  },
  {
   "cell_type": "code",
   "execution_count": null,
   "metadata": {},
   "outputs": [],
   "source": [
    "# Linear Algebra\n",
    "\n",
    "# transpose\n",
    "m = np.arange(6).reshape(2, 3)\n",
    "print(m, '\\n', m.T)"
   ]
  },
  {
   "cell_type": "code",
   "execution_count": null,
   "metadata": {
    "scrolled": true
   },
   "outputs": [],
   "source": [
    "# dot product and matrix multiplication\n",
    "\n",
    "m1 = np.arange(12).reshape(3, 4)\n",
    "m2 = np.arange(8).reshape(4, 2) + 1\n",
    "print(m1, '\\n', m2)\n",
    "print(np.dot(m1, m2))\n",
    "print(m1.dot(m2))\n",
    "print(m1 @ m2)"
   ]
  },
  {
   "cell_type": "code",
   "execution_count": null,
   "metadata": {
    "scrolled": true
   },
   "outputs": [],
   "source": [
    "# useful linear algebra functions\n",
    "m = np.arange(16).reshape(4, -1) + 1\n",
    "print(np.diag(m))\n",
    "print(np.trace(m))\n",
    "print(np.linalg.det(m))"
   ]
  },
  {
   "cell_type": "code",
   "execution_count": null,
   "metadata": {},
   "outputs": [],
   "source": []
  },
  {
   "cell_type": "markdown",
   "metadata": {},
   "source": [
    "## Numpy exercises"
   ]
  },
  {
   "cell_type": "markdown",
   "metadata": {},
   "source": [
    "### Exercise 4.11n"
   ]
  },
  {
   "cell_type": "markdown",
   "metadata": {},
   "source": [
    "Create below numpy arrays.\n",
    "1. a vector containing number 10 to -10 in descending order.\n",
    "2. a vector containing 10 zeros.\n",
    "3. a vector containing 15 ones.\n",
    "4. a 3x3 matrix:\n",
    "```\n",
    "5 6 7\n",
    "8 9 10\n",
    "11 12 13\n",
    "```\n",
    "5. a 3x3 matrix with random numbers\n",
    "6. a 3x3 matrix (without typing every element):\n",
    "```\n",
    "1 4 7\n",
    "2 5 8\n",
    "3 6 9\n",
    "```\n",
    "7. a 3x3 matrix (without typing every element):\n",
    "```\n",
    "3 2 1\n",
    "6 5 4\n",
    "9 8 7\n",
    "```\n",
    "8. a 3x3 matrix (without typing every element):\n",
    "```\n",
    "9 8 7\n",
    "6 5 4\n",
    "3 2 1\n",
    "```\n",
    "\n"
   ]
  },
  {
   "cell_type": "code",
   "execution_count": null,
   "metadata": {},
   "outputs": [],
   "source": [
    "import numpy as np\n",
    "# 1\n",
    "Arr1=np.array(range(10,-11,-1))\n",
    "print(Arr1)\n",
    "\n",
    "# 2\n",
    "\n",
    "Arr2=np.zeros((10,))\n",
    "print(Arr2)\n",
    "\n",
    "# 3\n",
    "Arr3 = np.ones((10))\n",
    "print(Arr3)\n",
    "\n",
    "# 4\n",
    "\n",
    "\n",
    "# 5\n",
    "\n",
    "\n",
    "# 6\n",
    "\n",
    "\n",
    "# 7\n",
    "\n",
    "\n",
    "# 8\n",
    "\n",
    "\n",
    "# 9\n",
    "\n",
    "\n",
    "# 10\n",
    "\n"
   ]
  },
  {
   "cell_type": "code",
   "execution_count": null,
   "metadata": {},
   "outputs": [],
   "source": []
  },
  {
   "cell_type": "markdown",
   "metadata": {},
   "source": [
    "### Exercise 4.12n"
   ]
  },
  {
   "cell_type": "markdown",
   "metadata": {},
   "source": [
    "Define a function ```to_nested_list()``` that takes a 2d array and returns the corresponding nested list.\n",
    "\n",
    "For example:\n",
    "```python\n",
    "print(to_nested_list(np.array([[1, 2, 3], [4, 5, 6]]))\n",
    "```\n",
    "\n",
    "will output\n",
    "```python\n",
    "[[1, 2, 3],  [4, 5, 6]]\n",
    "```\n"
   ]
  },
  {
   "cell_type": "code",
   "execution_count": null,
   "metadata": {},
   "outputs": [],
   "source": [
    "def to_nested_list(ndarr):\n",
    "    # write your code here\n",
    "    "
   ]
  },
  {
   "cell_type": "code",
   "execution_count": null,
   "metadata": {},
   "outputs": [],
   "source": [
    "# test case\n",
    "arr = np.arange(6).reshape(2, -1) + 1\n",
    "\n",
    "print(to_nested_list(arr))"
   ]
  },
  {
   "cell_type": "code",
   "execution_count": null,
   "metadata": {},
   "outputs": [],
   "source": []
  },
  {
   "cell_type": "code",
   "execution_count": null,
   "metadata": {},
   "outputs": [],
   "source": []
  },
  {
   "cell_type": "markdown",
   "metadata": {},
   "source": [
    "# Pandas"
   ]
  },
  {
   "cell_type": "markdown",
   "metadata": {},
   "source": [
    "#### Pandas Basics"
   ]
  },
  {
   "cell_type": "code",
   "execution_count": null,
   "metadata": {},
   "outputs": [],
   "source": [
    "import numpy as np\n",
    "import pandas as pd"
   ]
  },
  {
   "cell_type": "markdown",
   "metadata": {},
   "source": [
    "#### Pandas Series"
   ]
  },
  {
   "cell_type": "code",
   "execution_count": null,
   "metadata": {},
   "outputs": [],
   "source": [
    "# Series examples\n",
    "\n",
    "data = pd.Series([0.1, 0.2, 0.3])\n",
    "print(data)"
   ]
  },
  {
   "cell_type": "code",
   "execution_count": null,
   "metadata": {},
   "outputs": [],
   "source": [
    "print(data.values, data.index)"
   ]
  },
  {
   "cell_type": "code",
   "execution_count": null,
   "metadata": {},
   "outputs": [],
   "source": [
    "print(data[1])\n",
    "print(data[0:3])\n",
    "print(data[2:])"
   ]
  },
  {
   "cell_type": "code",
   "execution_count": null,
   "metadata": {},
   "outputs": [],
   "source": [
    "# Index\n",
    "\n",
    "val = np.arange(0, 5)\n",
    "ind = val * 2\n",
    "data = pd.Series(val, index=ind)\n",
    "print(data)"
   ]
  },
  {
   "cell_type": "code",
   "execution_count": null,
   "metadata": {},
   "outputs": [],
   "source": [
    "ind = [3, 9, 1, 10, 3]\n",
    "data = pd.Series(val, index=ind)\n",
    "print(data)\n",
    "print(data[3])"
   ]
  },
  {
   "cell_type": "code",
   "execution_count": null,
   "metadata": {
    "scrolled": true
   },
   "outputs": [],
   "source": [
    "ind = ['a', 'b', 'c', 'd', 'e']\n",
    "data = pd.Series(val, index=ind)\n",
    "print(data) "
   ]
  },
  {
   "cell_type": "code",
   "execution_count": null,
   "metadata": {},
   "outputs": [],
   "source": [
    "# Creating pandas Series objects\n",
    "import pandas as pd\n",
    "import numpy as np\n",
    "# general form: pd.Series(data, index=index)\n",
    "# data can be：\n",
    "# list\n",
    "print(\"list\")\n",
    "print(pd.Series([1,3,8,11]))\n",
    "# NumPy array\n",
    "print(\"numpy array\")\n",
    "print(pd.Series(np.array([11,8,3,1])))\n",
    "# scalar\n",
    "print(\"scalar\")\n",
    "print(pd.Series(100))\n",
    "print(pd.Series(100, index=range(3)))\n",
    "# dictionary\n",
    "print(\"dictionary\")\n",
    "print(pd.Series({0:1, 0.1:2, 'a':3}))"
   ]
  },
  {
   "cell_type": "code",
   "execution_count": null,
   "metadata": {
    "scrolled": true
   },
   "outputs": [],
   "source": [
    "# sizes must match\n",
    "\n",
    "pd.Series([1, 2], index = [4,4])"
   ]
  },
  {
   "cell_type": "code",
   "execution_count": null,
   "metadata": {},
   "outputs": [],
   "source": []
  },
  {
   "cell_type": "markdown",
   "metadata": {},
   "source": [
    "#### Pandas DataFrame"
   ]
  },
  {
   "cell_type": "code",
   "execution_count": null,
   "metadata": {},
   "outputs": [
    {
     "data": {
      "text/html": [
       "<div>\n",
       "<style scoped>\n",
       "    .dataframe tbody tr th:only-of-type {\n",
       "        vertical-align: middle;\n",
       "    }\n",
       "\n",
       "    .dataframe tbody tr th {\n",
       "        vertical-align: top;\n",
       "    }\n",
       "\n",
       "    .dataframe thead th {\n",
       "        text-align: right;\n",
       "    }\n",
       "</style>\n",
       "<table border=\"1\" class=\"dataframe\">\n",
       "  <thead>\n",
       "    <tr style=\"text-align: right;\">\n",
       "      <th></th>\n",
       "      <th>name</th>\n",
       "      <th>email</th>\n",
       "    </tr>\n",
       "  </thead>\n",
       "  <tbody>\n",
       "    <tr>\n",
       "      <th>0</th>\n",
       "      <td>John Doe</td>\n",
       "      <td>jdoe@em.net</td>\n",
       "    </tr>\n",
       "    <tr>\n",
       "      <th>1</th>\n",
       "      <td>Jane Daw</td>\n",
       "      <td>jdaw@em.net</td>\n",
       "    </tr>\n",
       "    <tr>\n",
       "      <th>2</th>\n",
       "      <td>Jack Go</td>\n",
       "      <td>jgo@em.net</td>\n",
       "    </tr>\n",
       "  </tbody>\n",
       "</table>\n",
       "</div>"
      ],
      "text/plain": [
       "       name        email\n",
       "0  John Doe  jdoe@em.net\n",
       "1  Jane Daw  jdaw@em.net\n",
       "2   Jack Go   jgo@em.net"
      ]
     },
     "execution_count": 15,
     "metadata": {},
     "output_type": "execute_result"
    }
   ],
   "source": [
    "# first DataFrame example\n",
    "\n",
    "df = pd.DataFrame({'name': ['John Doe', 'Jane Daw', 'Jack Go'],\n",
    "                   'email': ['jdoe@em.net', 'jdaw@em.net', 'jgo@em.net']})\n",
    "df"
   ]
  },
  {
   "cell_type": "code",
   "execution_count": null,
   "metadata": {
    "scrolled": true
   },
   "outputs": [
    {
     "name": "stdout",
     "output_type": "stream",
     "text": [
      "       name        email\n",
      "0  John Doe  jdoe@em.net\n",
      "1  Jane Daw  jdaw@em.net\n",
      "2   Jack Go   jgo@em.net\n",
      "      name       email\n",
      "2  Jack Go  jgo@em.net\n"
     ]
    }
   ],
   "source": [
    "# head and tail\n",
    "\n",
    "print(df.head(4))\n",
    "print(df.tail(1))"
   ]
  },
  {
   "cell_type": "code",
   "execution_count": null,
   "metadata": {},
   "outputs": [
    {
     "data": {
      "text/html": [
       "<div>\n",
       "<style scoped>\n",
       "    .dataframe tbody tr th:only-of-type {\n",
       "        vertical-align: middle;\n",
       "    }\n",
       "\n",
       "    .dataframe tbody tr th {\n",
       "        vertical-align: top;\n",
       "    }\n",
       "\n",
       "    .dataframe thead th {\n",
       "        text-align: right;\n",
       "    }\n",
       "</style>\n",
       "<table border=\"1\" class=\"dataframe\">\n",
       "  <thead>\n",
       "    <tr style=\"text-align: right;\">\n",
       "      <th></th>\n",
       "      <th>area_1</th>\n",
       "      <th>area_2</th>\n",
       "    </tr>\n",
       "  </thead>\n",
       "  <tbody>\n",
       "    <tr>\n",
       "      <th>2000</th>\n",
       "      <td>1.1</td>\n",
       "      <td>0.4</td>\n",
       "    </tr>\n",
       "    <tr>\n",
       "      <th>2001</th>\n",
       "      <td>1.2</td>\n",
       "      <td>0.5</td>\n",
       "    </tr>\n",
       "    <tr>\n",
       "      <th>2002</th>\n",
       "      <td>1.5</td>\n",
       "      <td>0.7</td>\n",
       "    </tr>\n",
       "    <tr>\n",
       "      <th>2003</th>\n",
       "      <td>1.7</td>\n",
       "      <td>0.6</td>\n",
       "    </tr>\n",
       "    <tr>\n",
       "      <th>2004</th>\n",
       "      <td>2.0</td>\n",
       "      <td>0.7</td>\n",
       "    </tr>\n",
       "  </tbody>\n",
       "</table>\n",
       "</div>"
      ],
      "text/plain": [
       "      area_1  area_2\n",
       "2000     1.1     0.4\n",
       "2001     1.2     0.5\n",
       "2002     1.5     0.7\n",
       "2003     1.7     0.6\n",
       "2004     2.0     0.7"
      ]
     },
     "execution_count": 17,
     "metadata": {},
     "output_type": "execute_result"
    }
   ],
   "source": [
    "# More DataFrame example\n",
    "\n",
    "years = [2000, 2001, 2002, 2003, 2004]\n",
    "population = {'area_1': [1.1, 1.2, 1.5, 1.7, 2.0],\n",
    "        'area_2': [0.4, 0.5, 0.7, 0.6, 0.7]}\n",
    "df = pd.DataFrame(population, index = years)\n",
    "df"
   ]
  },
  {
   "cell_type": "code",
   "execution_count": null,
   "metadata": {},
   "outputs": [
    {
     "name": "stdout",
     "output_type": "stream",
     "text": [
      "['area_1' 'area_2']\n"
     ]
    }
   ],
   "source": [
    "# DataFrame columns View\n",
    "\n",
    "print(df.columns)"
   ]
  },
  {
   "cell_type": "code",
   "execution_count": null,
   "metadata": {},
   "outputs": [
    {
     "name": "stdout",
     "output_type": "stream",
     "text": [
      "2000    1.1\n",
      "2001    1.2\n",
      "2002    1.5\n",
      "2003    1.7\n",
      "2004    2.0\n",
      "Name: area_1, dtype: float64\n",
      "2000    0.4\n",
      "2001    0.5\n",
      "2002    0.7\n",
      "2003    0.6\n",
      "2004    0.7\n",
      "Name: area_2, dtype: float64\n",
      "      area_1  area_2\n",
      "2000     1.1     0.4\n",
      "2001     1.2     0.5\n",
      "2002     1.5     0.7\n",
      "2003     1.7     0.6\n",
      "2004     2.0     0.7\n"
     ]
    }
   ],
   "source": [
    "# Single-column access\n",
    "print(df['area_1'])\n",
    "print(df.area_2)\n",
    "\n",
    "# Multiple-column access\n",
    "print(df[['area_1', 'area_2']])"
   ]
  },
  {
   "cell_type": "code",
   "execution_count": null,
   "metadata": {},
   "outputs": [
    {
     "name": "stdout",
     "output_type": "stream",
     "text": [
      "      area_1  area_2  area_3 area_4\n",
      "2000     1.1     0.4     1.8      a\n",
      "2001     1.2     0.5     1.7      b\n",
      "2002     1.5     0.7     1.5      c\n",
      "2003     1.7     0.6     1.4      d\n",
      "2004     2.0     0.7     1.4      e\n"
     ]
    }
   ],
   "source": [
    "# Column addition\n",
    "\n",
    "df['area_3'] = [1.8, 1.7, 1.5, 1.4, 1.4]\n",
    "df['area_4'] = ['a', 'b', 'c', 'd', 'e']\n",
    "print(df)"
   ]
  },
  {
   "cell_type": "code",
   "execution_count": null,
   "metadata": {},
   "outputs": [],
   "source": []
  },
  {
   "cell_type": "code",
   "execution_count": null,
   "metadata": {},
   "outputs": [
    {
     "name": "stdout",
     "output_type": "stream",
     "text": [
      "Index([2000, 2001, 2002, 2003, 2004], dtype='int64')\n"
     ]
    }
   ],
   "source": [
    "# DataFrame rows View\n",
    "\n",
    "print(df.index)"
   ]
  },
  {
   "cell_type": "code",
   "execution_count": null,
   "metadata": {
    "scrolled": true
   },
   "outputs": [
    {
     "name": "stdout",
     "output_type": "stream",
     "text": [
      "area_1    1.1\n",
      "area_2    0.4\n",
      "area_3    1.8\n",
      "area_4      a\n",
      "Name: 2000, dtype: object\n"
     ]
    }
   ],
   "source": [
    "# row access with iloc\n",
    "\n",
    "print(df.iloc[0])"
   ]
  },
  {
   "cell_type": "code",
   "execution_count": null,
   "metadata": {},
   "outputs": [
    {
     "name": "stdout",
     "output_type": "stream",
     "text": [
      "      area_1  area_2  area_3 area_4\n",
      "2001     1.2     0.5     1.7      b\n",
      "2003     1.7     0.6     1.4      d\n"
     ]
    }
   ],
   "source": [
    "print(df.iloc[ [1, 3] ])"
   ]
  },
  {
   "cell_type": "code",
   "execution_count": null,
   "metadata": {},
   "outputs": [
    {
     "name": "stdout",
     "output_type": "stream",
     "text": [
      "      area_1  area_2  area_3 area_4\n",
      "2002     1.5     0.7     1.5      c\n",
      "2003     1.7     0.6     1.4      d\n",
      "2004     2.0     0.7     1.4      e\n"
     ]
    }
   ],
   "source": [
    "print(df.iloc[2:5])"
   ]
  },
  {
   "cell_type": "code",
   "execution_count": null,
   "metadata": {},
   "outputs": [
    {
     "name": "stdout",
     "output_type": "stream",
     "text": [
      "area_1    1.1\n",
      "area_2    0.4\n",
      "area_3    1.8\n",
      "area_4      a\n",
      "Name: 2000, dtype: object\n"
     ]
    }
   ],
   "source": [
    "# row access with loc\n",
    "\n",
    "print(df.loc[2000])"
   ]
  },
  {
   "cell_type": "code",
   "execution_count": 69,
   "metadata": {},
   "outputs": [
    {
     "name": "stdout",
     "output_type": "stream",
     "text": [
      "      area_1  area_2  area_3 area_4\n",
      "2001     1.2     0.5     1.7      b\n",
      "2003     1.7     0.6     1.4      d\n"
     ]
    }
   ],
   "source": [
    "print(df.loc[ [2001, 2003]])"
   ]
  },
  {
   "cell_type": "code",
   "execution_count": 70,
   "metadata": {},
   "outputs": [
    {
     "name": "stdout",
     "output_type": "stream",
     "text": [
      "      area_1  area_2  area_3 area_4\n",
      "2002     1.5     0.7     1.5      c\n",
      "2003     1.7     0.6     1.4      d\n",
      "2004     2.0     0.7     1.4      e\n"
     ]
    }
   ],
   "source": [
    "print(df.loc[2002: 2004])"
   ]
  },
  {
   "cell_type": "code",
   "execution_count": 74,
   "metadata": {},
   "outputs": [
    {
     "name": "stdout",
     "output_type": "stream",
     "text": [
      "1.1\n",
      "      area_1  area_2  area_3 area_4\n",
      "2001     1.2     0.5     1.7      b\n",
      "2003     1.7     0.6     1.4      d\n"
     ]
    }
   ],
   "source": [
    "# Flexible Data Selection\n",
    "# iloc\n",
    "\n",
    "print(df.iloc[0, 0]) # Devina notes: Row and column combinatsion\n",
    "print(df.iloc[ [1, 3] ])"
   ]
  },
  {
   "cell_type": "code",
   "execution_count": 78,
   "metadata": {},
   "outputs": [
    {
     "name": "stdout",
     "output_type": "stream",
     "text": [
      "2000    a\n",
      "2001    b\n",
      "2002    c\n",
      "Name: area_4, dtype: object\n"
     ]
    }
   ],
   "source": [
    "print(df.iloc[:3, -1]) # Devina notes: :3 meaning rows and -1 meaning last column/series"
   ]
  },
  {
   "cell_type": "code",
   "execution_count": 89,
   "metadata": {},
   "outputs": [
    {
     "name": "stdout",
     "output_type": "stream",
     "text": [
      "      area_2  area_3\n",
      "2000     0.4     1.8\n",
      "2002     0.7     1.5\n"
     ]
    }
   ],
   "source": [
    "print(df.iloc[[0, 2],1:3]) # Devina notes: dnt use [] when giving range"
   ]
  },
  {
   "cell_type": "code",
   "execution_count": null,
   "metadata": {},
   "outputs": [],
   "source": [
    "# loc\n",
    "\n",
    "print(df.loc[2001, 'area_2'])"
   ]
  },
  {
   "cell_type": "code",
   "execution_count": null,
   "metadata": {},
   "outputs": [],
   "source": [
    "print(df.loc[2001:2002, 'area_3'])"
   ]
  },
  {
   "cell_type": "code",
   "execution_count": null,
   "metadata": {},
   "outputs": [],
   "source": [
    "print(df.loc[[2000, 2001, 2003], :'area_2'])"
   ]
  },
  {
   "cell_type": "code",
   "execution_count": null,
   "metadata": {},
   "outputs": [],
   "source": [
    "df.ix?"
   ]
  },
  {
   "cell_type": "code",
   "execution_count": null,
   "metadata": {},
   "outputs": [],
   "source": []
  },
  {
   "cell_type": "code",
   "execution_count": null,
   "metadata": {},
   "outputs": [],
   "source": [
    "# Index\n",
    "\n",
    "print(df.columns)\n",
    "print(type(df.columns))\n",
    "print(df.index)\n",
    "print(type(df.index))"
   ]
  },
  {
   "cell_type": "code",
   "execution_count": null,
   "metadata": {},
   "outputs": [],
   "source": [
    "# Immutable\n",
    "\n",
    "df.index[0] = 1999"
   ]
  },
  {
   "cell_type": "code",
   "execution_count": null,
   "metadata": {},
   "outputs": [],
   "source": [
    "# Replaceable\n",
    "\n",
    "df.index = range(len(df)) # len(df) gives the number of rows of DataFrame\n",
    "df.columns = ['a1', 'a2', 'a3']\n",
    "df"
   ]
  },
  {
   "cell_type": "code",
   "execution_count": null,
   "metadata": {
    "scrolled": true
   },
   "outputs": [],
   "source": [
    "# setting a column as index\n",
    "\n",
    "df['year'] = range(2000, 2005) # create new column year"
   ]
  },
  {
   "cell_type": "code",
   "execution_count": null,
   "metadata": {},
   "outputs": [],
   "source": [
    "df.set_index('year') # column is removed after being set as index"
   ]
  },
  {
   "cell_type": "code",
   "execution_count": null,
   "metadata": {},
   "outputs": [],
   "source": [
    "df # df is unchanged without setting inplace to True"
   ]
  },
  {
   "cell_type": "code",
   "execution_count": null,
   "metadata": {},
   "outputs": [],
   "source": [
    "df.set_index('year',inplace = True)"
   ]
  },
  {
   "cell_type": "code",
   "execution_count": null,
   "metadata": {
    "scrolled": true
   },
   "outputs": [],
   "source": [
    "df"
   ]
  },
  {
   "cell_type": "code",
   "execution_count": null,
   "metadata": {},
   "outputs": [],
   "source": []
  },
  {
   "cell_type": "code",
   "execution_count": null,
   "metadata": {},
   "outputs": [],
   "source": [
    "# Filtering\n",
    "\n",
    "info = {'name': ['Alicia', 'Adam', 'Ashley'],\n",
    "        'age': [10, 12, 9],\n",
    "        'height': [155, 158, 152],\n",
    "        'weight': [45, 42, 52]}\n",
    "\n",
    "df = pd.DataFrame(info)\n",
    "df.set_index('name', inplace=True)\n",
    "df\n"
   ]
  },
  {
   "cell_type": "code",
   "execution_count": null,
   "metadata": {},
   "outputs": [],
   "source": [
    "# Filter Mask\n",
    "\n",
    "print(df['age'] >= 10)"
   ]
  },
  {
   "cell_type": "code",
   "execution_count": null,
   "metadata": {},
   "outputs": [],
   "source": [
    "print(df >= 10)"
   ]
  },
  {
   "cell_type": "code",
   "execution_count": null,
   "metadata": {},
   "outputs": [],
   "source": [
    "ft = (df['age'] >= 10) & (df['height'] < 158)\n",
    "print(ft)"
   ]
  },
  {
   "cell_type": "code",
   "execution_count": null,
   "metadata": {},
   "outputs": [],
   "source": [
    "# Data selection with filter mask\n",
    "\n",
    "print(df[df['age'] >= 10])"
   ]
  },
  {
   "cell_type": "code",
   "execution_count": null,
   "metadata": {},
   "outputs": [],
   "source": [
    "print(df.loc[df['age'] >= 10])"
   ]
  },
  {
   "cell_type": "code",
   "execution_count": null,
   "metadata": {
    "scrolled": true
   },
   "outputs": [],
   "source": [
    "print(df.loc[df['age'] >= 10, 'height'])"
   ]
  },
  {
   "cell_type": "code",
   "execution_count": null,
   "metadata": {},
   "outputs": [],
   "source": [
    "print(df.loc[df['height'] >= 10, ['age', 'weight']])"
   ]
  },
  {
   "cell_type": "code",
   "execution_count": null,
   "metadata": {},
   "outputs": [],
   "source": []
  },
  {
   "cell_type": "code",
   "execution_count": null,
   "metadata": {},
   "outputs": [],
   "source": [
    "# Updating rows\n",
    "\n",
    "names = {'first name': \n",
    "            ['Josh', 'John', 'Jane'],\n",
    "         'last name': \n",
    "            ['Smith', 'Doe', 'Doe']}\n",
    "df = pd.DataFrame(names)\n",
    "df"
   ]
  },
  {
   "cell_type": "code",
   "execution_count": null,
   "metadata": {
    "scrolled": true
   },
   "outputs": [],
   "source": [
    "df[df['last name'] == 'Smith']['last name'] = 'Anderson'"
   ]
  },
  {
   "cell_type": "code",
   "execution_count": null,
   "metadata": {},
   "outputs": [],
   "source": [
    "df"
   ]
  },
  {
   "cell_type": "code",
   "execution_count": null,
   "metadata": {
    "scrolled": true
   },
   "outputs": [],
   "source": [
    "df.loc[0] = ['Jason', 'Anderson']\n",
    "df"
   ]
  },
  {
   "cell_type": "code",
   "execution_count": null,
   "metadata": {},
   "outputs": [],
   "source": [
    "df.iloc[0] = ['Josh', 'Smith']\n",
    "df"
   ]
  },
  {
   "cell_type": "code",
   "execution_count": null,
   "metadata": {},
   "outputs": [],
   "source": [
    "df.loc[0, ['last name']] = 'Anderson'\n",
    "df"
   ]
  },
  {
   "cell_type": "code",
   "execution_count": null,
   "metadata": {},
   "outputs": [],
   "source": [
    "df['last name'] = list(df['last name'])[::-1]\n",
    "df"
   ]
  },
  {
   "cell_type": "code",
   "execution_count": null,
   "metadata": {},
   "outputs": [],
   "source": [
    "df = pd.DataFrame(\n",
    "    {'first name': ['Josh', 'John', 'Jane'],\n",
    "     'last name': ['Anderson', 'Doe', 'Doe']}\n",
    ")\n",
    "df"
   ]
  },
  {
   "cell_type": "code",
   "execution_count": null,
   "metadata": {
    "scrolled": true
   },
   "outputs": [],
   "source": [
    "dir(df['last name'].str)"
   ]
  },
  {
   "cell_type": "code",
   "execution_count": null,
   "metadata": {},
   "outputs": [],
   "source": [
    "df['last name'] = df['last name'].str.lower()\n",
    "df\n"
   ]
  },
  {
   "cell_type": "code",
   "execution_count": null,
   "metadata": {},
   "outputs": [],
   "source": []
  },
  {
   "cell_type": "code",
   "execution_count": null,
   "metadata": {},
   "outputs": [],
   "source": [
    "# Apply, map, applymap, replace\n",
    "\n",
    "# pd.Seires.apply()\n",
    "df['last name'] = df['last name'].apply(str.title)\n",
    "\n",
    "df"
   ]
  },
  {
   "cell_type": "code",
   "execution_count": null,
   "metadata": {},
   "outputs": [],
   "source": [
    "def change_Josh(fname):\n",
    "    return 'Joe' if fname == 'Josh' else fname\n",
    "\n",
    "df['first name'] = df['first name'].apply(change_Josh)\n",
    "\n",
    "df"
   ]
  },
  {
   "cell_type": "code",
   "execution_count": null,
   "metadata": {},
   "outputs": [],
   "source": [
    "df['first name'] = df['first name'].apply(lambda s: 'Josh' if s == 'Joe' else s)\n",
    "df"
   ]
  },
  {
   "cell_type": "code",
   "execution_count": null,
   "metadata": {
    "scrolled": true
   },
   "outputs": [],
   "source": [
    "# pd.DataFrame.apply()\n",
    "\n",
    "df.apply(len)"
   ]
  },
  {
   "cell_type": "code",
   "execution_count": null,
   "metadata": {
    "scrolled": true
   },
   "outputs": [],
   "source": [
    "df.apply(len, axis='index')"
   ]
  },
  {
   "cell_type": "code",
   "execution_count": null,
   "metadata": {
    "scrolled": true
   },
   "outputs": [],
   "source": [
    "df.apply(len, axis=1)"
   ]
  },
  {
   "cell_type": "code",
   "execution_count": null,
   "metadata": {},
   "outputs": [],
   "source": [
    "df.apply(lambda ser: max(ser.apply(len)))"
   ]
  },
  {
   "cell_type": "code",
   "execution_count": null,
   "metadata": {},
   "outputs": [],
   "source": [
    "# pandas.DataFrame.applymap()\n",
    "\n",
    "print(df.applymap(str.upper))"
   ]
  },
  {
   "cell_type": "code",
   "execution_count": null,
   "metadata": {},
   "outputs": [],
   "source": [
    "print(df.applymap(lambda s: s[0]))\n"
   ]
  },
  {
   "cell_type": "code",
   "execution_count": null,
   "metadata": {},
   "outputs": [],
   "source": []
  },
  {
   "cell_type": "code",
   "execution_count": null,
   "metadata": {
    "scrolled": true
   },
   "outputs": [],
   "source": [
    "# pandas.Series.map()\n",
    "\n",
    "print(df['first name'].map({'Josh': 'Joe', 'John': 'Jay'}))"
   ]
  },
  {
   "cell_type": "code",
   "execution_count": null,
   "metadata": {},
   "outputs": [],
   "source": [
    "s = pd.Series({\"Josh\":'Joe', 'John': 'Jay'})\n",
    "s"
   ]
  },
  {
   "cell_type": "code",
   "execution_count": null,
   "metadata": {
    "scrolled": true
   },
   "outputs": [],
   "source": [
    "print(df['first name'].map(s))"
   ]
  },
  {
   "cell_type": "code",
   "execution_count": null,
   "metadata": {},
   "outputs": [],
   "source": [
    "# pandas.Series.replace()\n",
    "\n",
    "print(df['first name'].replace({'Josh': 'Joe', 'John': 'Jay'}))"
   ]
  },
  {
   "cell_type": "code",
   "execution_count": null,
   "metadata": {},
   "outputs": [],
   "source": []
  },
  {
   "cell_type": "code",
   "execution_count": null,
   "metadata": {},
   "outputs": [],
   "source": [
    "# Adding columns\n",
    "\n",
    "df"
   ]
  },
  {
   "cell_type": "code",
   "execution_count": null,
   "metadata": {},
   "outputs": [],
   "source": [
    "df['full name'] = df['first name'] + ' ' + df['last name']\n",
    "df"
   ]
  },
  {
   "cell_type": "code",
   "execution_count": null,
   "metadata": {},
   "outputs": [],
   "source": [
    "df['year in'] = [2005, 2011, 2019]\n",
    "df"
   ]
  },
  {
   "cell_type": "code",
   "execution_count": null,
   "metadata": {
    "scrolled": true
   },
   "outputs": [],
   "source": [
    "df['email'] = df['first name'].str.lower() +'.' \\\n",
    "            + df['last name'].str.lower() + \\\n",
    "            + df['year in'].apply(str) + '@company.com'\n",
    "df"
   ]
  },
  {
   "cell_type": "code",
   "execution_count": null,
   "metadata": {},
   "outputs": [],
   "source": [
    "# assigning a Series to the new column\n",
    "\n",
    "emp_sex = pd.Series({0: 'male', 2: 'female'})\n",
    "df['gender'] = emp_sex\n",
    "df"
   ]
  },
  {
   "cell_type": "code",
   "execution_count": null,
   "metadata": {},
   "outputs": [],
   "source": [
    "# Appending a DataFrame to Another\n",
    "\n",
    "df2 = pd.DataFrame({'first name': ['Ron', 'Nick'],\n",
    "                    'last name': ['James', 'Simons'],\n",
    "                    'full name': ['Ron James', 'Nick Simons'],\n",
    "                    'year in': [2010, 2011],\n",
    "                    'email': ['ron.james2010@company.com', \n",
    "                              'nick.simons2011@company.com'],\n",
    "                    'gender': ['male', 'male']\n",
    "                   }\n",
    "                  )\n",
    "df2"
   ]
  },
  {
   "cell_type": "code",
   "execution_count": null,
   "metadata": {},
   "outputs": [],
   "source": [
    "df.append(df2)"
   ]
  },
  {
   "cell_type": "code",
   "execution_count": null,
   "metadata": {
    "scrolled": true
   },
   "outputs": [],
   "source": [
    "df.append(df2, ignore_index=True)"
   ]
  },
  {
   "cell_type": "code",
   "execution_count": null,
   "metadata": {},
   "outputs": [],
   "source": [
    "df = df.append(df2, ignore_index=True)"
   ]
  },
  {
   "cell_type": "code",
   "execution_count": null,
   "metadata": {},
   "outputs": [],
   "source": [
    "df"
   ]
  },
  {
   "cell_type": "code",
   "execution_count": null,
   "metadata": {},
   "outputs": [],
   "source": []
  },
  {
   "cell_type": "code",
   "execution_count": null,
   "metadata": {},
   "outputs": [],
   "source": []
  },
  {
   "cell_type": "code",
   "execution_count": null,
   "metadata": {},
   "outputs": [],
   "source": [
    "# Removing columns or rows\n",
    "# Series\n",
    "\n",
    "df['gender'].drop([3, 4])"
   ]
  },
  {
   "cell_type": "code",
   "execution_count": null,
   "metadata": {},
   "outputs": [],
   "source": [
    "# DataFrame\n",
    "\n",
    "df.drop([3, 4])"
   ]
  },
  {
   "cell_type": "code",
   "execution_count": null,
   "metadata": {},
   "outputs": [],
   "source": [
    "df.drop(df[df['gender'] == 'male'].index)"
   ]
  },
  {
   "cell_type": "code",
   "execution_count": null,
   "metadata": {},
   "outputs": [],
   "source": [
    "df.drop('year in', axis = 1)"
   ]
  },
  {
   "cell_type": "code",
   "execution_count": null,
   "metadata": {
    "scrolled": true
   },
   "outputs": [],
   "source": [
    "df.drop('year in', axis=1, inplace=True)\n",
    "df"
   ]
  },
  {
   "cell_type": "code",
   "execution_count": null,
   "metadata": {},
   "outputs": [],
   "source": []
  },
  {
   "cell_type": "code",
   "execution_count": null,
   "metadata": {},
   "outputs": [],
   "source": [
    "# Sorting Data\n",
    "\n",
    "df"
   ]
  },
  {
   "cell_type": "code",
   "execution_count": null,
   "metadata": {},
   "outputs": [],
   "source": [
    "df.sort_values(by = 'last name')"
   ]
  },
  {
   "cell_type": "code",
   "execution_count": null,
   "metadata": {},
   "outputs": [],
   "source": [
    "df.sort_values(by=['last name', 'first name'])"
   ]
  },
  {
   "cell_type": "code",
   "execution_count": null,
   "metadata": {
    "scrolled": true
   },
   "outputs": [],
   "source": [
    "df.sort_values(by=['last name', 'first name'], ascending=[True, False])"
   ]
  },
  {
   "cell_type": "code",
   "execution_count": null,
   "metadata": {},
   "outputs": [],
   "source": [
    "df.sort_values(by='first name', inplace=True)"
   ]
  },
  {
   "cell_type": "code",
   "execution_count": null,
   "metadata": {},
   "outputs": [],
   "source": [
    "df"
   ]
  },
  {
   "cell_type": "code",
   "execution_count": null,
   "metadata": {},
   "outputs": [],
   "source": [
    "# pandas.DataFrame.sort_index()\n",
    "\n",
    "df.sort_index(inplace=True)\n",
    "df"
   ]
  },
  {
   "cell_type": "code",
   "execution_count": null,
   "metadata": {},
   "outputs": [],
   "source": []
  },
  {
   "cell_type": "markdown",
   "metadata": {},
   "source": [
    "## Pandas exercises"
   ]
  },
  {
   "cell_type": "markdown",
   "metadata": {},
   "source": [
    "### Exercise 4.11p"
   ]
  },
  {
   "cell_type": "markdown",
   "metadata": {},
   "source": [
    "1. Given two lists of the same size, ```l1``` and ```l2```, use ```l1``` as the index and ```l2``` as the data to create a pandas Series ```s```.\n",
    "\n",
    "2. create another pandas Series ```s1``` from ```s```, using the index in ```s``` as data in ```s``` and the data in ```s``` as index in ```s1```.\n",
    "\n",
    "3. multiply all items in ```s``` by 2.\n",
    "\n",
    "4. change the index to lower-case letters 'a', 'b', ..., 'h'.\n",
    "\n",
    "5. define a function to add 1 to first item in ```s```, 2 to second item, 3 to third item, etc.\n",
    "\n",
    "Remove the underline and fill in your code. Each underline is for one line of code.\n"
   ]
  },
  {
   "cell_type": "code",
   "execution_count": null,
   "metadata": {
    "scrolled": true
   },
   "outputs": [],
   "source": [
    "l1 = list(range(5, 20, 2))\n",
    "l2 = [5*n for n in range(len(l1))]\n",
    "print(l1, l2)\n",
    "\n",
    "# 1\n",
    "s = ___________________ # remove the underline and fill your code\n",
    "print(s)\n",
    "\n",
    "# 2\n",
    "s1 = __________________ # remove the underline and fill your code\n",
    "print(s1)\n",
    "\n",
    "# 3\n",
    "s = ___________________ # remove the underline and fill your code\n",
    "print(s)\n",
    "\n",
    "# 4\n",
    "s.index = ___________________ # remove the underline and fill your code\n",
    "print(s)\n",
    "\n",
    "# 5\n",
    "def add_n(ser):\n",
    "    # write your code here\n",
    "\n",
    "\n",
    "add_n(s)\n",
    "print(s)\n",
    "\n"
   ]
  },
  {
   "cell_type": "code",
   "execution_count": null,
   "metadata": {},
   "outputs": [],
   "source": []
  },
  {
   "cell_type": "markdown",
   "metadata": {},
   "source": [
    "### Exercise 4.12p"
   ]
  },
  {
   "cell_type": "markdown",
   "metadata": {},
   "source": [
    "1. Given a dictionary containing student names and their marks of three courses, create a DataFrame with their names as index and course names as columns.\n",
    "```python\n",
    "marks = { 'Names': ['James', 'Andrew', 'Bob', 'Carlson'],\n",
    "          'English': [58, 62, 77, 65],\n",
    "          'Chinese': [55, 32, 64, 80],\n",
    "          'Math': [61, 70, 81, 54]}\n",
    "```\n",
    "\n",
    "2. Given a dictionary containing students names and their marks of three courses, create a DataFrame with their names as index and course names as columns. Use the same column names as ex 2.1.\n",
    "```\n",
    "marks = {'James': [58, 55, 61],\n",
    "         'Andrew': [62, 32, 70],\n",
    "         'Bob': [77, 64, 81],\n",
    "         'Carlson': [65, 80, 54]}\n",
    "```\n"
   ]
  },
  {
   "cell_type": "code",
   "execution_count": null,
   "metadata": {},
   "outputs": [],
   "source": [
    "# 1\n",
    "marks = { 'Names': ['James', 'Andrew', 'Bob', 'Carlson'],\n",
    "          'English': [58, 62, 77, 65],\n",
    "          'Chinese': [55, 32, 64, 80],\n",
    "          'Math': [61, 70, 81, 54]}\n",
    "\n",
    "df = ______________________ # remove the underline and fill your code\n",
    "df.set_index(_____________________) # remove the underline and fill your code\n",
    "print(df)\n",
    "\n",
    "# 2\n",
    "marks = {'James': [58, 55, 61],\n",
    "         'Andrew': [62, 32, 70],\n",
    "         'Bob': [77, 64, 81],\n",
    "         'Carlson': [65, 80, 54]}\n",
    "\n",
    "df = pd.DataFrame(_________________________, # remove the underline and fill your code\n",
    "                  index=________________________, # remove the underline and fill your code\n",
    "                  columns=['English', 'Chinese', 'Math'])\n",
    "print(df)"
   ]
  },
  {
   "cell_type": "code",
   "execution_count": null,
   "metadata": {},
   "outputs": [],
   "source": [
    "# 1\n",
    "marks = { 'Names': ['James', 'Andrew', 'Bob', 'Carlson'],\n",
    "          'English': [58, 62, 77, 65],\n",
    "          'Chinese': [55, 32, 64, 80],\n",
    "          'Math': [61, 70, 81, 54]}\n",
    "\n",
    "df = pd.DataFrame(marks)\n",
    "df.set_index('Names', inplace=True)\n",
    "print(df)\n",
    "\n",
    "# 2\n",
    "marks = {'James': [58, 55, 61],\n",
    "         'Andrew': [62, 32, 70],\n",
    "         'Bob': [77, 64, 81],\n",
    "         'Carlson': [65, 80, 54]}\n",
    "\n",
    "df = pd.DataFrame(marks.values(),\n",
    "                  index=marks.keys(),\n",
    "                  columns=['English', 'Chinese', 'Math'])\n",
    "print(df)"
   ]
  },
  {
   "cell_type": "code",
   "execution_count": null,
   "metadata": {},
   "outputs": [],
   "source": [
    "s = pd.Series( [ 1, 2, 1, 2, 1, 3])"
   ]
  },
  {
   "cell_type": "code",
   "execution_count": null,
   "metadata": {},
   "outputs": [],
   "source": [
    "s = s.map({1: 1, 2: 3})"
   ]
  },
  {
   "cell_type": "code",
   "execution_count": null,
   "metadata": {},
   "outputs": [],
   "source": [
    "s[5] = np.nan\n",
    "s"
   ]
  },
  {
   "cell_type": "code",
   "execution_count": null,
   "metadata": {},
   "outputs": [],
   "source": []
  }
 ],
 "metadata": {
  "kernelspec": {
   "display_name": "Python 3 (ipykernel)",
   "language": "python",
   "name": "python3"
  },
  "language_info": {
   "codemirror_mode": {
    "name": "ipython",
    "version": 3
   },
   "file_extension": ".py",
   "mimetype": "text/x-python",
   "name": "python",
   "nbconvert_exporter": "python",
   "pygments_lexer": "ipython3",
   "version": "3.11.7"
  }
 },
 "nbformat": 4,
 "nbformat_minor": 4
}
