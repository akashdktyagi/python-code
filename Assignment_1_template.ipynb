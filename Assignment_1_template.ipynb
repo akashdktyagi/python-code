{
 "cells": [
  {
   "cell_type": "markdown",
   "id": "77db15b1",
   "metadata": {},
   "source": [
    "## Assignment 1\n",
    "\n",
    "There are six questions in total. Each question is worth **5 marks**. The maximum possible score for this assignment is **30 marks**. Please replace ```### Your code here ###``` with the relevant lines of code, but do not remove the existing code or change the names of each class or method.\n",
    "\n",
    "For each question, there will be two open test-cases, and three hidden test-cases. Rounding errors of 1e-5 will be tolerated, ie. if the exact answer is 0.5, your answer will be accepted as long as it is between 0.49999 and 0.50001. \n",
    "\n",
    "This is a Python course, not an Algo course. You will not be evaluated on time complexity.\n",
    "\n",
    "[Rule 1] Please attempt the questions in good faith. If you were to hard-code the answers (for example using a dictionary to map the known inputs and outputs), no credit will be awarded for that.\n",
    "\n",
    "[Rule 2] Please ensure that you *return* (NOT *print*) the output.\n",
    "\n",
    "[Rule 3] You are not allowed to import any library. It is okay to use whatever built-in Python functions."
   ]
  },
  {
   "cell_type": "code",
   "execution_count": null,
   "id": "aa871a95",
   "metadata": {},
   "outputs": [],
   "source": []
  },
  {
   "cell_type": "markdown",
   "id": "c3031977",
   "metadata": {},
   "source": [
    "## Question 1 (```index``` Version 2)\n",
    "\n",
    "Ah Long have just learnt about using ```index``` to find the first occurrence of the value from a list. Although it is powerful, Ah Long feels that it is missing a few key characteristics:\n",
    "\n",
    "- ```index``` only gives the first occurrence. If there are multiple same values in the list, ```index``` only provides one of them.\n",
    "- When a value is not inside the list, ```index``` throws an error and does not work.\n",
    "\n",
    "To solve this issue, Ah Long decides to write a new function, ```index_v2```, which takes in a list ```list_of_values```, and a ```value```. This function returns a list containing the indexes of all the items in ```list_of_values``` that are equal to ```value```. If no such ```value``` exists in the list, instead of throwing an error, you should return an empty list.\n",
    "\n",
    "Help Ah Long to write this function."
   ]
  },
  {
   "cell_type": "markdown",
   "id": "9ae140ef",
   "metadata": {},
   "source": [
    "<pre>\n",
    "<u>Sample 1.1</u>\n",
    "list_of_values = [1, 3, 4, 1, 5, 2]\n",
    "value = 1\n",
    "index_v2(list_of_values, value)\n",
    "\n",
    "Expected output:\n",
    "[0, 3]\n",
    "</pre>\n",
    "\n",
    "\n",
    "<pre>\n",
    "<u>Sample 1.2</u>\n",
    "list_of_values = [1, 3, 4, 1, 5, 'a', 'b', 'hello', 2]\n",
    "value = 'a'\n",
    "index_v2(list_of_values, value)\n",
    "\n",
    "Expected output:\n",
    "[5]\n",
    "</pre>"
   ]
  },
  {
   "cell_type": "code",
   "execution_count": 1,
   "id": "3a20f002",
   "metadata": {},
   "outputs": [],
   "source": [
    "def index_v2(list_of_values, value):\n",
    "    ### Your code here ###\n",
    "\n",
    "    "
   ]
  },
  {
   "cell_type": "code",
   "execution_count": 2,
   "id": "53d5f9d0",
   "metadata": {},
   "outputs": [
    {
     "data": {
      "text/plain": [
       "[6, 11, 12, 14]"
      ]
     },
     "execution_count": 2,
     "metadata": {},
     "output_type": "execute_result"
    }
   ],
   "source": [
    "## Open Test-case 1.1\n",
    "list_of_values = [1, 3, 4, 1, 5, 5, 6, 9, 2, 1, 5, 6, 6, 3, 6, 2]\n",
    "value = 6\n",
    "\n",
    "index_v2(list_of_values, value) # Expected answer: [6, 11, 12, 14]"
   ]
  },
  {
   "cell_type": "code",
   "execution_count": 3,
   "id": "2b0a71df",
   "metadata": {},
   "outputs": [
    {
     "data": {
      "text/plain": [
       "[10]"
      ]
     },
     "execution_count": 3,
     "metadata": {},
     "output_type": "execute_result"
    }
   ],
   "source": [
    "## Open Test-case 1.2\n",
    "list_of_values = [1, 3, 4, 1, 'hello', 'a', 5, 5, 6, 9, 'b', 2, 1, 'what', 5, 6, 6, 3, 6, 2]\n",
    "value = 'b'\n",
    "\n",
    "index_v2(list_of_values, value) # Expected answer: [10]"
   ]
  },
  {
   "cell_type": "markdown",
   "id": "d4ae580b",
   "metadata": {},
   "source": [
    "## Question 2\n",
    "\n",
    "ABCB bank is having promotional interest rates on its bank deposits. As part of the typical marketing gimmicks, the advertisement \"up to X % interest\", where the rate actually applies only to a certain portion of the savings.\n",
    "\n",
    "The latest interest rates are published using a dictionary, in the format as given in the two samples. Each key is a string, while each value is a float representing the interest rate in percentage points. Anything above the upper limit earns an interest rate of 0.05%\n",
    "\n",
    "Help Mr. Kiasu write a function which takes in a dictionary, `abcb_rates`, and the amount of money to be deposited. The function should return the effective interest rate, also in percentage points. It is guaranteed that there are no gaps within the range of deposits, and that the promotional interest rates being applied starts from $0.\n"
   ]
  },
  {
   "cell_type": "markdown",
   "id": "26a5b9ed",
   "metadata": {},
   "source": [
    "<pre>\n",
    "<u>Sample 2.1</u>\n",
    "\n",
    "abcb_rates = {\n",
    "    '$0 - $10000': 3.00,\n",
    "    '$10000 - $30000': 4.00,\n",
    "}\n",
    "calculate(abcb_rates, 40000)\n",
    "\n",
    "Expected output:\n",
    "2.7625\n",
    "\n",
    "Explanation:\n",
    "The value is gotten via 10000/40000 * 3.00 + 20000/40000 * 4.00 + 10000/40000 * 0.05. \n",
    "The first $10000 is under 3% interest, next $20000 ($30000 - $10000) is under 4%, and the last $10000 ($40000 - $30000) is under 0.05% interest.\n",
    "</pre>\n",
    "\n",
    "\n",
    "<pre>\n",
    "<u>Sample 2.2</u>\n",
    "\n",
    "abcb_rates = {\n",
    "    '$0 - $60000': 2.00,\n",
    "    '$60000 - $90000': 2.60,\n",
    "    '$90000 - $100000': 7.90,    \n",
    "}\n",
    "calculate(abcb_rates, 95000)\n",
    "\n",
    "Expected output:\n",
    "2.5\n",
    "\n",
    "Explanation:\n",
    "The value is gotten via 60000/95000 * 2.00 + 30000/95000 * 2.60 + 5000/95000 * 7.90. \n",
    "The first $60000 is under 2% interest, next $30000 ($90000 - $60000) is under 2.6%, and the last $5000 ($95000 - $90000) is under 7.9% interest.\n",
    "</pre>"
   ]
  },
  {
   "cell_type": "code",
   "execution_count": 9,
   "id": "30e82d03",
   "metadata": {},
   "outputs": [],
   "source": [
    "def calculate(abcb_rates, amount):\n",
    "    ### Your code here ###\n",
    "\n"
   ]
  },
  {
   "cell_type": "code",
   "execution_count": 10,
   "id": "51ff9593",
   "metadata": {},
   "outputs": [
    {
     "data": {
      "text/plain": [
       "2.6"
      ]
     },
     "execution_count": 10,
     "metadata": {},
     "output_type": "execute_result"
    }
   ],
   "source": [
    "## Open Test-case 2.1\n",
    "abcb_rates = {\n",
    "    '$0 - $10000': 2.00,\n",
    "    '$10000 - $30000': 2.50,\n",
    "    '$30000 - $90000': 3.00,\n",
    "    '$90000 - $100000': 7.00    \n",
    "}\n",
    "calculate(abcb_rates, 50000)"
   ]
  },
  {
   "cell_type": "code",
   "execution_count": 11,
   "id": "d2217f9f",
   "metadata": {},
   "outputs": [
    {
     "data": {
      "text/plain": [
       "1.5562999999999998"
      ]
     },
     "execution_count": 11,
     "metadata": {},
     "output_type": "execute_result"
    }
   ],
   "source": [
    "## Open Test-case 2.2\n",
    "abcb_rates = {\n",
    "    '$0 - $50000': 2.88,\n",
    "    '$50000 - $51000': 9.18,\n",
    "}\n",
    "calculate(abcb_rates, 100000)"
   ]
  },
  {
   "cell_type": "markdown",
   "id": "4e8b7346",
   "metadata": {},
   "source": [
    "## Question 3\n",
    "\n",
    "Ah Lian has been offered some Jelly Beans by Bob. However, being the OCD that she is, she prefers to have all of her Jelly Beans to be of the same color! Bob, knowing her character, allows her to exchange as many pieces of Jelly Beans as she needs to the colour of her choice.\n",
    "\n",
    "Assume that the Jelly Beans are represented by a string of characters, with each colour being represented by a single character. For example, the string ```rbgyp``` represents Jelly Beans of the colour red, blue, green, yellow and purple.\n",
    "\n",
    "Implement the function ```jelly_beans``` that takes as input a string representing the colours of the Jelly Beans. The objective of this function is to return the **MINIMUM** number of Jelly Beans which Ah Lian needs to exchange in order to get all the Jelly Beans to be of the same colour."
   ]
  },
  {
   "cell_type": "markdown",
   "id": "3f4bfa41",
   "metadata": {},
   "source": [
    "<pre>\n",
    "<u>Sample 3.1</u>\n",
    "print(jelly_beans(\"rgb\"))\n",
    "\n",
    "Expected output:\n",
    "2\n",
    "\n",
    "Explanation:\n",
    "You can change all the jelly beans to any one of the colours.\n",
    "</pre>\n",
    "\n",
    "\n",
    "<pre>\n",
    "<u>Sample 3.2</u>\n",
    "print(jelly_beans(\"rbb\"))\n",
    "\n",
    "Expected output:\n",
    "1\n",
    "\n",
    "Explanation:\n",
    "You can change the red jelly bean to blue colour.\n",
    "</pre>"
   ]
  },
  {
   "cell_type": "code",
   "execution_count": 2,
   "id": "d98042ac",
   "metadata": {},
   "outputs": [],
   "source": [
    "def jelly_beans(colours):\n",
    "    ### Your code here ###\n",
    "\n"
   ]
  },
  {
   "cell_type": "code",
   "execution_count": 3,
   "id": "bbfaeb8f",
   "metadata": {},
   "outputs": [
    {
     "name": "stdout",
     "output_type": "stream",
     "text": [
      "3\n"
     ]
    }
   ],
   "source": [
    "## Open Test-case 3.1\n",
    "print(jelly_beans(\"oobbby\"))\n",
    "\n",
    "# Answer is 3, since you can change all jelly beans to blue"
   ]
  },
  {
   "cell_type": "code",
   "execution_count": 4,
   "id": "3d73cd2b",
   "metadata": {},
   "outputs": [
    {
     "name": "stdout",
     "output_type": "stream",
     "text": [
      "6\n"
     ]
    }
   ],
   "source": [
    "## Open Test-case 3.2\n",
    "print(jelly_beans(\"ooobbbggy\"))\n",
    "\n",
    "# Answer is 6, since you can change all jelly beans to blue or orange"
   ]
  },
  {
   "cell_type": "markdown",
   "id": "e6901835",
   "metadata": {},
   "source": [
    "## Question 4\n",
    "\n",
    "As the warehouse manager of popular supermarket chain Hot Storage, Sally is in charge of managing the grocery products within each supermarket. You have been tasked to help Sally manage her products.\n",
    "\n",
    "In this problem, each product is represented as an instance of the class ```Grocery```, which has the attributes ```name``` and ```amount```, and a built-in method ```update_amount```.\n",
    "\n",
    "Help Sally complete the code below to create a class ```Supermarket```, which has the methods ```topup_product``` and ```compute_total_amount```.\n",
    "\n",
    "The method ```compute_total_amount``` is already created for you; do not modify it in any way. Complete the method ```topup_product```, which takes in a ```Grocery``` object as an instance. The method should only modify ```self.stock``` to ensure that ```compute_total_amount``` returns the correct output as per it's implementation."
   ]
  },
  {
   "cell_type": "markdown",
   "id": "2b3bba28",
   "metadata": {},
   "source": [
    "<pre>\n",
    "<u>Sample 4.1</u>\n",
    "\n",
    "supermarket = Supermarket()\n",
    "supermarket.topup_product('Kang Kong', 50)\n",
    "supermarket.topup_product('Orange', 60)\n",
    "supermarket.topup_product('Rice', 20)\n",
    "supermarket.compute_weight('Orange')\n",
    "\n",
    "Expected output:\n",
    "60\n",
    "</pre>\n",
    "\n",
    "\n",
    "<pre>\n",
    "<u>Sample 4.2</u>\n",
    "\n",
    "supermarket = Supermarket()\n",
    "for _ in range(5):\n",
    "    supermarket.topup_product('Orange', 10)\n",
    "supermarket.compute_weight('Orange')\n",
    "\n",
    "Expected output:\n",
    "50\n",
    "</pre>"
   ]
  },
  {
   "cell_type": "code",
   "execution_count": 8,
   "id": "f5078c4b",
   "metadata": {},
   "outputs": [],
   "source": [
    "class Grocery:\n",
    "    def __init__(self, name, amount):\n",
    "        self.name = name\n",
    "        self.amount = amount\n",
    "\n",
    "    def update_amount(self, amount):\n",
    "        self.amount += amount\n",
    "\n",
    "\n",
    "class Supermarket:\n",
    "    def __init__(self):\n",
    "        self.storage = []\n",
    "    \n",
    "    def topup_product(self, grocery_name, grocery_amount):\n",
    "        ### Your code here ###\n",
    "\n",
    "    \n",
    "    def compute_weight(self, product_of_interest):\n",
    "\n",
    "        for grocery in self.storage:\n",
    "            if grocery.name == product_of_interest:\n",
    "                return grocery.amount\n",
    "        \n",
    "        return 0\n"
   ]
  },
  {
   "cell_type": "code",
   "execution_count": 9,
   "id": "66036123",
   "metadata": {},
   "outputs": [
    {
     "data": {
      "text/plain": [
       "300"
      ]
     },
     "execution_count": 9,
     "metadata": {},
     "output_type": "execute_result"
    }
   ],
   "source": [
    "## Open Test-case 4.1\n",
    "supermarket = Supermarket()\n",
    "for _ in range(6):\n",
    "    supermarket.topup_product('Spinach', 100)\n",
    "    supermarket.topup_product('Rice', 50)\n",
    "supermarket.compute_weight('Rice') # 300"
   ]
  },
  {
   "cell_type": "code",
   "execution_count": 10,
   "id": "0f7ea93a",
   "metadata": {},
   "outputs": [
    {
     "data": {
      "text/plain": [
       "0"
      ]
     },
     "execution_count": 10,
     "metadata": {},
     "output_type": "execute_result"
    }
   ],
   "source": [
    "## Open Test-case 4.2\n",
    "supermarket = Supermarket()\n",
    "supermarket.topup_product('Spinach', 100)\n",
    "supermarket.compute_weight('Rice') # 0"
   ]
  },
  {
   "cell_type": "markdown",
   "id": "3d3fb0e6",
   "metadata": {},
   "source": [
    "## Question 5\n",
    "\n",
    "Michael is the owner of a popular hawker food stall selling mixed vegetable rice. He adopts the following concept for his food stall: Customers are able to select from two different selections of food, with different ```base_price```. The normal dishes are labelled as class ```Dish```, with attributes ```amount``` and ```price```. The method ```total_price``` has also beeen provided below.\n",
    "\n",
    "His store sells ```PremiumDish```, a more premium dish inheriting from the ```Dish``` class. In addition to the attributes ```amount``` and ```price```, the premium dish charges a ```premium``` on the overall price of the dish, i.e., the ```total_price``` is calculated using ```amount*price+premium```. See the samples and open test cases for examples.\n",
    "\n",
    "Your goal is to help Michael complete the definition for the ```PremiumDish``` methods ```__init__``` and ```total_price```. In each of the method, you MUST use the parent class, ```Dish```'s ```__init__``` and ```total_price``` respectively, to obtain the full marks for this question. I.e., you need to use ```super()``` for both of the methods!"
   ]
  },
  {
   "cell_type": "markdown",
   "id": "5c6f86a6",
   "metadata": {},
   "source": [
    "<pre>\n",
    "<u>Sample 5.1</u>\n",
    "\n",
    "print(PremiumDish(5, 0.5, 5).total_price())\n",
    "\n",
    "Expected output:\n",
    "7.5\n",
    "</pre>\n",
    "\n",
    "\n",
    "<pre>\n",
    "<u>Sample 5.2</u>\n",
    "\n",
    "print(PremiumDish(8, 0.75, 11).total_price())\n",
    "\n",
    "Expected output:\n",
    "17.0\n",
    "</pre>"
   ]
  },
  {
   "cell_type": "code",
   "execution_count": 26,
   "id": "210007bf",
   "metadata": {},
   "outputs": [],
   "source": [
    "class Dish:\n",
    "    def __init__(self, amount, base_price):\n",
    "        self.amount = amount\n",
    "        self.price = base_price\n",
    "\n",
    "    def total_price(self):\n",
    "        return self.amount * self.price\n",
    "\n",
    "\n",
    "class PremiumDish(Dish):\n",
    "    def __init__(self, amount, base_price, premium):\n",
    "        ### Your code here ###\n",
    "\n",
    "        \n",
    "    def total_price(self):\n",
    "        ### Your code here ###\n",
    "\n"
   ]
  },
  {
   "cell_type": "code",
   "execution_count": 27,
   "id": "f61532f8",
   "metadata": {},
   "outputs": [
    {
     "name": "stdout",
     "output_type": "stream",
     "text": [
      "5.4\n"
     ]
    }
   ],
   "source": [
    "## Open Test-case 5.1\n",
    "\n",
    "print(PremiumDish(6, 0.4, 3).total_price())"
   ]
  },
  {
   "cell_type": "code",
   "execution_count": 28,
   "id": "fa75ad95",
   "metadata": {},
   "outputs": [
    {
     "name": "stdout",
     "output_type": "stream",
     "text": [
      "6.5\n"
     ]
    }
   ],
   "source": [
    "## Open Test-case 5.2\n",
    "\n",
    "print(PremiumDish(5, 0.5, 4).total_price())"
   ]
  },
  {
   "cell_type": "markdown",
   "id": "828cc998",
   "metadata": {},
   "source": [
    "## Question 6\n",
    "\n",
    "Joe is a physical fitness instructor organizing the annual physical fitness test, called IPPT. To do so, he designs a class named ```IPPT```, which contains a single attribute ```log```. This class is used to record the collated daily repititions of the three available ippt stations, 'situp', 'pushup' and '2.4run', so that at the end of the day, he can tally this with the machine's readings to see if anyone cheated. Complete the ```add_record``` and ```check``` methods for him.\n",
    "\n",
    "The ```add_record``` method should take in ```list_of_tuples``` and update ```self.log``` appropriately. ```list_of_tuples``` is a list of tuples. Each tuple comprises two elements, the first is a string ('situp', 'pushup', or '2.4run'), and the second is a float (representing the number of reps recorded). Examples are given in the sample and test cases.\n",
    "\n",
    "The ```check``` method should take in a ```category``` (a string - either 'situp', 'pushup', or '2.4run') and return the total amount of reps done for that category.\n",
    "\n",
    "It is guaranteed that in all test cases, the strings within `list_of_tuples` and `category` will strictly be either 'situp', 'pushup' or '2.4run'. However, you are NOT allowed to modify or add any methods or attributes except for within ```add_record``` and ```check```."
   ]
  },
  {
   "cell_type": "markdown",
   "id": "aedabc50",
   "metadata": {},
   "source": [
    "<pre>\n",
    "<u>Sample 6.1</u>\n",
    "\n",
    "ippt2024 = IPPT()\n",
    "ippt2024.add_record([('pushup', 10), ('situp', 5)])\n",
    "ippt2024.add_record([('situp', 10), ('situp', 3)])\n",
    "ippt2024.check('situp')\n",
    "\n",
    "Expected output:\n",
    "18\n",
    "</pre>\n",
    "\n",
    "\n",
    "<pre>\n",
    "<u>Sample 6.2</u>\n",
    "\n",
    "ippt2024 = IPPT()\n",
    "ippt2024.add_record([('pushup', 10), ('situp', 5)])\n",
    "ippt2024.add_record([('situp', 10), ('situp', 3)])\n",
    "ippt2024.check('2.4run')\n",
    "\n",
    "Expected output:\n",
    "0\n",
    "</pre>"
   ]
  },
  {
   "cell_type": "code",
   "execution_count": 15,
   "id": "b175d7d2",
   "metadata": {},
   "outputs": [],
   "source": [
    "class IPPT:\n",
    "    def __init__(self):\n",
    "        self.log = {}\n",
    "\n",
    "    def add_record(self, list_of_tuples):\n",
    "        ### Your code here ###\n",
    "\n",
    "        \n",
    "    def check(self, category):\n",
    "        ### Your code here ###\n",
    "\n"
   ]
  },
  {
   "cell_type": "code",
   "execution_count": 16,
   "id": "95f119ba",
   "metadata": {},
   "outputs": [
    {
     "data": {
      "text/plain": [
       "19.4"
      ]
     },
     "execution_count": 16,
     "metadata": {},
     "output_type": "execute_result"
    }
   ],
   "source": [
    "## Open Test-case 6.1\n",
    "\n",
    "ippt2024 = IPPT()\n",
    "ippt2024.add_record([('pushup', 10)])\n",
    "ippt2024.add_record([('pushup', 10), ('situp', 20), ('2.4run', 9.3)])\n",
    "ippt2024.add_record([('2.4run', 10.1)])\n",
    "ippt2024.check('2.4run')"
   ]
  },
  {
   "cell_type": "code",
   "execution_count": 17,
   "id": "65e2a840",
   "metadata": {},
   "outputs": [
    {
     "data": {
      "text/plain": [
       "0"
      ]
     },
     "execution_count": 17,
     "metadata": {},
     "output_type": "execute_result"
    }
   ],
   "source": [
    "## Open Test-case 6.2\n",
    "\n",
    "ippt2024 = IPPT()\n",
    "ippt2024.add_record([('pushup', 10)])\n",
    "ippt2024.add_record([('pushup', 10), ('2.4run', 9.3)])\n",
    "ippt2024.add_record([('pushup', 10)])\n",
    "ippt2024.check('situp')"
   ]
  }
 ],
 "metadata": {
  "kernelspec": {
   "display_name": "Python 3 (ipykernel)",
   "language": "python",
   "name": "python3"
  },
  "language_info": {
   "codemirror_mode": {
    "name": "ipython",
    "version": 3
   },
   "file_extension": ".py",
   "mimetype": "text/x-python",
   "name": "python",
   "nbconvert_exporter": "python",
   "pygments_lexer": "ipython3",
   "version": "3.11.7"
  }
 },
 "nbformat": 4,
 "nbformat_minor": 5
}
